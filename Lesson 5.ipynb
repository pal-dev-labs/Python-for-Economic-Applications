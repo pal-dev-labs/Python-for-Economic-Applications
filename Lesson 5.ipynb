{
 "cells": [
  {
   "cell_type": "code",
   "execution_count": null,
   "id": "b935c192",
   "metadata": {},
   "outputs": [],
   "source": []
  },
  {
   "cell_type": "markdown",
   "id": "c0155b59",
   "metadata": {},
   "source": [
    "# THE PANDAS LIBRARY\n",
    "In previous lessons we saw the NumPy library and the ndarray type which allows us to effectively manipulate arrays of numbers. Pandas is a newer library, based on NumPy, that provides a new object type, the **DataFrame**.  \n",
    "DataFrames are essentially multidimensional matrices which however have \"labels\" on the rows and columns and can host heterogeneous types (numpy ndarrays can host data of the same type) and/or missing data. DataFrames are therefore convenient for managing data.\n",
    "\n",
    "Let's now import the Pandas library"
   ]
  },
  {
   "cell_type": "code",
   "execution_count": null,
   "id": "bfc7ef59",
   "metadata": {
    "tags": []
   },
   "outputs": [],
   "source": [
    "import pandas as pd"
   ]
  },
  {
   "cell_type": "markdown",
   "id": "478caa16",
   "metadata": {},
   "source": [
    "# DATABASES\n",
    "The Pandas library allows you to manipulate databases.\n",
    "We can create databases directly, as we did with the creation of Numpy arrays, but let's try to import an existing database into Pandas.\n",
    "\n",
    "In particular, we will import the data from a file that contains the details of the earthquakes that occurred between -2150 BC. and 2023 AD. This file contains various information about earthquakes such as geographic location, time of occurrence, number of people killed, injured, description of damage, and houses destroyed. Since there is historical data in the file, the first incomplete data.\n",
    "\n",
    "### SOURCES\n",
    "National Geophysical Data Center / World Data Service (NGDC/WDS): NCEI/WDS Global Significant Earthquake Database. NOAA National Centers for Environmental Information. doi:10.7289/V5TD9V7K\n",
    "\n",
    "Downloadable from:\n",
    "https://www.kaggle.com/\n",
    "\n",
    "### FILE FORMAT\n",
    "The file format is CSV which represents one of the simplest ways to represent data in tabular form within a simple text file."
   ]
  },
  {
   "cell_type": "code",
   "execution_count": null,
   "id": "cc3fab42",
   "metadata": {
    "tags": []
   },
   "outputs": [],
   "source": [
    "# Loading file CSV\n",
    "url = 'https://raw.githubusercontent.com/pal-dev-labs/Python-for-Economic-Applications/main/Data/earthquakes.csv'\n",
    "df = pd.read_csv(url)"
   ]
  },
  {
   "cell_type": "code",
   "execution_count": null,
   "id": "197d9a22",
   "metadata": {
    "tags": []
   },
   "outputs": [],
   "source": [
    "type(df)"
   ]
  },
  {
   "cell_type": "markdown",
   "id": "49e6d9bc",
   "metadata": {},
   "source": [
    "# We note the DATAFRAME type:  \n",
    "it is the fundamental object of the PANDAS library"
   ]
  },
  {
   "cell_type": "code",
   "execution_count": null,
   "id": "0fa243cb",
   "metadata": {
    "tags": []
   },
   "outputs": [],
   "source": [
    "# let's have a look\n",
    "df"
   ]
  },
  {
   "cell_type": "markdown",
   "id": "93bc3a58",
   "metadata": {},
   "source": [
    "The DataFrame has an index attribute that gives access to the ROWS"
   ]
  },
  {
   "cell_type": "code",
   "execution_count": null,
   "id": "34d2472d",
   "metadata": {
    "tags": []
   },
   "outputs": [],
   "source": [
    "df.index"
   ]
  },
  {
   "cell_type": "markdown",
   "id": "225206f2",
   "metadata": {},
   "source": [
    "The DataFrame has a columns attribute that gives access to COLUMNS"
   ]
  },
  {
   "cell_type": "code",
   "execution_count": null,
   "id": "2d953dc5",
   "metadata": {
    "tags": []
   },
   "outputs": [],
   "source": [
    "df.columns\n"
   ]
  },
  {
   "cell_type": "markdown",
   "id": "fc246533-7352-4bb4-b9a9-3d7179271581",
   "metadata": {},
   "source": [
    "While with Numpy we cannot add \"Labels\" to rows and columns, with Pandas it is possible.\n"
   ]
  },
  {
   "cell_type": "code",
   "execution_count": null,
   "id": "5add3b0a",
   "metadata": {
    "tags": []
   },
   "outputs": [],
   "source": [
    "# refer to columns by their name\n",
    "aa = df[['Mag', 'Deaths']]\n",
    "\n",
    "# we change all na value with 0\n",
    "aa.fillna(0)\n",
    "\n",
    "# plot the pair (Mag, Deaths)\n",
    "import matplotlib.pyplot as plt\n",
    "plt.plot(aa['Mag'],aa['Deaths'],'o')\n",
    "plt.ylim(0,7000)\n",
    "plt.xlabel('Mag')\n",
    "plt.ylabel('Deaths')\n"
   ]
  },
  {
   "cell_type": "markdown",
   "id": "aa7a8c7e",
   "metadata": {},
   "source": [
    "Let's try changing the label of the rows"
   ]
  },
  {
   "cell_type": "code",
   "execution_count": null,
   "id": "e1ff40d2",
   "metadata": {
    "tags": []
   },
   "outputs": [],
   "source": [
    "# the following commands are a bit complicated, for now just run them\n",
    "\n",
    "new_index = [f'T_{i}' for i in range(len(df.index))]\n",
    "df = df.rename(index=dict(zip(df.index, new_index)))"
   ]
  },
  {
   "cell_type": "code",
   "execution_count": null,
   "id": "4aabf1ee",
   "metadata": {
    "tags": []
   },
   "outputs": [],
   "source": [
    "# let's now observe how each row has a different label\n",
    "df"
   ]
  },
  {
   "cell_type": "markdown",
   "id": "9b77cf7e",
   "metadata": {},
   "source": [
    "# How can we have an overall view of our table?"
   ]
  },
  {
   "cell_type": "code",
   "execution_count": null,
   "id": "d7dc9992",
   "metadata": {
    "tags": []
   },
   "outputs": [],
   "source": [
    "df.info()"
   ]
  },
  {
   "cell_type": "code",
   "execution_count": null,
   "id": "065f34db",
   "metadata": {},
   "outputs": [],
   "source": []
  },
  {
   "cell_type": "code",
   "execution_count": null,
   "id": "15220b93",
   "metadata": {
    "tags": []
   },
   "outputs": [],
   "source": [
    "# Let's try to extract a COLUMN\n",
    "df['Year']"
   ]
  },
  {
   "cell_type": "code",
   "execution_count": null,
   "id": "af8d4452",
   "metadata": {
    "tags": []
   },
   "outputs": [],
   "source": [
    "# Let's try to extract two COLUMNS\n",
    "\n",
    "df[['Location Name','Year']]"
   ]
  },
  {
   "cell_type": "code",
   "execution_count": null,
   "id": "ab38e976",
   "metadata": {},
   "outputs": [],
   "source": []
  },
  {
   "cell_type": "markdown",
   "id": "d10c5cc9",
   "metadata": {},
   "source": [
    "Let's be careful not to get confused with ndarrays"
   ]
  },
  {
   "cell_type": "code",
   "execution_count": null,
   "id": "c9607343",
   "metadata": {
    "tags": []
   },
   "outputs": [],
   "source": [
    "a = np.random.randint(0,100, (10,10))\n",
    "a[0]\n",
    "# in this case I extract the first line"
   ]
  },
  {
   "cell_type": "markdown",
   "id": "370c8cc7",
   "metadata": {},
   "source": [
    "How can we access a single element of the DataFrame?  \n",
    "As with ndarrays we can use the [x,y] notation, using the iloc method.   \n",
    "Remember that the numbering starts from [0,0]"
   ]
  },
  {
   "cell_type": "code",
   "execution_count": null,
   "id": "eb842173",
   "metadata": {
    "tags": []
   },
   "outputs": [],
   "source": [
    "df.iloc[1,0]"
   ]
  },
  {
   "cell_type": "markdown",
   "id": "7d363394",
   "metadata": {},
   "source": [
    "We can use [:,1:4] slicing"
   ]
  },
  {
   "cell_type": "code",
   "execution_count": null,
   "id": "8518863d",
   "metadata": {
    "tags": []
   },
   "outputs": [],
   "source": [
    "# extract second row\n",
    "df.iloc[5500,:]"
   ]
  },
  {
   "cell_type": "code",
   "execution_count": null,
   "id": "58452088",
   "metadata": {
    "tags": []
   },
   "outputs": [],
   "source": [
    "# we extract the ninth column\n",
    "df.iloc[:,8]"
   ]
  },
  {
   "cell_type": "code",
   "execution_count": null,
   "id": "b02826b8",
   "metadata": {
    "tags": []
   },
   "outputs": [],
   "source": [
    "# we extract from the 3rd to the 7th row and from the 9th to the 10th column\n",
    "df.iloc[2:6,8:10]"
   ]
  },
  {
   "cell_type": "code",
   "execution_count": null,
   "id": "5b7a6803",
   "metadata": {
    "tags": []
   },
   "outputs": [],
   "source": [
    "df.iloc[[2,5,7],[3,4,9]]"
   ]
  },
  {
   "cell_type": "markdown",
   "id": "56c2c0e0",
   "metadata": {},
   "source": [
    "Posso anche utilizzare le label delle colonne"
   ]
  },
  {
   "cell_type": "code",
   "execution_count": null,
   "id": "0aa2bf61",
   "metadata": {
    "tags": []
   },
   "outputs": [],
   "source": [
    "# I can also use column labels\n",
    "df['Latitude'][1:3]"
   ]
  },
  {
   "cell_type": "markdown",
   "id": "77be56c1",
   "metadata": {},
   "source": [
    "The dataframe columns are also FIELDs of the dataframe object.\n",
    "We can then use the df.fields command"
   ]
  },
  {
   "cell_type": "code",
   "execution_count": null,
   "id": "36e41c1e",
   "metadata": {
    "tags": []
   },
   "outputs": [],
   "source": [
    "df.Latitude"
   ]
  },
  {
   "cell_type": "code",
   "execution_count": null,
   "id": "77bca2cc",
   "metadata": {},
   "outputs": [],
   "source": []
  },
  {
   "cell_type": "markdown",
   "id": "defb1458",
   "metadata": {},
   "source": [
    "## NOW YOU TRY IT\n",
    "- Extract the rows from 1500 to 1520 from the table\n",
    "- Extract the 'Latitude' and 'Death' columns from the table\n",
    "- Extract rows 4500 to 4700 of the 'Latitude' and 'Death' columns\n",
    "- Extract all rows from the 4th column to the end\n",
    "- extracts all the information corresponding to line 4200"
   ]
  },
  {
   "cell_type": "code",
   "execution_count": null,
   "id": "db48670c",
   "metadata": {},
   "outputs": [],
   "source": []
  },
  {
   "cell_type": "code",
   "execution_count": null,
   "id": "ede41f26",
   "metadata": {},
   "outputs": [],
   "source": []
  },
  {
   "cell_type": "markdown",
   "id": "b866ae3a",
   "metadata": {},
   "source": [
    "## Let's now see how to run filters on the dataframe to extract some information from the table"
   ]
  },
  {
   "cell_type": "code",
   "execution_count": null,
   "id": "3efaa04e",
   "metadata": {
    "tags": []
   },
   "outputs": [],
   "source": [
    "df.columns"
   ]
  },
  {
   "cell_type": "code",
   "execution_count": null,
   "id": "9d454f90",
   "metadata": {},
   "outputs": [],
   "source": []
  },
  {
   "cell_type": "code",
   "execution_count": null,
   "id": "6c8b8bc4",
   "metadata": {
    "tags": []
   },
   "outputs": [],
   "source": [
    "# Let's try to take just one column\n",
    "year = df['Year']"
   ]
  },
  {
   "cell_type": "code",
   "execution_count": null,
   "id": "3d568974",
   "metadata": {
    "tags": []
   },
   "outputs": [],
   "source": [
    "year"
   ]
  },
  {
   "cell_type": "code",
   "execution_count": null,
   "id": "28ce67e1",
   "metadata": {},
   "outputs": [],
   "source": []
  },
  {
   "cell_type": "code",
   "execution_count": null,
   "id": "b9536c75",
   "metadata": {
    "tags": []
   },
   "outputs": [],
   "source": [
    "\n",
    "# Let's look at the type of a column\n",
    "type(year)"
   ]
  },
  {
   "cell_type": "markdown",
   "id": "dbfe998a",
   "metadata": {},
   "source": [
    "## The type of a single column is **Series**"
   ]
  },
  {
   "cell_type": "markdown",
   "id": "45cf8bfe",
   "metadata": {},
   "source": [
    "## we need only ten LINES"
   ]
  },
  {
   "cell_type": "code",
   "execution_count": null,
   "id": "ca76a206",
   "metadata": {
    "tags": []
   },
   "outputs": [],
   "source": [
    "# we extract ten LINES\n",
    "b = year.iloc[1000:1010]"
   ]
  },
  {
   "cell_type": "code",
   "execution_count": null,
   "id": "dc6ed33d",
   "metadata": {
    "tags": []
   },
   "outputs": [],
   "source": [
    "b"
   ]
  },
  {
   "cell_type": "markdown",
   "id": "5c3ad1dd",
   "metadata": {},
   "source": [
    "## I want to check which rows have the value 1677"
   ]
  },
  {
   "cell_type": "code",
   "execution_count": null,
   "id": "872e5084",
   "metadata": {
    "tags": []
   },
   "outputs": [],
   "source": [
    "b == 1677"
   ]
  },
  {
   "cell_type": "markdown",
   "id": "edd78d1c",
   "metadata": {},
   "source": [
    "# I notice that the check returns TRUE on every line in which the condition is verified.\n",
    "\n",
    "## I can also use expressions of logical operators"
   ]
  },
  {
   "cell_type": "code",
   "execution_count": null,
   "id": "1b9d54eb",
   "metadata": {},
   "outputs": [],
   "source": []
  },
  {
   "cell_type": "code",
   "execution_count": null,
   "id": "fb5ba178",
   "metadata": {
    "tags": []
   },
   "outputs": [],
   "source": [
    "b "
   ]
  },
  {
   "cell_type": "code",
   "execution_count": null,
   "id": "136e09e0",
   "metadata": {
    "tags": []
   },
   "outputs": [],
   "source": [
    "(1676 < b) & (b < 1678)"
   ]
  },
  {
   "cell_type": "code",
   "execution_count": null,
   "id": "30f64c7e",
   "metadata": {},
   "outputs": [],
   "source": []
  },
  {
   "cell_type": "markdown",
   "id": "1b7b1973",
   "metadata": {},
   "source": [
    "## The interesting thing is that if I apply the filter to the entire dataframe, I get the filter on the table"
   ]
  },
  {
   "cell_type": "code",
   "execution_count": null,
   "id": "dc2dd8fe",
   "metadata": {
    "tags": []
   },
   "outputs": [],
   "source": [
    "year = df['Year']\n",
    "filter1 = year == 2023"
   ]
  },
  {
   "cell_type": "code",
   "execution_count": null,
   "id": "f02c622e",
   "metadata": {
    "tags": []
   },
   "outputs": [],
   "source": [
    "filter1"
   ]
  },
  {
   "cell_type": "code",
   "execution_count": null,
   "id": "e05c706d",
   "metadata": {
    "tags": []
   },
   "outputs": [],
   "source": [
    "df_filtered = df[filter1]\n",
    "df_filtered"
   ]
  },
  {
   "cell_type": "code",
   "execution_count": null,
   "id": "b722c521",
   "metadata": {},
   "outputs": [],
   "source": []
  },
  {
   "cell_type": "code",
   "execution_count": null,
   "id": "99d7406f",
   "metadata": {},
   "outputs": [],
   "source": []
  },
  {
   "cell_type": "markdown",
   "id": "9fcd2fdb",
   "metadata": {},
   "source": [
    "## We can also use a more compact syntax"
   ]
  },
  {
   "cell_type": "code",
   "execution_count": null,
   "id": "ddc8781c",
   "metadata": {
    "tags": []
   },
   "outputs": [],
   "source": [
    "df_filtered = df[df['Year']==1677]\n",
    "df_filtered"
   ]
  },
  {
   "cell_type": "code",
   "execution_count": null,
   "id": "c9579e1f",
   "metadata": {
    "tags": []
   },
   "outputs": [],
   "source": [
    "#  and operator\n",
    "df_filtered = df[(df['Year']>1675)&(df['Year']<1680)]\n",
    "df_filtered"
   ]
  },
  {
   "cell_type": "code",
   "execution_count": null,
   "id": "353ca5a7",
   "metadata": {
    "tags": []
   },
   "outputs": [],
   "source": [
    "#  OR operator\n",
    "df_filtered = df[(df['Year']==1677) | (df['Year']==1679)]\n",
    "df_filtered"
   ]
  },
  {
   "cell_type": "code",
   "execution_count": null,
   "id": "e07a4d31",
   "metadata": {},
   "outputs": [],
   "source": []
  },
  {
   "cell_type": "markdown",
   "id": "e257edf9",
   "metadata": {},
   "source": [
    "# NOW YOU TRY IT\n",
    "- Extract the rows for the year 1948 from the table\n",
    "- Extract the rows from the years 2000 to 2015 from the table\n",
    "- Extract from the table the rows that have a number of deaths (Death column) greater than 1000\n",
    "- Extract from the table the rows that have a number of deaths greater than 1000 between the years 2000 and 2015"
   ]
  },
  {
   "cell_type": "code",
   "execution_count": null,
   "id": "2b4958cd",
   "metadata": {},
   "outputs": [],
   "source": []
  },
  {
   "cell_type": "code",
   "execution_count": null,
   "id": "5516e9d0",
   "metadata": {
    "tags": []
   },
   "outputs": [],
   "source": [
    "#df1 = df[(df['Year']>2000) & (df['Year']<2024)]"
   ]
  },
  {
   "cell_type": "code",
   "execution_count": null,
   "id": "24afdde1",
   "metadata": {
    "tags": []
   },
   "outputs": [],
   "source": [
    "#df2 = df1[df['Deaths']>1000]"
   ]
  },
  {
   "cell_type": "code",
   "execution_count": null,
   "id": "74a3f3e3",
   "metadata": {},
   "outputs": [],
   "source": []
  },
  {
   "cell_type": "code",
   "execution_count": null,
   "id": "7f0e8cc3",
   "metadata": {
    "tags": []
   },
   "outputs": [],
   "source": [
    "df2[['Year','Deaths','Location Name']]"
   ]
  },
  {
   "cell_type": "code",
   "execution_count": null,
   "id": "24116f82",
   "metadata": {},
   "outputs": [],
   "source": []
  },
  {
   "cell_type": "markdown",
   "id": "775e92cb",
   "metadata": {},
   "source": [
    "## let's try with a country: I want to extract all the lines that refer to Italy"
   ]
  },
  {
   "cell_type": "code",
   "execution_count": null,
   "id": "4c616917",
   "metadata": {
    "tags": []
   },
   "outputs": [],
   "source": [
    "df['Location Name']"
   ]
  },
  {
   "cell_type": "markdown",
   "id": "846e01b7",
   "metadata": {},
   "source": [
    "## It seems more complicated because we are dealing with strings"
   ]
  },
  {
   "cell_type": "markdown",
   "id": "740eba1b",
   "metadata": {},
   "source": [
    "# Let's take a line for example"
   ]
  },
  {
   "cell_type": "code",
   "execution_count": null,
   "id": "9b1e8799",
   "metadata": {
    "tags": []
   },
   "outputs": [],
   "source": [
    "# I take the contents of row 1000 of the 'Location Name' column\n",
    "\n",
    "stringa = df['Location Name'][1000]"
   ]
  },
  {
   "cell_type": "code",
   "execution_count": null,
   "id": "c0c8769e",
   "metadata": {
    "tags": []
   },
   "outputs": [],
   "source": [
    "stringa"
   ]
  },
  {
   "cell_type": "code",
   "execution_count": null,
   "id": "ad750bf1",
   "metadata": {
    "tags": []
   },
   "outputs": [],
   "source": [
    "type(stringa)"
   ]
  },
  {
   "cell_type": "markdown",
   "id": "435cc6d9",
   "metadata": {},
   "source": [
    "How do I check if a word is in the string? I use **in**"
   ]
  },
  {
   "cell_type": "code",
   "execution_count": null,
   "id": "90ea8012",
   "metadata": {},
   "outputs": [],
   "source": [
    "\"ECUADOR\" in stringa"
   ]
  },
  {
   "cell_type": "markdown",
   "id": "a1e87a4d",
   "metadata": {},
   "source": [
    "But it doesn't work with the dataframe"
   ]
  },
  {
   "cell_type": "code",
   "execution_count": null,
   "id": "84e72c6c",
   "metadata": {
    "tags": []
   },
   "outputs": [],
   "source": [
    "\"ECUADOR\" in df['Location Name']"
   ]
  },
  {
   "cell_type": "markdown",
   "id": "f57a80fc",
   "metadata": {},
   "source": [
    "I use the str.contains method"
   ]
  },
  {
   "cell_type": "code",
   "execution_count": null,
   "id": "edbe08f9",
   "metadata": {
    "tags": []
   },
   "outputs": [],
   "source": [
    "filtro_italy = df['Location Name'].str.contains(\"ITALY\")"
   ]
  },
  {
   "cell_type": "code",
   "execution_count": null,
   "id": "ef4eb023",
   "metadata": {
    "tags": []
   },
   "outputs": [],
   "source": [
    "filtro_italy"
   ]
  },
  {
   "cell_type": "markdown",
   "id": "df9f8472",
   "metadata": {},
   "source": [
    "It's still not good because we have NaN... But what is NaN?"
   ]
  },
  {
   "cell_type": "markdown",
   "id": "3d2c9a4b",
   "metadata": {},
   "source": [
    "## NaN: Not A Number\n",
    "\n",
    "The NaN value is used in Pandas to represent a missing value.\n",
    "There are several methods, among which we report:\n",
    "\n",
    "- ``isnull()``: creates a boolean mask highlighting the NaNs with True\n",
    "- ``notnull()``: the opposite of ``isnull()``\n",
    "- ``dropna()``: returns a filtered version of the dataframe without NaN\n",
    "- ``fillna()``: returns a copy of the dataframe with the NaN data replaced by other values"
   ]
  },
  {
   "cell_type": "code",
   "execution_count": null,
   "id": "b2301862",
   "metadata": {
    "tags": []
   },
   "outputs": [],
   "source": [
    "df.isnull()"
   ]
  },
  {
   "cell_type": "code",
   "execution_count": null,
   "id": "fbfff37c",
   "metadata": {
    "tags": []
   },
   "outputs": [],
   "source": [
    "df.fillna(\"0\")"
   ]
  },
  {
   "cell_type": "markdown",
   "id": "979b0c2e",
   "metadata": {},
   "source": [
    "## Now we can eliminate the NaNs by substituting a more tractable value. We put the string \"0\""
   ]
  },
  {
   "cell_type": "code",
   "execution_count": null,
   "id": "460d5fe7",
   "metadata": {
    "tags": []
   },
   "outputs": [],
   "source": [
    "newdf = df.fillna(\"0\")"
   ]
  },
  {
   "cell_type": "code",
   "execution_count": null,
   "id": "fea554f2",
   "metadata": {
    "tags": []
   },
   "outputs": [],
   "source": [
    "newdf"
   ]
  },
  {
   "cell_type": "markdown",
   "id": "9ec31eeb",
   "metadata": {},
   "source": [
    "## Now let's put the filter on the nation Italy"
   ]
  },
  {
   "cell_type": "code",
   "execution_count": null,
   "id": "8b7a1cc1",
   "metadata": {
    "tags": []
   },
   "outputs": [],
   "source": [
    "filtro_italy = newdf['Location Name'].str.contains(\"ITALY\")\n",
    "filtro_italy"
   ]
  },
  {
   "cell_type": "code",
   "execution_count": null,
   "id": "4199e824",
   "metadata": {
    "tags": []
   },
   "outputs": [],
   "source": [
    "earthquake_italy = newdf[filtro_italy]\n",
    "earthquake_italy.tail(30)"
   ]
  },
  {
   "cell_type": "markdown",
   "id": "195454b9",
   "metadata": {},
   "source": [
    "# NOW YOU TRY:\n",
    "- Extract from the table the earthquake in TURKEY (TURKEY)\n",
    "- Extract the earthquakes of 2023 from the table above"
   ]
  },
  {
   "cell_type": "code",
   "execution_count": null,
   "id": "b4872343-f23e-4bb7-8e87-7aa71ecfc7a8",
   "metadata": {},
   "outputs": [],
   "source": []
  },
  {
   "cell_type": "code",
   "execution_count": null,
   "id": "dcf3840b",
   "metadata": {
    "tags": []
   },
   "outputs": [],
   "source": [
    "#filtro_turkey= (newdf['Location Name'].str.contains(\"TURK\")) \n",
    "#newdf[filtro_turkey]['Year']\n"
   ]
  },
  {
   "cell_type": "code",
   "execution_count": null,
   "id": "4344e1a9",
   "metadata": {
    "tags": []
   },
   "outputs": [],
   "source": [
    "#tab_turchia=newdf[filtro_turkey]\n",
    "#tab_turchia[newdf['Year']==2023]\n"
   ]
  },
  {
   "cell_type": "code",
   "execution_count": null,
   "id": "e062de75",
   "metadata": {},
   "outputs": [],
   "source": []
  },
  {
   "cell_type": "markdown",
   "id": "529e9877",
   "metadata": {},
   "source": [
    "I want to calculate the total number of deaths due to an earthquake in Turkey"
   ]
  },
  {
   "cell_type": "code",
   "execution_count": null,
   "id": "b4bcec42",
   "metadata": {
    "tags": []
   },
   "outputs": [],
   "source": [
    "filtro_turkey= (newdf['Location Name'].str.contains(\"TURK\")) \n",
    "tab_turchia=newdf[filtro_turkey]\n",
    "a3= tab_turchia['Deaths']"
   ]
  },
  {
   "cell_type": "code",
   "execution_count": null,
   "id": "cbf4fd2a-bfca-489d-8643-49d065545713",
   "metadata": {
    "tags": []
   },
   "outputs": [],
   "source": [
    "a3"
   ]
  },
  {
   "cell_type": "code",
   "execution_count": null,
   "id": "714024c3",
   "metadata": {
    "tags": []
   },
   "outputs": [],
   "source": [
    "a3.sum()"
   ]
  },
  {
   "cell_type": "markdown",
   "id": "3ed604f5",
   "metadata": {},
   "source": [
    "We have an error because in the \"Deaths\" column we have numbers in string format. we have to convert them"
   ]
  },
  {
   "cell_type": "code",
   "execution_count": null,
   "id": "dd96cd20",
   "metadata": {
    "tags": []
   },
   "outputs": [],
   "source": [
    "tab_turchia['Deaths'][20]"
   ]
  },
  {
   "cell_type": "code",
   "execution_count": null,
   "id": "7ba732a8",
   "metadata": {
    "tags": []
   },
   "outputs": [],
   "source": [
    "aa4 =tab_turchia['Deaths'].astype(float) "
   ]
  },
  {
   "cell_type": "code",
   "execution_count": null,
   "id": "ee018fe7",
   "metadata": {
    "tags": []
   },
   "outputs": [],
   "source": [
    "aa4.sum()"
   ]
  },
  {
   "cell_type": "markdown",
   "id": "e117f44d",
   "metadata": {},
   "source": [
    "## I now want to plot the n. of deaths per year"
   ]
  },
  {
   "cell_type": "code",
   "execution_count": null,
   "id": "1b2a4f83",
   "metadata": {
    "tags": []
   },
   "outputs": [],
   "source": [
    "tab_turchia"
   ]
  },
  {
   "cell_type": "code",
   "execution_count": null,
   "id": "20a9116c",
   "metadata": {
    "tags": []
   },
   "outputs": [],
   "source": [
    "worktable = tab_turchia[['Year','Deaths']]"
   ]
  },
  {
   "cell_type": "code",
   "execution_count": null,
   "id": "688a9533",
   "metadata": {
    "tags": []
   },
   "outputs": [],
   "source": [
    "worktable"
   ]
  },
  {
   "cell_type": "code",
   "execution_count": null,
   "id": "edf88d2e",
   "metadata": {
    "tags": []
   },
   "outputs": [],
   "source": [
    "worktable.info()"
   ]
  },
  {
   "cell_type": "code",
   "execution_count": null,
   "id": "80af6464",
   "metadata": {
    "tags": []
   },
   "outputs": [],
   "source": [
    "# the columns are of type object. I convert them to float\n",
    "worktable['Deaths'] = worktable['Deaths'].astype(float)\n",
    "worktable['Year'] = worktable['Year'].astype(float)\n"
   ]
  },
  {
   "cell_type": "code",
   "execution_count": null,
   "id": "798d4c60",
   "metadata": {
    "tags": []
   },
   "outputs": [],
   "source": [
    "worktable.info()"
   ]
  },
  {
   "cell_type": "code",
   "execution_count": null,
   "id": "e33d45c8",
   "metadata": {
    "tags": []
   },
   "outputs": [],
   "source": [
    "worktable"
   ]
  },
  {
   "cell_type": "code",
   "execution_count": null,
   "id": "09bf2f9d-6553-4152-8b08-91fcff1acfe4",
   "metadata": {},
   "outputs": [],
   "source": []
  },
  {
   "cell_type": "markdown",
   "id": "8ff83448",
   "metadata": {},
   "source": [
    "## Now we can use the groupby command"
   ]
  },
  {
   "cell_type": "code",
   "execution_count": null,
   "id": "669ba0fa",
   "metadata": {
    "tags": []
   },
   "outputs": [],
   "source": [
    "work2 = worktable.groupby('Year')['Deaths'].sum()"
   ]
  },
  {
   "cell_type": "code",
   "execution_count": null,
   "id": "94954d98-a3b4-4843-8c48-bd329c9c3af3",
   "metadata": {},
   "outputs": [],
   "source": []
  },
  {
   "cell_type": "code",
   "execution_count": null,
   "id": "b05a01d3",
   "metadata": {
    "tags": []
   },
   "outputs": [],
   "source": [
    "work2"
   ]
  },
  {
   "cell_type": "code",
   "execution_count": null,
   "id": "f35e1e85",
   "metadata": {
    "tags": []
   },
   "outputs": [],
   "source": [
    "import matplotlib.pyplot as plt"
   ]
  },
  {
   "cell_type": "code",
   "execution_count": null,
   "id": "9ae8540c",
   "metadata": {},
   "outputs": [],
   "source": []
  },
  {
   "cell_type": "code",
   "execution_count": null,
   "id": "5c3ac939",
   "metadata": {
    "tags": []
   },
   "outputs": [],
   "source": [
    "# impostiamo una dimensione di 10 pollici di larghezza per 5 pollici di altezza\n",
    "plt.figure(figsize=(15,10))\n",
    "\n",
    "plt.plot(work2, 'o')\n",
    "\n",
    "plt.xlim(1900,2023)\n",
    "plt.ylim(0,15000)\n",
    "\n",
    "plt.xlabel('Year')\n",
    "plt.ylabel('Death')\n",
    "plt.title('Number of Deaths in Turkey')"
   ]
  },
  {
   "cell_type": "code",
   "execution_count": null,
   "id": "c68c0ea5-6597-45f8-aefd-be6e326678c3",
   "metadata": {},
   "outputs": [],
   "source": []
  },
  {
   "cell_type": "code",
   "execution_count": null,
   "id": "02e6ca5f-d061-436e-b931-0c68bbaf8f00",
   "metadata": {},
   "outputs": [],
   "source": []
  },
  {
   "cell_type": "code",
   "execution_count": null,
   "id": "6a9a524a",
   "metadata": {},
   "outputs": [],
   "source": []
  },
  {
   "cell_type": "markdown",
   "id": "1313353a-ff2d-41be-83ea-9d3e0ce90b9f",
   "metadata": {},
   "source": [
    "# FOOTBALL PLAYER SELECTION EXERCISE\n",
    "\n",
    "We will now use a dataset containing different attributes of the footballers\n",
    "\n",
    "<img src=\"fig/dataset.png\">\n",
    "\n",
    "\n",
    "https://sofifa.com/"
   ]
  },
  {
   "cell_type": "code",
   "execution_count": null,
   "id": "fe0e5cbf",
   "metadata": {
    "tags": []
   },
   "outputs": [],
   "source": [
    "\n",
    "url = 'https://raw.githubusercontent.com/giandopal/Artificial-Intelligence-with-Python/main/data/players_20.csv'\n",
    "\n",
    "players = pd.read_csv(url)"
   ]
  },
  {
   "cell_type": "code",
   "execution_count": null,
   "id": "2e44fee7",
   "metadata": {
    "tags": []
   },
   "outputs": [],
   "source": [
    "players"
   ]
  },
  {
   "cell_type": "code",
   "execution_count": null,
   "id": "e25a85f9",
   "metadata": {
    "tags": []
   },
   "outputs": [],
   "source": [
    "players"
   ]
  },
  {
   "cell_type": "code",
   "execution_count": null,
   "id": "e9b46bc1",
   "metadata": {},
   "outputs": [],
   "source": []
  },
  {
   "cell_type": "code",
   "execution_count": null,
   "id": "d257ccdd",
   "metadata": {
    "tags": []
   },
   "outputs": [],
   "source": [
    "# we increase the number of visible columns\n",
    "pd.set_option('display.max_columns', None)"
   ]
  },
  {
   "cell_type": "code",
   "execution_count": null,
   "id": "50cfebea",
   "metadata": {
    "tags": []
   },
   "outputs": [],
   "source": [
    "players"
   ]
  },
  {
   "cell_type": "code",
   "execution_count": null,
   "id": "91deedbf-58f8-4ca6-89ef-e8cda9d20635",
   "metadata": {},
   "outputs": [],
   "source": []
  },
  {
   "cell_type": "code",
   "execution_count": null,
   "id": "3cfa46c5",
   "metadata": {
    "tags": []
   },
   "outputs": [],
   "source": [
    "players.columns.to_list()"
   ]
  },
  {
   "cell_type": "code",
   "execution_count": null,
   "id": "acc442b9-a426-4f1a-a060-8b1e7e91404a",
   "metadata": {},
   "outputs": [],
   "source": []
  },
  {
   "cell_type": "code",
   "execution_count": null,
   "id": "149ab5f5",
   "metadata": {
    "tags": []
   },
   "outputs": [],
   "source": [
    "players['nationality'].unique()"
   ]
  },
  {
   "cell_type": "code",
   "execution_count": null,
   "id": "d7f84e60",
   "metadata": {
    "tags": []
   },
   "outputs": [],
   "source": [
    "# how many nations do we have?\n",
    "elenco_nazioni = players['nationality'].unique()\n",
    "elenco_nazioni"
   ]
  },
  {
   "cell_type": "code",
   "execution_count": null,
   "id": "5785b413",
   "metadata": {
    "tags": []
   },
   "outputs": [],
   "source": [
    "type(elenco_nazioni)\n",
    "elenco_nazioni.shape"
   ]
  },
  {
   "cell_type": "code",
   "execution_count": null,
   "id": "2a52c25e",
   "metadata": {
    "tags": []
   },
   "outputs": [],
   "source": [
    "# how many nations are there (we have a ndarray)\n",
    "elenco_nazioni.shape"
   ]
  },
  {
   "cell_type": "code",
   "execution_count": null,
   "id": "a7ab40b6",
   "metadata": {
    "tags": []
   },
   "outputs": [],
   "source": [
    "players['nationality'].value_counts()"
   ]
  },
  {
   "cell_type": "code",
   "execution_count": null,
   "id": "b8bdd1f9",
   "metadata": {
    "tags": []
   },
   "outputs": [],
   "source": [
    "# how many players do we have for each country?\n",
    "giocatori_nazione = players['nationality'].value_counts()\n",
    "giocatori_nazione"
   ]
  },
  {
   "cell_type": "code",
   "execution_count": null,
   "id": "598a1b61-b9a7-468f-88a8-ade646dddbbd",
   "metadata": {},
   "outputs": [],
   "source": []
  },
  {
   "cell_type": "code",
   "execution_count": null,
   "id": "c0246c4a",
   "metadata": {
    "tags": []
   },
   "outputs": [],
   "source": [
    "giocatori_nazione[0:40].plot.bar()"
   ]
  },
  {
   "cell_type": "code",
   "execution_count": null,
   "id": "808dea3b",
   "metadata": {},
   "outputs": [],
   "source": []
  },
  {
   "cell_type": "code",
   "execution_count": null,
   "id": "6368dfce",
   "metadata": {
    "tags": []
   },
   "outputs": [],
   "source": [
    "giocatori_nazione[0:20].plot.bar()"
   ]
  },
  {
   "cell_type": "code",
   "execution_count": null,
   "id": "957d753a",
   "metadata": {
    "tags": []
   },
   "outputs": [],
   "source": [
    "giocatori_nazione.plot.pie()"
   ]
  },
  {
   "cell_type": "code",
   "execution_count": null,
   "id": "f487e7af",
   "metadata": {},
   "outputs": [],
   "source": []
  },
  {
   "cell_type": "markdown",
   "id": "5305ccbd-39c0-4a25-984e-c547e933625b",
   "metadata": {},
   "source": [
    "# NOW YOU TRY:\n",
    "- Print a bar diagram that highlights the number of player for each age (ages on the abscissae and the number of players on the ordinates\n",
    "- Print a Pie diagram that highlights the distribution of players in the Italian teams only"
   ]
  },
  {
   "cell_type": "code",
   "execution_count": null,
   "id": "470148a2-0f8e-4cb5-83e8-5f354a3ab2ea",
   "metadata": {},
   "outputs": [],
   "source": []
  },
  {
   "cell_type": "code",
   "execution_count": null,
   "id": "da0d3ed7-f3e7-4e63-b7b5-6f9783b72399",
   "metadata": {},
   "outputs": [],
   "source": []
  },
  {
   "cell_type": "code",
   "execution_count": null,
   "id": "48193b0b-0195-41e0-9333-fd3f36b0db27",
   "metadata": {},
   "outputs": [],
   "source": []
  },
  {
   "cell_type": "code",
   "execution_count": null,
   "id": "c9d8667a",
   "metadata": {
    "tags": []
   },
   "outputs": [],
   "source": [
    "#aa = players['age'].value_counts()\n",
    "#aa.plot.bar()"
   ]
  },
  {
   "cell_type": "code",
   "execution_count": null,
   "id": "b663f51e",
   "metadata": {
    "tags": []
   },
   "outputs": [],
   "source": [
    "#a1 = players[players['nationality']=='Italy']\n",
    "#a2 = a1['club'].value_counts()\n",
    "#a2.plot.pie()"
   ]
  },
  {
   "cell_type": "code",
   "execution_count": null,
   "id": "aa100a24",
   "metadata": {
    "tags": []
   },
   "outputs": [],
   "source": [
    "players.loc[0:10,'dob':'club']"
   ]
  },
  {
   "cell_type": "code",
   "execution_count": null,
   "id": "02f4cd90",
   "metadata": {
    "tags": []
   },
   "outputs": [],
   "source": [
    "players"
   ]
  },
  {
   "cell_type": "markdown",
   "id": "58993be9-bb27-41c0-88f8-0b463252cfed",
   "metadata": {},
   "source": [
    "## Let's try to create a **PIVOT** table\n",
    "\n",
    "A pivot table is an analytical and reporting tool necessary for creating summary tables. One of the main purposes of these tables is the organization of data, through an appropriate choice of the fields and elements that must compose it\n",
    "\n",
    "In Pandas we can use the command **pd.pivot_tables()**"
   ]
  },
  {
   "cell_type": "code",
   "execution_count": null,
   "id": "c935866c",
   "metadata": {
    "tags": []
   },
   "outputs": [],
   "source": [
    "# let's try to organize a table with groupings.\n",
    "# let's create an index using nationality and short name. In the respective cells we insert\n",
    "# as values for ages\n",
    "pd.pivot_table(players, index=['nationality','short_name'], values=['age'])\n",
    "                                                            "
   ]
  },
  {
   "cell_type": "code",
   "execution_count": null,
   "id": "8f62aa9e",
   "metadata": {},
   "outputs": [],
   "source": []
  },
  {
   "cell_type": "markdown",
   "id": "95bea22c-4d0a-48e8-8b33-178031388bc1",
   "metadata": {},
   "source": [
    "# Let's see the pivot_table command in detail\n",
    "\n",
    "\n",
    "https://pbpython.com/pandas-pivot-table-explained.html"
   ]
  },
  {
   "cell_type": "code",
   "execution_count": null,
   "id": "2f9f4b58",
   "metadata": {
    "tags": []
   },
   "outputs": [],
   "source": [
    "# let's try to also add the value of the salary (wage_eur)\n",
    "\n",
    "pd.pivot_table(players, index=['nationality','short_name'], values=['age','wage_eur'])"
   ]
  },
  {
   "cell_type": "code",
   "execution_count": null,
   "id": "a4a4d359-3336-4071-af25-62fea3671281",
   "metadata": {},
   "outputs": [],
   "source": []
  },
  {
   "cell_type": "code",
   "execution_count": null,
   "id": "65f3ae1d",
   "metadata": {
    "tags": []
   },
   "outputs": [],
   "source": [
    "# - I want to print the average ages by country in the cells\n",
    "\n",
    "pd.pivot_table(players, index=['nationality'], values=['age'], aggfunc=[np.mean])\n",
    "  "
   ]
  },
  {
   "cell_type": "code",
   "execution_count": null,
   "id": "93a350e0",
   "metadata": {
    "tags": []
   },
   "outputs": [],
   "source": [
    "# - I want to print in the cells the average ages for nations, the maximum age, the minimum age\n",
    "# and the sum of the ages\n",
    "\n",
    "pd.pivot_table(players, index=['nationality'], values=['age'], aggfunc=[np.mean, np.max,\n",
    "                np.min, np.sum])\n",
    "  "
   ]
  },
  {
   "cell_type": "code",
   "execution_count": null,
   "id": "5c8848c7",
   "metadata": {
    "tags": []
   },
   "outputs": [],
   "source": [
    "# let's try to extract the values for Italy\n",
    "pivot = pd.pivot_table(players, index=['nationality'], values=['age'], aggfunc=[np.mean, np.max,\n",
    "                np.min, np.sum])"
   ]
  },
  {
   "cell_type": "code",
   "execution_count": null,
   "id": "49e15828",
   "metadata": {
    "tags": []
   },
   "outputs": [],
   "source": [
    "pivot.loc['Italy']"
   ]
  },
  {
   "cell_type": "code",
   "execution_count": null,
   "id": "88474fa8",
   "metadata": {
    "tags": []
   },
   "outputs": [],
   "source": [
    "# Also in this case I can produce graphs"
   ]
  },
  {
   "cell_type": "code",
   "execution_count": null,
   "id": "dc7478c3",
   "metadata": {
    "tags": []
   },
   "outputs": [],
   "source": [
    "pivot2 = pd.pivot_table(players, index=['nationality'], values=['age'])\n",
    "pivot2"
   ]
  },
  {
   "cell_type": "code",
   "execution_count": null,
   "id": "126f8485",
   "metadata": {
    "tags": []
   },
   "outputs": [],
   "source": [
    "# sort\n",
    "pivot2 = pivot2.sort_values('age')\n",
    "pivot2"
   ]
  },
  {
   "cell_type": "code",
   "execution_count": null,
   "id": "9d3a141b",
   "metadata": {},
   "outputs": [],
   "source": []
  },
  {
   "cell_type": "code",
   "execution_count": null,
   "id": "926d68cb",
   "metadata": {
    "tags": []
   },
   "outputs": [],
   "source": [
    "# let's try to print the age value for each nation\n",
    "pivot2.plot.bar()"
   ]
  },
  {
   "cell_type": "markdown",
   "id": "e0bbae2a-d6d8-4b4b-9311-b9ba25674cc8",
   "metadata": {},
   "source": [
    "# Let's use histogram"
   ]
  },
  {
   "cell_type": "code",
   "execution_count": null,
   "id": "850b3c32",
   "metadata": {
    "tags": []
   },
   "outputs": [],
   "source": [
    "# we now print for each age how many players are that age\n",
    "pivot2.plot.hist(bins=100)"
   ]
  }
 ],
 "metadata": {
  "hide_input": false,
  "kernelspec": {
   "display_name": "Python 3 (ipykernel)",
   "language": "python",
   "name": "python3"
  },
  "language_info": {
   "codemirror_mode": {
    "name": "ipython",
    "version": 3
   },
   "file_extension": ".py",
   "mimetype": "text/x-python",
   "name": "python",
   "nbconvert_exporter": "python",
   "pygments_lexer": "ipython3",
   "version": "3.11.5"
  },
  "varInspector": {
   "cols": {
    "lenName": 16,
    "lenType": 16,
    "lenVar": 40
   },
   "kernels_config": {
    "python": {
     "delete_cmd_postfix": "",
     "delete_cmd_prefix": "del ",
     "library": "var_list.py",
     "varRefreshCmd": "print(var_dic_list())"
    },
    "r": {
     "delete_cmd_postfix": ") ",
     "delete_cmd_prefix": "rm(",
     "library": "var_list.r",
     "varRefreshCmd": "cat(var_dic_list()) "
    }
   },
   "types_to_exclude": [
    "module",
    "function",
    "builtin_function_or_method",
    "instance",
    "_Feature"
   ],
   "window_display": false
  }
 },
 "nbformat": 4,
 "nbformat_minor": 5
}
