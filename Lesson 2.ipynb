{
 "cells": [
  {
   "cell_type": "markdown",
   "id": "b394dab7-8205-489e-84e2-152ea80c577b",
   "metadata": {
    "tags": []
   },
   "source": [
    "# A QUICK RECAP\n",
    "\n",
    "- Everything in Python is an OBJECT. An Object is something that can store data (fields) and performs actions (methods). An object is stored in memory at a specific memory address\n",
    "- A VARIABLE in python is a pointer to the object. It stores only the memory address of the object\n",
    "- Each object has a TYPE. Python has many basic types (Boolean, Int, Float, Str, List)"
   ]
  },
  {
   "cell_type": "markdown",
   "id": "602ca476-4868-4830-a53a-35362deb9bb3",
   "metadata": {},
   "source": []
  },
  {
   "cell_type": "markdown",
   "id": "4a7c465a-7f8a-47ce-938e-ec777142aeee",
   "metadata": {
    "jp-MarkdownHeadingCollapsed": true,
    "tags": []
   },
   "source": [
    "## PYTHON FUNCTIONS\n",
    "In Python a function is a particular OBJECT that is able to receive in input one or more parameters, perform some actions and produce an output.\n",
    "There are 2 ways to create a function: by an explicit definition or by the mean of the anonymous functions"
   ]
  },
  {
   "cell_type": "markdown",
   "id": "e2e70e62-0bb3-4116-8561-803a8a1b7c89",
   "metadata": {},
   "source": [
    "## Create a function by definition\n",
    "Let's try to create $f(x) = 2x + 4$\n"
   ]
  },
  {
   "cell_type": "code",
   "execution_count": null,
   "id": "79381bd2-449a-4684-8874-78b87625920b",
   "metadata": {
    "tags": []
   },
   "outputs": [],
   "source": [
    "def f(x):    # we use the 'def' command followed by the name of the function; we also use () to specify input variables\n",
    "    y = 2 * x + 4  # we specify the form of the function\n",
    "                   # TAKE CARE: instructions are indented. It's python sintax to create a block of code\n",
    "    return y"
   ]
  },
  {
   "cell_type": "code",
   "execution_count": null,
   "id": "e3cf9c2e-ede1-4840-8405-0be67b39087b",
   "metadata": {
    "tags": []
   },
   "outputs": [],
   "source": [
    "f(7)"
   ]
  },
  {
   "cell_type": "code",
   "execution_count": null,
   "id": "11a642c6-7d94-4f4e-913b-1a6cce4af6da",
   "metadata": {
    "tags": []
   },
   "outputs": [],
   "source": [
    "#What type is this object?\n",
    "type(f)"
   ]
  },
  {
   "cell_type": "code",
   "execution_count": null,
   "id": "44c46e19-ff67-4aef-a081-113180c292aa",
   "metadata": {},
   "outputs": [],
   "source": []
  },
  {
   "cell_type": "code",
   "execution_count": null,
   "id": "0fb726f9-62cb-4d37-9093-0139a1579c8e",
   "metadata": {
    "tags": []
   },
   "outputs": [],
   "source": [
    "# Let's define functions with more variables\n",
    "def g(x,y):\n",
    "    z = 2 * x-3 *y\n",
    "    return z"
   ]
  },
  {
   "cell_type": "code",
   "execution_count": null,
   "id": "8d36bf2b-ee94-4326-bd3b-a77bff6740de",
   "metadata": {
    "tags": []
   },
   "outputs": [],
   "source": [
    "g(4,9)"
   ]
  },
  {
   "cell_type": "markdown",
   "id": "63df3550-fe1c-44e8-8ce3-a608ec863c1b",
   "metadata": {},
   "source": [
    "The nice thing in Python is that it manages automatically the type of the variable "
   ]
  },
  {
   "cell_type": "code",
   "execution_count": null,
   "id": "044f1452-ac78-4404-9611-5dccf5b32d3d",
   "metadata": {
    "tags": []
   },
   "outputs": [],
   "source": [
    "def sumvariable(x,y):\n",
    "    z = x+y\n",
    "   # print(\"The result of the operation is: \",z)\n",
    "    return z       # return is mandatory when you have to give back to the caller some results\n",
    "\n",
    "result = sumvariable(5,3)\n",
    "print(\"Result is: \", result)"
   ]
  },
  {
   "cell_type": "code",
   "execution_count": null,
   "id": "19d7222a-0c81-4ff8-bad9-a6b1cfcd0068",
   "metadata": {
    "tags": []
   },
   "outputs": [],
   "source": [
    "sumvariable(2,3)"
   ]
  },
  {
   "cell_type": "code",
   "execution_count": null,
   "id": "7bfeb266-f3a9-4465-80f2-a08871f397ab",
   "metadata": {
    "tags": []
   },
   "outputs": [],
   "source": [
    "sumvariable(\"Python \",\"Course\")"
   ]
  },
  {
   "cell_type": "markdown",
   "id": "727fb475-2de2-41d9-84f0-ff19cab7f387",
   "metadata": {},
   "source": [
    "Take care: objects created inside a function \"Leaves\" only there. You cannot access the value of internal variables from the outside (SCOPING)"
   ]
  },
  {
   "cell_type": "code",
   "execution_count": null,
   "id": "a19892f8-98d8-4d9c-9ffd-f8a91dba8a3c",
   "metadata": {},
   "outputs": [],
   "source": []
  },
  {
   "cell_type": "markdown",
   "id": "f74fec7f-6824-4e88-9e3e-3362300775b6",
   "metadata": {},
   "source": [
    "## Exercise 1: Calculate the Area of a Circle\n",
    "Write a Python function that takes the radius of a circle as a parameter and returns the area of the circle. \n",
    "\n",
    "You can use the math module for the value of π (math.pi)"
   ]
  },
  {
   "cell_type": "code",
   "execution_count": null,
   "id": "9ca5528c-3c9d-4535-bf0f-722edebc25f5",
   "metadata": {
    "tags": []
   },
   "outputs": [],
   "source": [
    "import math\n",
    "\n",
    "def calculate_circle_area(radius):\n",
    "    # Your code here\n",
    "    pass\n",
    "\n",
    "# Test the function\n",
    "radius = 5\n",
    "area = calculate_circle_area(radius)\n",
    "print(\"The area of the circle is: \",area)"
   ]
  },
  {
   "cell_type": "markdown",
   "id": "8d7ffd2b-d7d3-4d23-9c16-157458e1f1f3",
   "metadata": {},
   "source": [
    "## Exercise 2: Calculate the Area of a rectangle\n",
    "Write a Python function that takes the high and the base of a rectangle as a parameter and returns the area of the rectangle. \n"
   ]
  },
  {
   "cell_type": "code",
   "execution_count": null,
   "id": "e2ddf9d7-7712-46a4-a515-30f97fe8ee22",
   "metadata": {},
   "outputs": [],
   "source": []
  },
  {
   "cell_type": "markdown",
   "id": "dd23a3f6-3cac-43b0-b495-3da032d0d559",
   "metadata": {},
   "source": [
    "## Exercise 3\n",
    "- Define a function that receive a list of integer as input and return the same list, sorted from the lower to the higher\n",
    "(use the function sorted to sort a list)\n",
    "\n",
    "Write the code to test the function"
   ]
  },
  {
   "cell_type": "code",
   "execution_count": null,
   "id": "6871d90d-d3fd-491b-9520-3c1502031983",
   "metadata": {},
   "outputs": [],
   "source": []
  },
  {
   "cell_type": "code",
   "execution_count": null,
   "id": "2ea653d3-0538-40ce-83a7-e58520a4e55b",
   "metadata": {},
   "outputs": [],
   "source": []
  },
  {
   "cell_type": "markdown",
   "id": "7f5b904f-dd2f-446b-8795-4147bc24cc5e",
   "metadata": {
    "tags": []
   },
   "source": [
    "## ANONYMOUS FUNCTIONS\n",
    "We can create a function in a quicker way be means of the Anonymous Functions.  \n",
    "As everything in Python, Anonymous functions are also OBJECTS which can be referenced by a variable.  \n",
    "The instruction to create it is:  "
   ]
  },
  {
   "cell_type": "code",
   "execution_count": null,
   "id": "d568790a-256e-4c57-b580-f2e87b5e4ed6",
   "metadata": {
    "tags": []
   },
   "outputs": [],
   "source": [
    "# we associate to the input x the form 2x+3\n",
    "lambda x: 2*x+3"
   ]
  },
  {
   "cell_type": "code",
   "execution_count": null,
   "id": "3f93438e-aaa1-4609-908f-e8817fc5f73a",
   "metadata": {
    "tags": []
   },
   "outputs": [],
   "source": [
    "# let's check the type\n",
    "type(lambda x: 2*x+3)"
   ]
  },
  {
   "cell_type": "markdown",
   "id": "f84b443d-fc16-4c19-95df-05ad8bddf6e6",
   "metadata": {
    "tags": []
   },
   "source": [
    "Note that we created just an object of type function. We do not have a pointer to that object\n",
    "\n",
    "Python is a first-class functions programming language as it treats functions as first-class citizens (objects)."
   ]
  },
  {
   "cell_type": "markdown",
   "id": "4f90ce51-e6f1-48bb-bcf6-9c771b61efe9",
   "metadata": {},
   "source": [
    "We can create the pointer assigning the function to a variable. Better we can reference an object function with a variable.\n"
   ]
  },
  {
   "cell_type": "code",
   "execution_count": null,
   "id": "743b5cb1-c3bc-4d60-9a5f-8c8b78af8ea8",
   "metadata": {
    "tags": []
   },
   "outputs": [],
   "source": [
    "f1 = lambda x: 2*x+3\n",
    "# now we can call the funtion with the variable using ()\n",
    "f1(2)"
   ]
  },
  {
   "cell_type": "markdown",
   "id": "049780c1-a788-4cbd-a9aa-793ae3f611fe",
   "metadata": {},
   "source": [
    "First-class functions are a necessity for the functional programming style, in which the use of higher-order functions is a standard practice\n",
    "\n",
    "Treating functions as objects gives the chance to define a function that has as input parameter, a function (high order functions)"
   ]
  },
  {
   "cell_type": "code",
   "execution_count": null,
   "id": "e823fe81-38fc-4fc6-b16e-5ce4b2e093d9",
   "metadata": {
    "tags": []
   },
   "outputs": [],
   "source": [
    "# we can define functions with more input variables\n",
    "f2 = lambda x,y,z: x*y+3*z"
   ]
  },
  {
   "cell_type": "code",
   "execution_count": null,
   "id": "ab072581-5605-4da2-9463-254b605874fa",
   "metadata": {
    "tags": []
   },
   "outputs": [],
   "source": [
    "f2(3,4,5)"
   ]
  },
  {
   "cell_type": "code",
   "execution_count": null,
   "id": "9d1fde3f-bc12-4945-8e6c-6b3753245e7a",
   "metadata": {
    "tags": []
   },
   "outputs": [],
   "source": [
    "# Let's create a custom high order function: map2\n",
    "# note as in python we don't need to specify that there is a function in the input parameter\n",
    "\n",
    "def map2(function1,input1):  # this function has the first input parameter that is a function\n",
    "    temp = function1(input1)  # we use the function notation here, using ()\n",
    "    return temp"
   ]
  },
  {
   "cell_type": "code",
   "execution_count": null,
   "id": "a5fa45d3-1831-4cd9-9da1-f64ccf9b0b98",
   "metadata": {
    "tags": []
   },
   "outputs": [],
   "source": [
    "map2(lambda x: 4*x,2)  # we call the high order function map2 with a function as parameter"
   ]
  },
  {
   "cell_type": "code",
   "execution_count": null,
   "id": "4a8d2cf2-bcf0-4bd5-a99e-9199efa2dff3",
   "metadata": {
    "tags": []
   },
   "outputs": [],
   "source": [
    "map2(lambda x: 5*x,2) "
   ]
  },
  {
   "cell_type": "markdown",
   "id": "32a62793-f394-4891-8b69-c8637cdd1b4c",
   "metadata": {},
   "source": [
    "A practical example: the use of the built in high order function **map**"
   ]
  },
  {
   "cell_type": "code",
   "execution_count": null,
   "id": "fa4df887-ac0a-48a7-91d1-57631b1c8d18",
   "metadata": {
    "tags": []
   },
   "outputs": [],
   "source": [
    "\n",
    "a=[1,2,3,4,5]\n",
    "# we use the built in function map that takes as first argument a FUNCTION \n",
    "# take care of the anonymous function we use in it\n",
    "\n",
    "b=map(lambda x: x*4,a)\n",
    "list(b)   # function list is necessary to print b"
   ]
  },
  {
   "cell_type": "markdown",
   "id": "38e631a2-d328-40f1-8be6-345bffb16386",
   "metadata": {
    "tags": []
   },
   "source": [
    "import requests\n",
    "from IPython.display import Image# EXERCISE\n",
    "\n",
    "Try to execute all the cells of the notebook"
   ]
  },
  {
   "cell_type": "code",
   "execution_count": null,
   "id": "ef91b170-ef61-464e-a715-e2f49e93dabc",
   "metadata": {},
   "outputs": [],
   "source": []
  },
  {
   "cell_type": "markdown",
   "id": "556390ee-1aeb-4401-98c3-3356c6942a03",
   "metadata": {},
   "source": [
    "## Exercise 4: Add Two Numbers\n",
    "Write a Python program that defines an anonymous function to add two numbers.  \n",
    "Test the function"
   ]
  },
  {
   "cell_type": "code",
   "execution_count": null,
   "id": "3eda9a66-5520-424c-9a64-4787d6f94cf8",
   "metadata": {
    "tags": []
   },
   "outputs": [],
   "source": []
  },
  {
   "cell_type": "markdown",
   "id": "7e3178bf-1aa5-434f-97b1-f5c8954ae56a",
   "metadata": {},
   "source": [
    "## Exercise 5\n",
    "- Use map function to square each element of a list of integer numbers\n"
   ]
  },
  {
   "cell_type": "code",
   "execution_count": null,
   "id": "f5997d8d-2b51-4e8a-975f-8d835d3d8288",
   "metadata": {
    "tags": []
   },
   "outputs": [],
   "source": []
  },
  {
   "cell_type": "markdown",
   "id": "3a95adcc-a21e-4793-b257-b1fdbb13eab2",
   "metadata": {
    "tags": []
   },
   "source": [
    "# Control Structures: IF statement"
   ]
  },
  {
   "cell_type": "markdown",
   "id": "0c2ceaff-c978-4e4f-b40d-060de89f8ee8",
   "metadata": {},
   "source": [
    "## Recap: Comparison Operations\n",
    "\n",
    "Another type of operation which can be very useful is comparison of different values.\n",
    "For this, Python implements standard comparison operators, which return Boolean values ``True`` and ``False``.\n",
    "The comparison operations are listed in the following table:\n",
    "\n",
    "| ``a == b``| ``a`` equal to ``b``      \n",
    "| ``a != b`` | ``a`` not equal to ``b``             \n",
    "| ``a < b``| ``a`` less than ``b``         \n",
    "| ``a > b``| ``a`` greater than ``b``             \n",
    "| ``a <= b``| ``a`` less than or equal to ``b``\n",
    "|``a >= b`` | ``a`` greater than or equal to ``b``\n",
    "\n",
    "\n",
    "\n",
    "These comparison operators can be combined with the arithmetic and bitwise operators to express a virtually limitless range of tests for the numbers.\n",
    "For example, we can check if a number is odd by checking that the modulus with 2 returns 1:"
   ]
  },
  {
   "cell_type": "markdown",
   "id": "547511eb-3d68-4e4d-a714-6b6df56c80ae",
   "metadata": {
    "tags": []
   },
   "source": [
    "# Control Structures: IF statement"
   ]
  },
  {
   "cell_type": "markdown",
   "id": "7a8138ac-7965-43b4-b2b1-1f6b53170c8a",
   "metadata": {},
   "source": [
    "A program is a list of instructions that are executed sequentially. With control flow, you can execute certain blocks of code **CONDITIONALLY** and/or **REPEATEDLY** - these basic blocks can be combined to create very sophisticated programs"
   ]
  },
  {
   "cell_type": "code",
   "execution_count": null,
   "id": "3db3a970-834a-42ad-b08f-f42adde9d28d",
   "metadata": {},
   "outputs": [],
   "source": []
  },
  {
   "cell_type": "markdown",
   "id": "76d1aeec-b27b-403d-a30d-f726d6c3a9c8",
   "metadata": {},
   "source": [
    "## Conditional Statements: ``if``-``elif``-``else``:\n",
    "Conditional statements, often called *if-then* statements, allow the programmer to execute certain pieces of code depending on some Boolean condition.\n",
    "A basic example of a Python conditional statement is this:"
   ]
  },
  {
   "cell_type": "code",
   "execution_count": null,
   "id": "30662f72-0020-4c67-833c-843836599e7c",
   "metadata": {
    "tags": []
   },
   "outputs": [],
   "source": [
    "# the comparison operator < gives back a boolean value (True or False)\n",
    "x=1\n",
    "x<0"
   ]
  },
  {
   "cell_type": "code",
   "execution_count": null,
   "id": "d657132c-99d6-401c-9b6a-041af09da72a",
   "metadata": {
    "tags": []
   },
   "outputs": [],
   "source": [
    "x = 4\n",
    "if x > 3:    # if boolean value is TRUE\n",
    "    print(\"number is bigger than 3\")"
   ]
  },
  {
   "cell_type": "markdown",
   "id": "cea8f66e-1d5a-409a-8828-2c5fc95f7dbe",
   "metadata": {},
   "source": [
    "We can also make the alternative explicit"
   ]
  },
  {
   "cell_type": "code",
   "execution_count": null,
   "id": "6470cb3d-948e-44d1-9a02-ae63a73ce04a",
   "metadata": {
    "tags": []
   },
   "outputs": [],
   "source": [
    "x = 0\n",
    "\n",
    "if x >= 0:\n",
    "    print(\"X is bigger than 0\")\n",
    "else:\n",
    "    print(x, \"x is lower than 0\")"
   ]
  },
  {
   "cell_type": "code",
   "execution_count": null,
   "id": "b765801a-2495-451a-ba61-1e0954511e51",
   "metadata": {},
   "outputs": [],
   "source": []
  },
  {
   "cell_type": "code",
   "execution_count": null,
   "id": "27cb7d72-8b01-4729-8b58-ce7819c143cb",
   "metadata": {
    "tags": []
   },
   "outputs": [],
   "source": [
    "\n",
    "# how to insert a number from keyboard\n",
    "a = input(\"insert a number: \")   # from input we get a str type\n",
    "b = float(a)   # with float we convert a str into float (a string into a number)\n",
    "print(b)"
   ]
  },
  {
   "cell_type": "markdown",
   "id": "b6d2e111-ce2f-434f-b460-a7a8e339a4ec",
   "metadata": {},
   "source": [
    "We can explain more alternatives"
   ]
  },
  {
   "cell_type": "code",
   "execution_count": null,
   "id": "16bf06a9-c184-414d-8c5f-6d57469d2d45",
   "metadata": {
    "tags": []
   },
   "outputs": [],
   "source": [
    "x = float(input(\"insert a number:\"))\n",
    "\n",
    "if x == 0:\n",
    "     print(\"the number entered is zero\")\n",
    "elif x < 0:\n",
    "     print(\"the number entered is negative\")\n",
    "elif (0 < x) and (x <= 2):\n",
    "     print(\"the number is between (or equal to) 0 and 2\")\n",
    "else:\n",
    "     print(\"the number is greater than 2\")"
   ]
  },
  {
   "cell_type": "markdown",
   "id": "aad03489-391e-4982-aed3-c79c97c1b598",
   "metadata": {},
   "source": [
    "## Exercise 6\n",
    "Write a conditional statement that, given an input string, tells us if the length of the string is greater than 7 characters  \n",
    "use function len(x) to get the length of a string "
   ]
  },
  {
   "cell_type": "code",
   "execution_count": null,
   "id": "157c07a2-e917-441d-8d44-944b98c061f8",
   "metadata": {},
   "outputs": [],
   "source": []
  },
  {
   "cell_type": "markdown",
   "id": "1def8d38-a58d-4716-9378-93fa10a5ca24",
   "metadata": {},
   "source": [
    "## Exercise 7\n",
    "\n",
    "Write a function that receives two integers and tells us whether the first number is greater than the second"
   ]
  },
  {
   "cell_type": "code",
   "execution_count": null,
   "id": "660d4229-41ab-4fe1-8c20-89f8712aec87",
   "metadata": {},
   "outputs": [],
   "source": []
  },
  {
   "cell_type": "markdown",
   "id": "b7981ae8-f0ff-419c-8b0c-6a56b90af85d",
   "metadata": {},
   "source": [
    "## RECURSIVE FUNCTION\n",
    "A recursive function is a function that calls itself during its execution. In other words, it's a function that solves a problem by solving smaller instances of the same problem. Recursive functions typically have two parts: the base case and the recursive case"
   ]
  },
  {
   "cell_type": "code",
   "execution_count": null,
   "id": "64cbc837-f063-47fb-a7ed-bfc54a6c1228",
   "metadata": {
    "tags": []
   },
   "outputs": [],
   "source": [
    "def factorial(n):\n",
    "    # Base case\n",
    "    if n == 0 or n == 1:\n",
    "        return 1\n",
    "    # Recursive case\n",
    "    else:\n",
    "        return n * factorial(n - 1)\n"
   ]
  },
  {
   "cell_type": "code",
   "execution_count": null,
   "id": "82e8fc5c-dbc7-46dc-95ef-d4900f63c60c",
   "metadata": {
    "tags": []
   },
   "outputs": [],
   "source": [
    "factorial(5)"
   ]
  },
  {
   "cell_type": "code",
   "execution_count": null,
   "id": "04889477-bb1e-4ef2-b090-ed9e2c476a18",
   "metadata": {},
   "outputs": [],
   "source": []
  },
  {
   "cell_type": "markdown",
   "id": "095d635c-7420-43f9-ac36-6ddf0599a052",
   "metadata": {},
   "source": [
    "## Exercise 7A:\n",
    "\n",
    "Fibonacci Sequence\n",
    "The Fibonacci sequence is a series of numbers where each number is the sum of the two preceding ones, usually starting with 0 and 1: $0,1,1,2,3,5,8,13,21,…$\n",
    "\n",
    "Write a recursive function in Python to find the nth number in the Fibonacci sequence.\n",
    "\n",
    "Constraints:\n",
    "The function should take an integer n as input and return the nth Fibonacci number.  \n",
    "Assume that n is a non-negative integer\n",
    "\n",
    "### Function call\n",
    "result = fibonacci(6)\n",
    "\n",
    "### Output\n",
    "print(result)  # Output should be 8, as the 6th Fibonacci number is 8.\n",
    "\n",
    "Explanation:\n",
    "The Fibonacci sequence is generated recursively by adding the previous two numbers. The base cases for this problem are   \n",
    "$F(0) = 0, F(1)=1$\n",
    "\n",
    "The recursive case is $F(n)=F(n−1)+F(n−2)$ for $n≥2$ .\n",
    "\n",
    "Your recursive function should handle these base cases and make recursive calls to compute the Fibonacci number for any other $n$"
   ]
  },
  {
   "cell_type": "code",
   "execution_count": null,
   "id": "35e7bb0b-db87-43f2-bcc6-1fb8be0a31e7",
   "metadata": {},
   "outputs": [],
   "source": []
  },
  {
   "cell_type": "markdown",
   "id": "a45b2356-f7ff-4451-b066-756160b01f70",
   "metadata": {
    "tags": []
   },
   "source": [
    "## ``for`` LOOP\n",
    "Loops in Python are a way to repeatedly execute some code statements.\n",
    "So, for example, if we want to print each of the elements in a list, we can use a ``for`` loop:"
   ]
  },
  {
   "cell_type": "code",
   "execution_count": null,
   "id": "7add7f7d-5735-4068-b1b1-1f8e3276e247",
   "metadata": {},
   "outputs": [],
   "source": []
  },
  {
   "cell_type": "code",
   "execution_count": null,
   "id": "99a7dbcb",
   "metadata": {
    "tags": []
   },
   "outputs": [],
   "source": [
    "a = [1,2,3,4,5]   # creo una lista"
   ]
  },
  {
   "cell_type": "code",
   "execution_count": null,
   "id": "fbad9a9e",
   "metadata": {
    "tags": []
   },
   "outputs": [],
   "source": [
    "for i in a:\n",
    "    print(i)"
   ]
  },
  {
   "cell_type": "code",
   "execution_count": null,
   "id": "5c066418",
   "metadata": {
    "tags": []
   },
   "outputs": [],
   "source": [
    "# if I want to print on the same line\n",
    "for i in a:\n",
    "    print(i, end=' ') #"
   ]
  },
  {
   "cell_type": "code",
   "execution_count": null,
   "id": "377bae0f",
   "metadata": {
    "tags": []
   },
   "outputs": [],
   "source": [
    "b = [\"Corso\",\"AI\", \"with\", \"Python\"]\n",
    "print(b)"
   ]
  },
  {
   "cell_type": "markdown",
   "id": "c50f1f02-f506-4d8d-83a0-2fe0c290e451",
   "metadata": {},
   "source": [
    "The list could contain also different obects"
   ]
  },
  {
   "cell_type": "code",
   "execution_count": null,
   "id": "9720b433-be8c-494f-b893-21c6cd493749",
   "metadata": {
    "tags": []
   },
   "outputs": [],
   "source": [
    "a = [1 ,\"Hello\", 3.5, True, [1,2,3,4] ]\n",
    "for i in a:\n",
    "    print (i)"
   ]
  },
  {
   "cell_type": "markdown",
   "id": "8ef7ccbc-797b-4743-9bc5-aec2356c9fea",
   "metadata": {},
   "source": [
    "Note the simplicity of the for loop:\n",
    "\n",
    "1) we specify the variable we want to use,\n",
    "2) the sequence we want to loop over\n",
    "3) and we use the \"in\" operator to connect them together in an intuitive and readable way.\n",
    "\n",
    "More precisely, the object to the RIGHT of \"in\" can be any Python ITERATOR.\n",
    "An iterator can be thought of as a generalized sequence of objects.\n",
    "\n",
    "For example, one of the most commonly used iterators in Python is the range object, which generates a sequence of numbers:"
   ]
  },
  {
   "cell_type": "code",
   "execution_count": null,
   "id": "c21e175b-14e3-4029-800c-55d02333bc48",
   "metadata": {
    "tags": []
   },
   "outputs": [],
   "source": [
    "for i in range(10):\n",
    "    print(i)"
   ]
  },
  {
   "cell_type": "code",
   "execution_count": null,
   "id": "ee3757c2-7ab5-4b3e-a598-f8014358a886",
   "metadata": {
    "tags": []
   },
   "outputs": [],
   "source": [
    "# create a list from 0 to 10 step 2\n",
    "list(range(0, 10, 2))"
   ]
  },
  {
   "cell_type": "code",
   "execution_count": null,
   "id": "94f241ee",
   "metadata": {},
   "outputs": [],
   "source": []
  },
  {
   "cell_type": "markdown",
   "id": "984dd5a9-50c5-4e01-aaf7-59af8b54a450",
   "metadata": {},
   "source": [
    "We can perform actions inside a for loop  \n",
    "For example, let's create a function that sums all the numbers in a list"
   ]
  },
  {
   "cell_type": "code",
   "execution_count": null,
   "id": "05758e52",
   "metadata": {},
   "outputs": [],
   "source": []
  },
  {
   "cell_type": "code",
   "execution_count": null,
   "id": "2eeacf20",
   "metadata": {
    "tags": []
   },
   "outputs": [],
   "source": [
    "def sumlist(x):\n",
    "    counter = 0\n",
    "    for i in x:\n",
    "        counter = counter + i\n",
    "    return counter"
   ]
  },
  {
   "cell_type": "code",
   "execution_count": null,
   "id": "164b2dcd",
   "metadata": {
    "tags": []
   },
   "outputs": [],
   "source": [
    "x = list(range(0, 20, 1))\n",
    "x"
   ]
  },
  {
   "cell_type": "code",
   "execution_count": null,
   "id": "5c5f1936",
   "metadata": {
    "tags": []
   },
   "outputs": [],
   "source": [
    "sumlist(x)"
   ]
  },
  {
   "cell_type": "code",
   "execution_count": null,
   "id": "3211dea8",
   "metadata": {},
   "outputs": [],
   "source": []
  },
  {
   "cell_type": "markdown",
   "id": "64de5e10-00d7-44ea-8485-6e0a98a019b3",
   "metadata": {},
   "source": [
    "Let's write a Python function that takes two lists and returns True if they have at least one element in common"
   ]
  },
  {
   "cell_type": "code",
   "execution_count": null,
   "id": "f5685d30",
   "metadata": {},
   "outputs": [],
   "source": []
  },
  {
   "cell_type": "code",
   "execution_count": null,
   "id": "a6c35a60",
   "metadata": {
    "tags": []
   },
   "outputs": [],
   "source": [
    "def checklist(x,y):\n",
    "    found = False\n",
    "    counter=0\n",
    "    for i in x:\n",
    "        for j in y:\n",
    "            if i == j:\n",
    "                counter=counter+1\n",
    "                found = True\n",
    "    return found,counter           "
   ]
  },
  {
   "cell_type": "code",
   "execution_count": null,
   "id": "cbba9d40",
   "metadata": {
    "tags": []
   },
   "outputs": [],
   "source": [
    "x = [1,2,3,5,6]\n",
    "y= [1,2,7,8,9,10]\n",
    "a1, a2 = checklist(x,y)\n",
    "print(\"Found is \", a1, \" N. times =\", a2)"
   ]
  },
  {
   "cell_type": "markdown",
   "id": "06cdc2d0-06d1-40be-a22f-58031c0780d2",
   "metadata": {},
   "source": [
    "## Exercise 8 \n",
    "Write a function to calculate the factorial of a number"
   ]
  },
  {
   "cell_type": "code",
   "execution_count": null,
   "id": "391d48aa-7ff9-4056-9398-6c76474ea06c",
   "metadata": {},
   "outputs": [],
   "source": []
  },
  {
   "cell_type": "markdown",
   "id": "604c4bad-8bac-4ebb-94b0-407d195bee84",
   "metadata": {},
   "source": [
    "## Exercise 9. \n",
    "Count the vowels in a word\n"
   ]
  },
  {
   "cell_type": "code",
   "execution_count": null,
   "id": "c5e016dd-922a-4997-ac53-45b8c04b692c",
   "metadata": {},
   "outputs": [],
   "source": []
  },
  {
   "cell_type": "markdown",
   "id": "7cc77757-1b7f-4762-be3f-ac40e9d7bfb1",
   "metadata": {
    "tags": []
   },
   "source": [
    "# List Comprehensions\n",
    "List comprehensions are simply a way to build list with for-loop into a single short, readable line.\n",
    "For example, here is a loop that constructs a list of the first 12 square integers:"
   ]
  },
  {
   "cell_type": "code",
   "execution_count": null,
   "id": "2f28be59-a486-44ac-ad9b-378dc4e573a2",
   "metadata": {
    "collapsed": false,
    "jupyter": {
     "outputs_hidden": false
    },
    "tags": []
   },
   "outputs": [],
   "source": [
    "L = []\n",
    "for n in range(12):\n",
    "    L.append(n ** 2)\n",
    "L"
   ]
  },
  {
   "cell_type": "markdown",
   "id": "230d958a-750c-4d8e-9728-2e27bcd09901",
   "metadata": {},
   "source": [
    "The list comprehension equivalent of this is the following:"
   ]
  },
  {
   "cell_type": "code",
   "execution_count": null,
   "id": "b1c65377-6c9f-4300-b64b-c9b8bf749af5",
   "metadata": {
    "collapsed": false,
    "jupyter": {
     "outputs_hidden": false
    },
    "tags": []
   },
   "outputs": [],
   "source": [
    "[n ** 2 for n in range(12)]"
   ]
  },
  {
   "cell_type": "markdown",
   "id": "59787afd-b7f0-4522-89aa-ca6a284e6033",
   "metadata": {},
   "source": [
    "This basic syntax, then, is ``[``*``expr``* ``for`` *``var``* ``in`` *``iterable``*``]``, where *``expr``* is any valid expression, *``var``* is a variable name, and *``iterable``* is any iterable Python object."
   ]
  },
  {
   "cell_type": "markdown",
   "id": "5911d763-68b0-44e7-86b9-f309d983e8d5",
   "metadata": {},
   "source": [
    "## Multiple Iteration\n",
    "Sometimes you want to build a list not just from one value, but from two. To do this, simply add another ``for`` expression in the comprehension:"
   ]
  },
  {
   "cell_type": "code",
   "execution_count": null,
   "id": "d217ad9e-c7e4-4d72-97e1-11714b28ef80",
   "metadata": {
    "collapsed": false,
    "jupyter": {
     "outputs_hidden": false
    }
   },
   "outputs": [],
   "source": [
    "[(i, j) for i in range(2) for j in range(3)]"
   ]
  },
  {
   "cell_type": "markdown",
   "id": "3cbe2f21-b6db-4c22-9157-b97593db64f8",
   "metadata": {},
   "source": [
    "Notice that the second ``for`` expression acts as the interior index, varying the fastest in the resulting list.\n",
    "This type of construction can be extended to three, four, or more iterators within the comprehension"
   ]
  },
  {
   "cell_type": "markdown",
   "id": "9ac9e4b5-186e-405f-8bc6-1ddc169a10dc",
   "metadata": {},
   "source": [
    "## Conditionals on the Iterator\n",
    "You can further control the iteration by adding a conditional to the end of the expression.\n",
    "In the below example, we iterated over all numbers from 1 to 50, saving all multiples of 7.\n",
    "Look at this again, and notice the construction:"
   ]
  },
  {
   "cell_type": "code",
   "execution_count": null,
   "id": "78a34cfa-9f6a-4962-93bf-1cee0468692f",
   "metadata": {
    "collapsed": false,
    "jupyter": {
     "outputs_hidden": false
    },
    "tags": []
   },
   "outputs": [],
   "source": [
    "[val for val in range(50) if val % 7 == 0]"
   ]
  },
  {
   "cell_type": "markdown",
   "id": "3ce4cd1b-ea5f-4c18-a052-648712d69ffc",
   "metadata": {},
   "source": [
    "The expression ``(i % 7 > 0)`` evaluates to ``True`` unless ``val`` is divisible by 7.\n",
    "Again, the English language meaning can be immediately read off: \"Construct a list of values for each value up to 50, but only if the value is not divisible by 7\".\n",
    "Once you are comfortable with it, this is much easier to write – and to understand at a glance – than the equivalent loop syntax:"
   ]
  },
  {
   "cell_type": "code",
   "execution_count": null,
   "id": "407abd9e-7e83-4e6f-a1f7-7a63415cec86",
   "metadata": {
    "collapsed": false,
    "jupyter": {
     "outputs_hidden": false
    },
    "tags": []
   },
   "outputs": [],
   "source": [
    "L = []\n",
    "for val in range(50):\n",
    "    if val % 7:\n",
    "        L.append(val)\n",
    "print(L)"
   ]
  },
  {
   "cell_type": "code",
   "execution_count": null,
   "id": "c69357f1-1de3-4412-8b5b-237c34352d87",
   "metadata": {},
   "outputs": [],
   "source": []
  },
  {
   "cell_type": "markdown",
   "id": "8af81db9-331f-45f3-a296-836a9b27cd07",
   "metadata": {},
   "source": [
    "## Exercise 10. \n",
    "Extract even numbers from a list using list comprehension\n"
   ]
  },
  {
   "cell_type": "code",
   "execution_count": null,
   "id": "2d0dcf0a-1655-4e06-80d4-0b9da6c00e00",
   "metadata": {},
   "outputs": [],
   "source": []
  },
  {
   "cell_type": "code",
   "execution_count": null,
   "id": "11e68894-2217-4551-9f05-ccde42f798b2",
   "metadata": {},
   "outputs": [],
   "source": []
  },
  {
   "cell_type": "code",
   "execution_count": null,
   "id": "049ffcaf-7ccc-4e43-80bb-7052d81cab67",
   "metadata": {},
   "outputs": [],
   "source": []
  },
  {
   "cell_type": "markdown",
   "id": "3c3df24c-91e1-4fc5-a675-1501d3786a05",
   "metadata": {},
   "source": [
    "## SOLUTIONS"
   ]
  },
  {
   "cell_type": "code",
   "execution_count": null,
   "id": "6445c6b9-8e48-4ebd-adf7-46f2a6936cb8",
   "metadata": {},
   "outputs": [],
   "source": [
    "# solution of exercise 1\n",
    "\n",
    "import math\n",
    "\n",
    "def calculate_circle_area(radius):\n",
    "    area = radius**2 * math.pi\n",
    "    return area\n",
    "\n",
    "# Test the function\n",
    "radius = 5\n",
    "area = calculate_circle_area(radius)\n",
    "print(\"The area of the circle is: \",area)"
   ]
  },
  {
   "cell_type": "code",
   "execution_count": null,
   "id": "c14f7b6e-3d35-49e1-89de-c8b41b1bae4a",
   "metadata": {},
   "outputs": [],
   "source": [
    "# solution of exercise 3\n",
    "def sorter (listofinput):\n",
    "    a = sorted(listofinput)\n",
    "    return a \n",
    "a = [1,2,6,3]\n",
    "b = sorter(a)\n",
    "print(b)"
   ]
  },
  {
   "cell_type": "code",
   "execution_count": null,
   "id": "888112a7-8533-40af-9e5f-65c10f352d50",
   "metadata": {},
   "outputs": [],
   "source": [
    "# solution of exercise 4\n",
    "\n",
    "sum1 = lambda x,y: x+y\n",
    "sum1(3,4)"
   ]
  },
  {
   "cell_type": "code",
   "execution_count": null,
   "id": "f8e22ea2-e39d-40f9-95f9-c4cf862fe990",
   "metadata": {
    "tags": []
   },
   "outputs": [],
   "source": [
    "# solution of exercise 5\n",
    "\n",
    "a = [1,2,3,4,5]\n",
    "b = list(map(lambda x:x**2,a))\n",
    "print(b)"
   ]
  },
  {
   "cell_type": "code",
   "execution_count": null,
   "id": "86a867a1-459c-487c-9fdd-2eea037a78cd",
   "metadata": {
    "tags": []
   },
   "outputs": [],
   "source": [
    "# solution of exercise 6\n",
    "\n",
    "x = input(\"enter a string\")\n",
    "if len(x) > 7:\n",
    "     print(\"the string is greater than 7 characters\")\n",
    "else:\n",
    "     print(\"The string is less than or equal to 7 characters\")"
   ]
  },
  {
   "cell_type": "code",
   "execution_count": null,
   "id": "649d2aa7-b508-4a98-8cfd-ec8769e39f37",
   "metadata": {
    "tags": []
   },
   "outputs": [],
   "source": [
    "# solution of exercise 7\n",
    "\n",
    "def comparison(x,y):\n",
    "    if (x==y):\n",
    "        print(x,\" is equal to \",y)\n",
    "    elif x < y:\n",
    "         print(x, \" is less than \",y)\n",
    "    else:\n",
    "         print(x, \" is greater than \",y)\n",
    "comparison(4,5)"
   ]
  },
  {
   "cell_type": "code",
   "execution_count": null,
   "id": "63d91126-65d7-4438-a8c4-238fa651e134",
   "metadata": {
    "tags": []
   },
   "outputs": [],
   "source": [
    "# solution exercise 7A\n",
    "\n",
    "def fibonacci(n):\n",
    "    # Base cases\n",
    "    if n == 0:\n",
    "        return 0\n",
    "    elif n == 1:\n",
    "        return 1\n",
    "    # Recursive case\n",
    "    else:\n",
    "        return fibonacci(n - 1) + fibonacci(n - 2)\n",
    "\n",
    "# Example usage\n",
    "result = fibonacci(6)\n",
    "print(result)  # Output should be 8, as the 6th Fibonacci number is 8.\n"
   ]
  },
  {
   "cell_type": "code",
   "execution_count": null,
   "id": "6ab9c71b-5fa3-4506-ade0-da72b42eb441",
   "metadata": {},
   "outputs": [],
   "source": []
  },
  {
   "cell_type": "code",
   "execution_count": null,
   "id": "84d90c15-a281-47a3-b152-1ba392da71e2",
   "metadata": {
    "tags": []
   },
   "outputs": [],
   "source": [
    "# solution of exercise 8\n",
    "\n",
    "def factorial(x):\n",
    "    fact = 1\n",
    "    for i in range(1,x+1):\n",
    "        fact = fact*i\n",
    "    return fact\n",
    "factorial(5)"
   ]
  },
  {
   "cell_type": "code",
   "execution_count": null,
   "id": "63af35a1-ad03-4fe2-96e0-3f900231f6e3",
   "metadata": {
    "tags": []
   },
   "outputs": [],
   "source": [
    "# solution of exercise 9\n",
    "\n",
    "# Define a word\n",
    "word = \"python\"\n",
    "\n",
    "# Initialize a variable to count vowels\n",
    "vowel_count = 0\n",
    "\n",
    "# Use the for command to iterate through each letter in the word\n",
    "for letter in word:\n",
    "    # Check if the letter is a vowel (you can extend the list if necessary)\n",
    "    if letter.lower() in ['a', 'e', 'i', 'o', 'u']:\n",
    "        vowel_count = vowel_count  + 1\n",
    "\n",
    "# Print the result\n",
    "print('The word', word,' contains',vowel_count, ' vowel')"
   ]
  },
  {
   "cell_type": "code",
   "execution_count": null,
   "id": "df9acf59-33c2-4b3b-9ba0-7861348157f6",
   "metadata": {
    "tags": []
   },
   "outputs": [],
   "source": [
    "# solution of exercise 10\n",
    "\n",
    "# Define a list of numbers\n",
    "numbers = list(range(0,20))\n",
    "\n",
    "# Use list comprehension to create a new list containing only the even numbers\n",
    "even_numbers = [x for x in numbers if x % 2 == 0]\n",
    "\n",
    "# Print the original list and the list of even numbers\n",
    "print(f\"Original list: {numbers}\")\n",
    "print(f\"Even numbers: {even_numbers}\")"
   ]
  },
  {
   "cell_type": "code",
   "execution_count": null,
   "id": "57e1e49e-116c-497b-a28c-cde17dd73f86",
   "metadata": {},
   "outputs": [],
   "source": []
  }
 ],
 "metadata": {
  "kernelspec": {
   "display_name": "Python 3 (ipykernel)",
   "language": "python",
   "name": "python3"
  },
  "language_info": {
   "codemirror_mode": {
    "name": "ipython",
    "version": 3
   },
   "file_extension": ".py",
   "mimetype": "text/x-python",
   "name": "python",
   "nbconvert_exporter": "python",
   "pygments_lexer": "ipython3",
   "version": "3.11.5"
  }
 },
 "nbformat": 4,
 "nbformat_minor": 5
}
