{
 "cells": [
  {
   "cell_type": "markdown",
   "id": "861ac10e",
   "metadata": {},
   "source": [
    "# AN INTRODUCTORY EXAMPLE"
   ]
  },
  {
   "cell_type": "code",
   "execution_count": 1,
   "id": "365c6853",
   "metadata": {
    "tags": []
   },
   "outputs": [],
   "source": [
    "# import macro-functions (libraries) to perform high level computation and funtions\n",
    "\n",
    "import pandas as pd   # to manage table\n",
    "\n",
    "import numpy as np    # to manage linear algebra\n",
    "\n",
    "import matplotlib.pyplot as plt      # to plot data\n",
    "\n",
    "import seaborn as sns                # to plot data\n",
    "#sns.set_theme();\n",
    "\n",
    "import statsmodels.api as sm         # to use statistical tools\n",
    "\n",
    "from sklearn.preprocessing import scale   # tools to preprocess data\n",
    "\n",
    "import warnings; warnings.filterwarnings('ignore') # \"default\" restore default mode \"ignore\" ignore"
   ]
  },
  {
   "cell_type": "markdown",
   "id": "70051494",
   "metadata": {},
   "source": [
    "## **SCENARIO**: You are working with the marketing department of a car seller. \n",
    "## Your boss gives you last sales data and asked you:\n",
    "- To create a summary report on the total sales for Manufacturer\n",
    "- To identify what factors influence the sales\n",
    "- To make a prediction about how many sales can be generated with an investment of 500k euro in TV Advertising\n",
    "- To make a prediction about how many sales can be generated with an investment of 75k euro in Social Advertising\n",
    "- To make a prediction for some new cars models about a chance to win the prestigious award \"Car of the Year\". Factors of success are Power performance and Fuel Efficiency. Data about these factors for the new cars will be provided\n",
    "\n",
    "All data are in excel files provided by IT department. "
   ]
  },
  {
   "cell_type": "markdown",
   "id": "1b239200",
   "metadata": {},
   "source": [
    "First I load all the excel file directly in a table"
   ]
  },
  {
   "cell_type": "code",
   "execution_count": 4,
   "id": "81fc46a4",
   "metadata": {
    "tags": []
   },
   "outputs": [],
   "source": [
    "# Load a CSV file on a local table (dataframe)\n",
    "sales_table = pd.read_csv('./Data/sales_data.csv')\n",
    "\n",
    "# Alternatively load the file from an url\n",
    "#url = 'https://raw.githubusercontent.com/pal-dev-labs/Python-for-Economic-Applications/main/Data/sales_data.csv'\n",
    "#sales_table = pd.read_csv(url)"
   ]
  },
  {
   "cell_type": "code",
   "execution_count": 4,
   "id": "bf568c93",
   "metadata": {
    "tags": []
   },
   "outputs": [
    {
     "name": "stdout",
     "output_type": "stream",
     "text": [
      "<class 'pandas.core.frame.DataFrame'>\n",
      "RangeIndex: 157 entries, 0 to 156\n",
      "Data columns (total 18 columns):\n",
      " #   Column                 Non-Null Count  Dtype  \n",
      "---  ------                 --------------  -----  \n",
      " 0   Unnamed: 0             157 non-null    int64  \n",
      " 1   Manufacturer           157 non-null    object \n",
      " 2   Model                  157 non-null    object \n",
      " 3   Sales_in_thousands     157 non-null    float64\n",
      " 4   Price_in_thousands     157 non-null    float64\n",
      " 5   TV Advert (thousands)  157 non-null    float64\n",
      " 6   Social Advert          157 non-null    int64  \n",
      " 7   Engine_size            157 non-null    float64\n",
      " 8   Horsepower             157 non-null    float64\n",
      " 9   Wheelbase              157 non-null    float64\n",
      " 10  Width                  157 non-null    float64\n",
      " 11  Length                 157 non-null    float64\n",
      " 12  Curb_weight            157 non-null    float64\n",
      " 13  Fuel_capacity          157 non-null    float64\n",
      " 14  Fuel_efficiency        157 non-null    float64\n",
      " 15  Latest_Launch          157 non-null    object \n",
      " 16  Power_perf_factor      157 non-null    float64\n",
      " 17  Awarded                157 non-null    int64  \n",
      "dtypes: float64(12), int64(3), object(3)\n",
      "memory usage: 22.2+ KB\n"
     ]
    }
   ],
   "source": [
    "# print the dataframe info\n",
    "\n",
    "sales_table.info()"
   ]
  },
  {
   "cell_type": "code",
   "execution_count": 5,
   "id": "b73f09df-68c8-4765-889e-08fd39593955",
   "metadata": {
    "tags": []
   },
   "outputs": [
    {
     "data": {
      "text/html": [
       "<div>\n",
       "<style scoped>\n",
       "    .dataframe tbody tr th:only-of-type {\n",
       "        vertical-align: middle;\n",
       "    }\n",
       "\n",
       "    .dataframe tbody tr th {\n",
       "        vertical-align: top;\n",
       "    }\n",
       "\n",
       "    .dataframe thead th {\n",
       "        text-align: right;\n",
       "    }\n",
       "</style>\n",
       "<table border=\"1\" class=\"dataframe\">\n",
       "  <thead>\n",
       "    <tr style=\"text-align: right;\">\n",
       "      <th></th>\n",
       "      <th>Unnamed: 0</th>\n",
       "      <th>Manufacturer</th>\n",
       "      <th>Model</th>\n",
       "      <th>Sales_in_thousands</th>\n",
       "      <th>Price_in_thousands</th>\n",
       "      <th>TV Advert (thousands)</th>\n",
       "      <th>Social Advert</th>\n",
       "      <th>Engine_size</th>\n",
       "      <th>Horsepower</th>\n",
       "      <th>Wheelbase</th>\n",
       "      <th>Width</th>\n",
       "      <th>Length</th>\n",
       "      <th>Curb_weight</th>\n",
       "      <th>Fuel_capacity</th>\n",
       "      <th>Fuel_efficiency</th>\n",
       "      <th>Latest_Launch</th>\n",
       "      <th>Power_perf_factor</th>\n",
       "      <th>Awarded</th>\n",
       "    </tr>\n",
       "  </thead>\n",
       "  <tbody>\n",
       "    <tr>\n",
       "      <th>0</th>\n",
       "      <td>0</td>\n",
       "      <td>Acura</td>\n",
       "      <td>Integra</td>\n",
       "      <td>16.919</td>\n",
       "      <td>21.50</td>\n",
       "      <td>142.516144</td>\n",
       "      <td>53481</td>\n",
       "      <td>1.8</td>\n",
       "      <td>140.0</td>\n",
       "      <td>101.2</td>\n",
       "      <td>67.3</td>\n",
       "      <td>172.4</td>\n",
       "      <td>2.639</td>\n",
       "      <td>13.2</td>\n",
       "      <td>28.0</td>\n",
       "      <td>2/2/2012</td>\n",
       "      <td>58.280150</td>\n",
       "      <td>0</td>\n",
       "    </tr>\n",
       "    <tr>\n",
       "      <th>1</th>\n",
       "      <td>1</td>\n",
       "      <td>Acura</td>\n",
       "      <td>TL</td>\n",
       "      <td>39.384</td>\n",
       "      <td>28.40</td>\n",
       "      <td>383.026416</td>\n",
       "      <td>39441</td>\n",
       "      <td>3.2</td>\n",
       "      <td>225.0</td>\n",
       "      <td>108.1</td>\n",
       "      <td>70.3</td>\n",
       "      <td>192.9</td>\n",
       "      <td>3.517</td>\n",
       "      <td>17.2</td>\n",
       "      <td>25.0</td>\n",
       "      <td>6/3/2011</td>\n",
       "      <td>91.370778</td>\n",
       "      <td>0</td>\n",
       "    </tr>\n",
       "    <tr>\n",
       "      <th>2</th>\n",
       "      <td>2</td>\n",
       "      <td>Acura</td>\n",
       "      <td>CL</td>\n",
       "      <td>14.114</td>\n",
       "      <td>0.00</td>\n",
       "      <td>165.928640</td>\n",
       "      <td>44114</td>\n",
       "      <td>3.2</td>\n",
       "      <td>225.0</td>\n",
       "      <td>106.9</td>\n",
       "      <td>70.6</td>\n",
       "      <td>192.0</td>\n",
       "      <td>3.470</td>\n",
       "      <td>17.2</td>\n",
       "      <td>26.0</td>\n",
       "      <td>1/4/2012</td>\n",
       "      <td>0.000000</td>\n",
       "      <td>0</td>\n",
       "    </tr>\n",
       "    <tr>\n",
       "      <th>3</th>\n",
       "      <td>3</td>\n",
       "      <td>Acura</td>\n",
       "      <td>RL</td>\n",
       "      <td>8.588</td>\n",
       "      <td>42.00</td>\n",
       "      <td>63.259267</td>\n",
       "      <td>98103</td>\n",
       "      <td>3.5</td>\n",
       "      <td>210.0</td>\n",
       "      <td>114.6</td>\n",
       "      <td>71.4</td>\n",
       "      <td>196.6</td>\n",
       "      <td>3.850</td>\n",
       "      <td>18.0</td>\n",
       "      <td>22.0</td>\n",
       "      <td>3/10/2011</td>\n",
       "      <td>91.389779</td>\n",
       "      <td>0</td>\n",
       "    </tr>\n",
       "    <tr>\n",
       "      <th>4</th>\n",
       "      <td>4</td>\n",
       "      <td>Audi</td>\n",
       "      <td>A4</td>\n",
       "      <td>20.397</td>\n",
       "      <td>23.99</td>\n",
       "      <td>156.508762</td>\n",
       "      <td>38450</td>\n",
       "      <td>1.8</td>\n",
       "      <td>150.0</td>\n",
       "      <td>102.6</td>\n",
       "      <td>68.2</td>\n",
       "      <td>178.0</td>\n",
       "      <td>2.998</td>\n",
       "      <td>16.4</td>\n",
       "      <td>27.0</td>\n",
       "      <td>10/8/2011</td>\n",
       "      <td>62.777639</td>\n",
       "      <td>0</td>\n",
       "    </tr>\n",
       "    <tr>\n",
       "      <th>...</th>\n",
       "      <td>...</td>\n",
       "      <td>...</td>\n",
       "      <td>...</td>\n",
       "      <td>...</td>\n",
       "      <td>...</td>\n",
       "      <td>...</td>\n",
       "      <td>...</td>\n",
       "      <td>...</td>\n",
       "      <td>...</td>\n",
       "      <td>...</td>\n",
       "      <td>...</td>\n",
       "      <td>...</td>\n",
       "      <td>...</td>\n",
       "      <td>...</td>\n",
       "      <td>...</td>\n",
       "      <td>...</td>\n",
       "      <td>...</td>\n",
       "      <td>...</td>\n",
       "    </tr>\n",
       "    <tr>\n",
       "      <th>152</th>\n",
       "      <td>152</td>\n",
       "      <td>Volvo</td>\n",
       "      <td>V40</td>\n",
       "      <td>3.545</td>\n",
       "      <td>24.40</td>\n",
       "      <td>70.518707</td>\n",
       "      <td>28535</td>\n",
       "      <td>1.9</td>\n",
       "      <td>160.0</td>\n",
       "      <td>100.5</td>\n",
       "      <td>67.6</td>\n",
       "      <td>176.6</td>\n",
       "      <td>3.042</td>\n",
       "      <td>15.8</td>\n",
       "      <td>25.0</td>\n",
       "      <td>9/21/2011</td>\n",
       "      <td>66.498812</td>\n",
       "      <td>0</td>\n",
       "    </tr>\n",
       "    <tr>\n",
       "      <th>153</th>\n",
       "      <td>153</td>\n",
       "      <td>Volvo</td>\n",
       "      <td>S70</td>\n",
       "      <td>15.245</td>\n",
       "      <td>27.50</td>\n",
       "      <td>171.875269</td>\n",
       "      <td>117895</td>\n",
       "      <td>2.4</td>\n",
       "      <td>168.0</td>\n",
       "      <td>104.9</td>\n",
       "      <td>69.3</td>\n",
       "      <td>185.9</td>\n",
       "      <td>3.208</td>\n",
       "      <td>17.9</td>\n",
       "      <td>25.0</td>\n",
       "      <td>11/24/2012</td>\n",
       "      <td>70.654495</td>\n",
       "      <td>0</td>\n",
       "    </tr>\n",
       "    <tr>\n",
       "      <th>154</th>\n",
       "      <td>154</td>\n",
       "      <td>Volvo</td>\n",
       "      <td>V70</td>\n",
       "      <td>17.531</td>\n",
       "      <td>28.80</td>\n",
       "      <td>172.154270</td>\n",
       "      <td>102228</td>\n",
       "      <td>2.4</td>\n",
       "      <td>168.0</td>\n",
       "      <td>104.9</td>\n",
       "      <td>69.3</td>\n",
       "      <td>186.2</td>\n",
       "      <td>3.259</td>\n",
       "      <td>17.9</td>\n",
       "      <td>25.0</td>\n",
       "      <td>6/25/2011</td>\n",
       "      <td>71.155978</td>\n",
       "      <td>0</td>\n",
       "    </tr>\n",
       "    <tr>\n",
       "      <th>155</th>\n",
       "      <td>155</td>\n",
       "      <td>Volvo</td>\n",
       "      <td>C70</td>\n",
       "      <td>3.493</td>\n",
       "      <td>45.50</td>\n",
       "      <td>29.538936</td>\n",
       "      <td>100522</td>\n",
       "      <td>2.3</td>\n",
       "      <td>236.0</td>\n",
       "      <td>104.9</td>\n",
       "      <td>71.5</td>\n",
       "      <td>185.7</td>\n",
       "      <td>3.601</td>\n",
       "      <td>18.5</td>\n",
       "      <td>23.0</td>\n",
       "      <td>4/26/2011</td>\n",
       "      <td>101.623357</td>\n",
       "      <td>0</td>\n",
       "    </tr>\n",
       "    <tr>\n",
       "      <th>156</th>\n",
       "      <td>156</td>\n",
       "      <td>Volvo</td>\n",
       "      <td>S80</td>\n",
       "      <td>18.969</td>\n",
       "      <td>36.00</td>\n",
       "      <td>188.781516</td>\n",
       "      <td>28490</td>\n",
       "      <td>2.9</td>\n",
       "      <td>201.0</td>\n",
       "      <td>109.9</td>\n",
       "      <td>72.1</td>\n",
       "      <td>189.8</td>\n",
       "      <td>3.600</td>\n",
       "      <td>21.1</td>\n",
       "      <td>24.0</td>\n",
       "      <td>11/14/2011</td>\n",
       "      <td>85.735655</td>\n",
       "      <td>0</td>\n",
       "    </tr>\n",
       "  </tbody>\n",
       "</table>\n",
       "<p>157 rows × 18 columns</p>\n",
       "</div>"
      ],
      "text/plain": [
       "     Unnamed: 0 Manufacturer    Model  Sales_in_thousands  Price_in_thousands  \\\n",
       "0             0        Acura  Integra              16.919               21.50   \n",
       "1             1        Acura       TL              39.384               28.40   \n",
       "2             2        Acura       CL              14.114                0.00   \n",
       "3             3        Acura       RL               8.588               42.00   \n",
       "4             4         Audi       A4              20.397               23.99   \n",
       "..          ...          ...      ...                 ...                 ...   \n",
       "152         152        Volvo      V40               3.545               24.40   \n",
       "153         153        Volvo      S70              15.245               27.50   \n",
       "154         154        Volvo      V70              17.531               28.80   \n",
       "155         155        Volvo      C70               3.493               45.50   \n",
       "156         156        Volvo      S80              18.969               36.00   \n",
       "\n",
       "     TV Advert (thousands)  Social Advert  Engine_size  Horsepower  Wheelbase  \\\n",
       "0               142.516144          53481          1.8       140.0      101.2   \n",
       "1               383.026416          39441          3.2       225.0      108.1   \n",
       "2               165.928640          44114          3.2       225.0      106.9   \n",
       "3                63.259267          98103          3.5       210.0      114.6   \n",
       "4               156.508762          38450          1.8       150.0      102.6   \n",
       "..                     ...            ...          ...         ...        ...   \n",
       "152              70.518707          28535          1.9       160.0      100.5   \n",
       "153             171.875269         117895          2.4       168.0      104.9   \n",
       "154             172.154270         102228          2.4       168.0      104.9   \n",
       "155              29.538936         100522          2.3       236.0      104.9   \n",
       "156             188.781516          28490          2.9       201.0      109.9   \n",
       "\n",
       "     Width  Length  Curb_weight  Fuel_capacity  Fuel_efficiency Latest_Launch  \\\n",
       "0     67.3   172.4        2.639           13.2             28.0      2/2/2012   \n",
       "1     70.3   192.9        3.517           17.2             25.0      6/3/2011   \n",
       "2     70.6   192.0        3.470           17.2             26.0      1/4/2012   \n",
       "3     71.4   196.6        3.850           18.0             22.0     3/10/2011   \n",
       "4     68.2   178.0        2.998           16.4             27.0     10/8/2011   \n",
       "..     ...     ...          ...            ...              ...           ...   \n",
       "152   67.6   176.6        3.042           15.8             25.0     9/21/2011   \n",
       "153   69.3   185.9        3.208           17.9             25.0    11/24/2012   \n",
       "154   69.3   186.2        3.259           17.9             25.0     6/25/2011   \n",
       "155   71.5   185.7        3.601           18.5             23.0     4/26/2011   \n",
       "156   72.1   189.8        3.600           21.1             24.0    11/14/2011   \n",
       "\n",
       "     Power_perf_factor  Awarded  \n",
       "0            58.280150        0  \n",
       "1            91.370778        0  \n",
       "2             0.000000        0  \n",
       "3            91.389779        0  \n",
       "4            62.777639        0  \n",
       "..                 ...      ...  \n",
       "152          66.498812        0  \n",
       "153          70.654495        0  \n",
       "154          71.155978        0  \n",
       "155         101.623357        0  \n",
       "156          85.735655        0  \n",
       "\n",
       "[157 rows x 18 columns]"
      ]
     },
     "execution_count": 5,
     "metadata": {},
     "output_type": "execute_result"
    }
   ],
   "source": [
    "# print the dataframe content\n",
    "\n",
    "sales_table"
   ]
  },
  {
   "cell_type": "markdown",
   "id": "26f0a1eb-9015-4df5-a214-f2f309cdede5",
   "metadata": {
    "tags": []
   },
   "source": [
    "# DATA EXPLORATION"
   ]
  },
  {
   "cell_type": "markdown",
   "id": "f256226d",
   "metadata": {},
   "source": [
    "I want to know how many different models each Manifacturer has"
   ]
  },
  {
   "cell_type": "code",
   "execution_count": 6,
   "id": "b00f393e",
   "metadata": {
    "tags": []
   },
   "outputs": [
    {
     "data": {
      "image/png": "[encoded data removed]",
      "text/plain": [
       "<Figure size 640x480 with 1 Axes>"
      ]
     },
     "metadata": {},
     "output_type": "display_data"
    }
   ],
   "source": [
    "# for each manufacturer group the models and plot a barplot\n",
    "sales_table['Manufacturer'].value_counts().plot.bar();"
   ]
  },
  {
   "cell_type": "markdown",
   "id": "be342462",
   "metadata": {},
   "source": [
    "I want to save this image for my future report. I need a nicer figure"
   ]
  },
  {
   "cell_type": "code",
   "execution_count": 7,
   "id": "1c8c99f4",
   "metadata": {
    "tags": []
   },
   "outputs": [
    {
     "data": {
      "image/png": "[encoded data removed]",
      "text/plain": [
       "<Figure size 640x480 with 1 Axes>"
      ]
     },
     "metadata": {},
     "output_type": "display_data"
    }
   ],
   "source": [
    "sales_table['Manufacturer'].value_counts().plot.bar()\n",
    "\n",
    "# add some decorators\n",
    "plt.xlabel('Manufacturers')\n",
    "plt.ylabel('Number of Models')\n",
    "plt.title('Manufacturers different models')\n",
    "plt.legend()\n",
    "plt.savefig('manufacturer.png')  # this saves the figure i"
   ]
  },
  {
   "cell_type": "markdown",
   "id": "8ac1408f",
   "metadata": {},
   "source": [
    "# TABLE MANIPULATION"
   ]
  },
  {
   "cell_type": "markdown",
   "id": "fadd2830",
   "metadata": {},
   "source": [
    "I want to extract total amount of sales for each manufacturer"
   ]
  },
  {
   "cell_type": "code",
   "execution_count": 8,
   "id": "832f38d5",
   "metadata": {
    "tags": []
   },
   "outputs": [
    {
     "data": {
      "text/html": [
       "<div>\n",
       "<style scoped>\n",
       "    .dataframe tbody tr th:only-of-type {\n",
       "        vertical-align: middle;\n",
       "    }\n",
       "\n",
       "    .dataframe tbody tr th {\n",
       "        vertical-align: top;\n",
       "    }\n",
       "\n",
       "    .dataframe thead tr th {\n",
       "        text-align: left;\n",
       "    }\n",
       "\n",
       "    .dataframe thead tr:last-of-type th {\n",
       "        text-align: right;\n",
       "    }\n",
       "</style>\n",
       "<table border=\"1\" class=\"dataframe\">\n",
       "  <thead>\n",
       "    <tr>\n",
       "      <th></th>\n",
       "      <th>sum</th>\n",
       "    </tr>\n",
       "    <tr>\n",
       "      <th></th>\n",
       "      <th>Sales_in_thousands</th>\n",
       "    </tr>\n",
       "    <tr>\n",
       "      <th>Manufacturer</th>\n",
       "      <th></th>\n",
       "    </tr>\n",
       "  </thead>\n",
       "  <tbody>\n",
       "    <tr>\n",
       "      <th>Acura</th>\n",
       "      <td>79.005</td>\n",
       "    </tr>\n",
       "    <tr>\n",
       "      <th>Audi</th>\n",
       "      <td>40.557</td>\n",
       "    </tr>\n",
       "    <tr>\n",
       "      <th>BMW</th>\n",
       "      <td>46.505</td>\n",
       "    </tr>\n",
       "    <tr>\n",
       "      <th>Buick</th>\n",
       "      <td>242.019</td>\n",
       "    </tr>\n",
       "    <tr>\n",
       "      <th>Cadillac</th>\n",
       "      <td>112.178</td>\n",
       "    </tr>\n",
       "    <tr>\n",
       "      <th>Chevrolet</th>\n",
       "      <td>554.365</td>\n",
       "    </tr>\n",
       "    <tr>\n",
       "      <th>Chrysler</th>\n",
       "      <td>201.721</td>\n",
       "    </tr>\n",
       "    <tr>\n",
       "      <th>Dodge</th>\n",
       "      <td>910.149</td>\n",
       "    </tr>\n",
       "    <tr>\n",
       "      <th>Ford</th>\n",
       "      <td>2022.635</td>\n",
       "    </tr>\n",
       "    <tr>\n",
       "      <th>Honda</th>\n",
       "      <td>592.674</td>\n",
       "    </tr>\n",
       "    <tr>\n",
       "      <th>Hyundai</th>\n",
       "      <td>137.326</td>\n",
       "    </tr>\n",
       "    <tr>\n",
       "      <th>Infiniti</th>\n",
       "      <td>23.713</td>\n",
       "    </tr>\n",
       "    <tr>\n",
       "      <th>Jaguar</th>\n",
       "      <td>15.467</td>\n",
       "    </tr>\n",
       "    <tr>\n",
       "      <th>Jeep</th>\n",
       "      <td>293.153</td>\n",
       "    </tr>\n",
       "    <tr>\n",
       "      <th>Lexus</th>\n",
       "      <td>106.843</td>\n",
       "    </tr>\n",
       "    <tr>\n",
       "      <th>Lincoln</th>\n",
       "      <td>85.634</td>\n",
       "    </tr>\n",
       "    <tr>\n",
       "      <th>Mercedes-B</th>\n",
       "      <td>117.125</td>\n",
       "    </tr>\n",
       "    <tr>\n",
       "      <th>Mercury</th>\n",
       "      <td>237.999</td>\n",
       "    </tr>\n",
       "    <tr>\n",
       "      <th>Mitsubishi</th>\n",
       "      <td>180.895</td>\n",
       "    </tr>\n",
       "    <tr>\n",
       "      <th>Nissan</th>\n",
       "      <td>399.635</td>\n",
       "    </tr>\n",
       "    <tr>\n",
       "      <th>Oldsmobile</th>\n",
       "      <td>178.989</td>\n",
       "    </tr>\n",
       "    <tr>\n",
       "      <th>Plymouth</th>\n",
       "      <td>64.001</td>\n",
       "    </tr>\n",
       "    <tr>\n",
       "      <th>Pontiac</th>\n",
       "      <td>370.534</td>\n",
       "    </tr>\n",
       "    <tr>\n",
       "      <th>Porsche</th>\n",
       "      <td>12.128</td>\n",
       "    </tr>\n",
       "    <tr>\n",
       "      <th>Saab</th>\n",
       "      <td>21.306</td>\n",
       "    </tr>\n",
       "    <tr>\n",
       "      <th>Saturn</th>\n",
       "      <td>168.850</td>\n",
       "    </tr>\n",
       "    <tr>\n",
       "      <th>Subaru</th>\n",
       "      <td>80.135</td>\n",
       "    </tr>\n",
       "    <tr>\n",
       "      <th>Toyota</th>\n",
       "      <td>740.205</td>\n",
       "    </tr>\n",
       "    <tr>\n",
       "      <th>Volkswagen</th>\n",
       "      <td>209.212</td>\n",
       "    </tr>\n",
       "    <tr>\n",
       "      <th>Volvo</th>\n",
       "      <td>75.740</td>\n",
       "    </tr>\n",
       "  </tbody>\n",
       "</table>\n",
       "</div>"
      ],
      "text/plain": [
       "                            sum\n",
       "             Sales_in_thousands\n",
       "Manufacturer                   \n",
       "Acura                    79.005\n",
       "Audi                     40.557\n",
       "BMW                      46.505\n",
       "Buick                   242.019\n",
       "Cadillac                112.178\n",
       "Chevrolet               554.365\n",
       "Chrysler                201.721\n",
       "Dodge                   910.149\n",
       "Ford                   2022.635\n",
       "Honda                   592.674\n",
       "Hyundai                 137.326\n",
       "Infiniti                 23.713\n",
       "Jaguar                   15.467\n",
       "Jeep                    293.153\n",
       "Lexus                   106.843\n",
       "Lincoln                  85.634\n",
       "Mercedes-B              117.125\n",
       "Mercury                 237.999\n",
       "Mitsubishi              180.895\n",
       "Nissan                  399.635\n",
       "Oldsmobile              178.989\n",
       "Plymouth                 64.001\n",
       "Pontiac                 370.534\n",
       "Porsche                  12.128\n",
       "Saab                     21.306\n",
       "Saturn                  168.850\n",
       "Subaru                   80.135\n",
       "Toyota                  740.205\n",
       "Volkswagen              209.212\n",
       "Volvo                    75.740"
      ]
     },
     "execution_count": 8,
     "metadata": {},
     "output_type": "execute_result"
    }
   ],
   "source": [
    "total_sales = pd.pivot_table(sales_table, index=['Manufacturer'], values=['Sales_in_thousands'],aggfunc=[np.sum])\n",
    "total_sales"
   ]
  },
  {
   "cell_type": "markdown",
   "id": "12a6ec5b",
   "metadata": {},
   "source": [
    "Let's order a little bit"
   ]
  },
  {
   "cell_type": "code",
   "execution_count": 9,
   "id": "961d8715",
   "metadata": {
    "tags": []
   },
   "outputs": [
    {
     "data": {
      "text/html": [
       "<div>\n",
       "<style scoped>\n",
       "    .dataframe tbody tr th:only-of-type {\n",
       "        vertical-align: middle;\n",
       "    }\n",
       "\n",
       "    .dataframe tbody tr th {\n",
       "        vertical-align: top;\n",
       "    }\n",
       "\n",
       "    .dataframe thead tr th {\n",
       "        text-align: left;\n",
       "    }\n",
       "\n",
       "    .dataframe thead tr:last-of-type th {\n",
       "        text-align: right;\n",
       "    }\n",
       "</style>\n",
       "<table border=\"1\" class=\"dataframe\">\n",
       "  <thead>\n",
       "    <tr>\n",
       "      <th></th>\n",
       "      <th>sum</th>\n",
       "    </tr>\n",
       "    <tr>\n",
       "      <th></th>\n",
       "      <th>Sales_in_thousands</th>\n",
       "    </tr>\n",
       "    <tr>\n",
       "      <th>Manufacturer</th>\n",
       "      <th></th>\n",
       "    </tr>\n",
       "  </thead>\n",
       "  <tbody>\n",
       "    <tr>\n",
       "      <th>Ford</th>\n",
       "      <td>2022.635</td>\n",
       "    </tr>\n",
       "    <tr>\n",
       "      <th>Dodge</th>\n",
       "      <td>910.149</td>\n",
       "    </tr>\n",
       "    <tr>\n",
       "      <th>Toyota</th>\n",
       "      <td>740.205</td>\n",
       "    </tr>\n",
       "    <tr>\n",
       "      <th>Honda</th>\n",
       "      <td>592.674</td>\n",
       "    </tr>\n",
       "    <tr>\n",
       "      <th>Chevrolet</th>\n",
       "      <td>554.365</td>\n",
       "    </tr>\n",
       "    <tr>\n",
       "      <th>Nissan</th>\n",
       "      <td>399.635</td>\n",
       "    </tr>\n",
       "    <tr>\n",
       "      <th>Pontiac</th>\n",
       "      <td>370.534</td>\n",
       "    </tr>\n",
       "    <tr>\n",
       "      <th>Jeep</th>\n",
       "      <td>293.153</td>\n",
       "    </tr>\n",
       "    <tr>\n",
       "      <th>Buick</th>\n",
       "      <td>242.019</td>\n",
       "    </tr>\n",
       "    <tr>\n",
       "      <th>Mercury</th>\n",
       "      <td>237.999</td>\n",
       "    </tr>\n",
       "    <tr>\n",
       "      <th>Volkswagen</th>\n",
       "      <td>209.212</td>\n",
       "    </tr>\n",
       "    <tr>\n",
       "      <th>Chrysler</th>\n",
       "      <td>201.721</td>\n",
       "    </tr>\n",
       "    <tr>\n",
       "      <th>Mitsubishi</th>\n",
       "      <td>180.895</td>\n",
       "    </tr>\n",
       "    <tr>\n",
       "      <th>Oldsmobile</th>\n",
       "      <td>178.989</td>\n",
       "    </tr>\n",
       "    <tr>\n",
       "      <th>Saturn</th>\n",
       "      <td>168.850</td>\n",
       "    </tr>\n",
       "    <tr>\n",
       "      <th>Hyundai</th>\n",
       "      <td>137.326</td>\n",
       "    </tr>\n",
       "    <tr>\n",
       "      <th>Mercedes-B</th>\n",
       "      <td>117.125</td>\n",
       "    </tr>\n",
       "    <tr>\n",
       "      <th>Cadillac</th>\n",
       "      <td>112.178</td>\n",
       "    </tr>\n",
       "    <tr>\n",
       "      <th>Lexus</th>\n",
       "      <td>106.843</td>\n",
       "    </tr>\n",
       "    <tr>\n",
       "      <th>Lincoln</th>\n",
       "      <td>85.634</td>\n",
       "    </tr>\n",
       "    <tr>\n",
       "      <th>Subaru</th>\n",
       "      <td>80.135</td>\n",
       "    </tr>\n",
       "    <tr>\n",
       "      <th>Acura</th>\n",
       "      <td>79.005</td>\n",
       "    </tr>\n",
       "    <tr>\n",
       "      <th>Volvo</th>\n",
       "      <td>75.740</td>\n",
       "    </tr>\n",
       "    <tr>\n",
       "      <th>Plymouth</th>\n",
       "      <td>64.001</td>\n",
       "    </tr>\n",
       "    <tr>\n",
       "      <th>BMW</th>\n",
       "      <td>46.505</td>\n",
       "    </tr>\n",
       "    <tr>\n",
       "      <th>Audi</th>\n",
       "      <td>40.557</td>\n",
       "    </tr>\n",
       "    <tr>\n",
       "      <th>Infiniti</th>\n",
       "      <td>23.713</td>\n",
       "    </tr>\n",
       "    <tr>\n",
       "      <th>Saab</th>\n",
       "      <td>21.306</td>\n",
       "    </tr>\n",
       "    <tr>\n",
       "      <th>Jaguar</th>\n",
       "      <td>15.467</td>\n",
       "    </tr>\n",
       "    <tr>\n",
       "      <th>Porsche</th>\n",
       "      <td>12.128</td>\n",
       "    </tr>\n",
       "  </tbody>\n",
       "</table>\n",
       "</div>"
      ],
      "text/plain": [
       "                            sum\n",
       "             Sales_in_thousands\n",
       "Manufacturer                   \n",
       "Ford                   2022.635\n",
       "Dodge                   910.149\n",
       "Toyota                  740.205\n",
       "Honda                   592.674\n",
       "Chevrolet               554.365\n",
       "Nissan                  399.635\n",
       "Pontiac                 370.534\n",
       "Jeep                    293.153\n",
       "Buick                   242.019\n",
       "Mercury                 237.999\n",
       "Volkswagen              209.212\n",
       "Chrysler                201.721\n",
       "Mitsubishi              180.895\n",
       "Oldsmobile              178.989\n",
       "Saturn                  168.850\n",
       "Hyundai                 137.326\n",
       "Mercedes-B              117.125\n",
       "Cadillac                112.178\n",
       "Lexus                   106.843\n",
       "Lincoln                  85.634\n",
       "Subaru                   80.135\n",
       "Acura                    79.005\n",
       "Volvo                    75.740\n",
       "Plymouth                 64.001\n",
       "BMW                      46.505\n",
       "Audi                     40.557\n",
       "Infiniti                 23.713\n",
       "Saab                     21.306\n",
       "Jaguar                   15.467\n",
       "Porsche                  12.128"
      ]
     },
     "execution_count": 9,
     "metadata": {},
     "output_type": "execute_result"
    }
   ],
   "source": [
    "total_sales = total_sales.sort_values(by=('sum', 'Sales_in_thousands'), ascending=False)\n",
    "total_sales"
   ]
  },
  {
   "cell_type": "code",
   "execution_count": null,
   "id": "b4feee6f-048a-4248-9893-c5318d7244ca",
   "metadata": {},
   "outputs": [],
   "source": []
  },
  {
   "cell_type": "code",
   "execution_count": 10,
   "id": "00c608d1",
   "metadata": {
    "tags": []
   },
   "outputs": [
    {
     "data": {
      "image/png": "[encoded data removed]",
      "text/plain": [
       "<Figure size 640x480 with 1 Axes>"
      ]
     },
     "metadata": {},
     "output_type": "display_data"
    }
   ],
   "source": [
    "total_sales.plot.bar(legend = False)\n",
    "plt.ylabel('Sales (€)');\n",
    "plt.xlabel('Manufacturers')\n",
    "plt.title('Summary of Manufacturers total sales')\n",
    "plt.legend()\n",
    "plt.savefig('manufacturer_total_sales.png')  # this saves the figure i"
   ]
  },
  {
   "cell_type": "code",
   "execution_count": null,
   "id": "4ca88989-e44a-4126-9a1a-724aa734e818",
   "metadata": {},
   "outputs": [],
   "source": []
  },
  {
   "cell_type": "code",
   "execution_count": null,
   "id": "8b041c5d-68a8-44e7-8f5a-18be88d51022",
   "metadata": {},
   "outputs": [],
   "source": []
  },
  {
   "cell_type": "code",
   "execution_count": 11,
   "id": "bd8f511c",
   "metadata": {
    "tags": []
   },
   "outputs": [
    {
     "data": {
      "image/png": "[encoded data removed]",
      "text/plain": [
       "<Figure size 640x480 with 1 Axes>"
      ]
     },
     "metadata": {},
     "output_type": "display_data"
    }
   ],
   "source": [
    "total_sales.iloc[0:15].plot.pie(subplots=True, legend= False, autopct=\"%1.1f%%\")\n",
    "plt.ylabel('');\n",
    "plt.xlabel('')\n",
    "plt.title('Manufacturers Total Sales (k€)')\n",
    "plt.savefig('manufacturer_total_sales2.png') "
   ]
  },
  {
   "cell_type": "markdown",
   "id": "2377031f",
   "metadata": {},
   "source": [
    "## I would like to understand if there are factors that influence the sales"
   ]
  },
  {
   "cell_type": "code",
   "execution_count": 12,
   "id": "9ca7de1e",
   "metadata": {
    "tags": []
   },
   "outputs": [
    {
     "data": {
      "image/png": "[encoded data removed]",
      "text/plain": [
       "<Figure size 640x480 with 1 Axes>"
      ]
     },
     "metadata": {},
     "output_type": "display_data"
    }
   ],
   "source": [
    "plt.scatter(sales_table['Price_in_thousands'].values, sales_table['Sales_in_thousands'].values)\n",
    "plt.xlabel(\"Price_in_thousands\");plt.ylabel(\"Sales_in_thousands\");"
   ]
  },
  {
   "cell_type": "markdown",
   "id": "b6c822fe-c86e-4981-a371-03adce7b8660",
   "metadata": {},
   "source": [
    "## Let's try with more features"
   ]
  },
  {
   "cell_type": "code",
   "execution_count": 13,
   "id": "33cc9db4",
   "metadata": {
    "tags": []
   },
   "outputs": [
    {
     "data": {
      "image/png": "[encoded data removed]",
      "text/plain": [
       "<Figure size 1500x1500 with 42 Axes>"
      ]
     },
     "metadata": {},
     "output_type": "display_data"
    }
   ],
   "source": [
    "g = sns.pairplot(sales_table.iloc[:,[3,4,5,6,7,8]]);\n",
    "g.fig.suptitle(\"Factors that could influence the sales\", fontsize=25)\n",
    "plt.show()"
   ]
  },
  {
   "cell_type": "markdown",
   "id": "0b05d12e-5bb0-49ad-9f58-57b8c959a5e5",
   "metadata": {},
   "source": [
    "## Price, TV Advertising (very correlated) and Social Advertising seems interesting"
   ]
  },
  {
   "cell_type": "markdown",
   "id": "7ec46065-a5e6-466f-a824-d7b1398d5b62",
   "metadata": {
    "tags": []
   },
   "source": [
    "## Let's try to calculate a correlation "
   ]
  },
  {
   "cell_type": "code",
   "execution_count": 14,
   "id": "2ba47b14-8365-4c97-9028-af46f039ecde",
   "metadata": {
    "tags": []
   },
   "outputs": [
    {
     "name": "stdout",
     "output_type": "stream",
     "text": [
      "Correlation between Sales and TV Advertising: 0.9993329337138769\n",
      "Correlation between Sales and Social Advertising: 0.40834603089512705\n",
      "Correlation between Sales and Price: -0.2907502878534738\n"
     ]
    }
   ],
   "source": [
    "cor_tv = sales_table['Sales_in_thousands'].corr(sales_table['TV Advert (thousands)'])\n",
    "cor_social = sales_table['Sales_in_thousands'].corr(sales_table['Social Advert'])\n",
    "cor_price = sales_table['Sales_in_thousands'].corr(sales_table['Price_in_thousands'])\n",
    "print(\"Correlation between Sales and TV Advertising:\", cor_tv)\n",
    "print(\"Correlation between Sales and Social Advertising:\", cor_social)\n",
    "print(\"Correlation between Sales and Price:\", cor_price)"
   ]
  },
  {
   "cell_type": "markdown",
   "id": "d3f76356-92c3-4bab-b879-4734a2d779f4",
   "metadata": {},
   "source": [
    "## TV Advertising seems to be very linearly correlated with Sales.\n",
    "\n",
    "## Could be interesting to perform a linear regression to have a predictor for sales"
   ]
  },
  {
   "cell_type": "code",
   "execution_count": 5,
   "id": "30fc89eb-89f3-4857-b4b3-a6d395c2e909",
   "metadata": {
    "tags": []
   },
   "outputs": [],
   "source": [
    "# extract X training data from dataframe\n",
    "X_train = sales_table['TV Advert (thousands)'].values\n",
    "X_train = sm.add_constant(X_train)\n",
    "\n",
    "# extract y training data from dataframe\n",
    "y_train = sales_table['Sales_in_thousands'].values\n"
   ]
  },
  {
   "cell_type": "code",
   "execution_count": 6,
   "id": "d11e5608-12a0-4b33-8a6e-290dbd40befb",
   "metadata": {
    "tags": []
   },
   "outputs": [
    {
     "name": "stdout",
     "output_type": "stream",
     "text": [
      "                            OLS Regression Results                            \n",
      "==============================================================================\n",
      "Dep. Variable:                      y   R-squared:                       0.999\n",
      "Model:                            OLS   Adj. R-squared:                  0.999\n",
      "Method:                 Least Squares   F-statistic:                 1.161e+05\n",
      "Date:                Thu, 26 Oct 2023   Prob (F-statistic):          9.96e-225\n",
      "Time:                        15:03:28   Log-Likelihood:                -365.15\n",
      "No. Observations:                 157   AIC:                             734.3\n",
      "Df Residuals:                     155   BIC:                             740.4\n",
      "Df Model:                           1                                         \n",
      "Covariance Type:            nonrobust                                         \n",
      "==============================================================================\n",
      "                 coef    std err          t      P>|t|      [0.025      0.975]\n",
      "------------------------------------------------------------------------------\n",
      "const         -0.0415      0.253     -0.164      0.870      -0.540       0.457\n",
      "x1             0.1080      0.000    340.682      0.000       0.107       0.109\n",
      "==============================================================================\n",
      "Omnibus:                        1.541   Durbin-Watson:                   2.017\n",
      "Prob(Omnibus):                  0.463   Jarque-Bera (JB):                1.174\n",
      "Skew:                          -0.051   Prob(JB):                        0.556\n",
      "Kurtosis:                       3.411   Cond. No.                     1.01e+03\n",
      "==============================================================================\n",
      "\n",
      "Notes:\n",
      "[1] Standard Errors assume that the covariance matrix of the errors is correctly specified.\n",
      "[2] The condition number is large, 1.01e+03. This might indicate that there are\n",
      "strong multicollinearity or other numerical problems.\n"
     ]
    }
   ],
   "source": [
    "# set simple linear regression model\n",
    "model = sm.OLS(y_train,X_train)    # create the OLS model\n",
    "\n",
    "# train the model\n",
    "results= model.fit()   # train the model\n",
    "\n",
    "# Print the model summary\n",
    "print(results.summary())"
   ]
  },
  {
   "cell_type": "code",
   "execution_count": 17,
   "id": "c0eddf43-4cc9-4f84-8656-f877740a1b52",
   "metadata": {
    "tags": []
   },
   "outputs": [
    {
     "name": "stdout",
     "output_type": "stream",
     "text": [
      "Coefficients:  [-0.04148823  0.1079617 ]\n",
      "R2:  0.9986663124051847\n"
     ]
    }
   ],
   "source": [
    "print(\"Coefficients: \", results.params)\n",
    "print(\"R2: \", results.rsquared)"
   ]
  },
  {
   "cell_type": "code",
   "execution_count": null,
   "id": "a28fea78-5857-4045-9621-786cf748f357",
   "metadata": {},
   "outputs": [],
   "source": []
  },
  {
   "cell_type": "markdown",
   "id": "711df7e4-73d7-4ad2-a58d-7eb06a2b2108",
   "metadata": {
    "tags": []
   },
   "source": [
    "## Let's try to visualize the regression line "
   ]
  },
  {
   "cell_type": "code",
   "execution_count": 18,
   "id": "f45be613-8981-42cf-9f87-8f0bd5aa8447",
   "metadata": {
    "tags": []
   },
   "outputs": [
    {
     "data": {
      "image/png": "[encoded data removed]",
      "text/plain": [
       "<Figure size 800x600 with 1 Axes>"
      ]
     },
     "metadata": {},
     "output_type": "display_data"
    }
   ],
   "source": [
    "# ------------------------------------\n",
    "# calculate predictions\n",
    "pred_ols = results.get_prediction()\n",
    "\n",
    "#-------------------------------------\n",
    "# Confidence intervals\n",
    "iv_l = pred_ols.summary_frame()[\"obs_ci_lower\"]\n",
    "iv_u = pred_ols.summary_frame()[\"obs_ci_upper\"]\n",
    "\n",
    "#--------------------------------------\n",
    "# plotting\n",
    "fig, ax = plt.subplots(figsize=(8, 6))\n",
    "ax.plot(X_train[:,1], y_train, \"o\", label=\"data\")   # plot original data\n",
    "ax.plot(X_train[:,1], results.fittedvalues, \"r--.\", label=\"OLS\")  # plot fitted data\n",
    "ax.plot(X_train[:,1], iv_u, \"r--\", c='g')   # plot upper confident interval\n",
    "ax.plot(X_train[:,1], iv_l, \"r--\", c='g')   # plot lower confident interval\n",
    "\n",
    "#---------------------------------------\n",
    "# figure decorator\n",
    "ax.legend(loc=\"best\")\n",
    "plt.xlim(0,600)\n",
    "plt.ylim(0,70)\n",
    "plt.xlabel('TV Advertising (k euros)')\n",
    "plt.ylabel('Sales (k)')\n",
    "plt.show()"
   ]
  },
  {
   "cell_type": "markdown",
   "id": "017dc438-d3f5-48a4-88f7-173b07993487",
   "metadata": {},
   "source": [
    "## Having a statistical model for TV Advertising I can estimate how many sales can be generated with an investment of 500k euro in TV Advertising"
   ]
  },
  {
   "cell_type": "code",
   "execution_count": 7,
   "id": "7b91d252-bc9a-4491-b16a-723c18adcea6",
   "metadata": {
    "tags": []
   },
   "outputs": [
    {
     "name": "stdout",
     "output_type": "stream",
     "text": [
      "Estimated amount of sales with investment of 500 k euros is 53.939363276029276 k units\n"
     ]
    }
   ],
   "source": [
    "inv = 500\n",
    "β1 = results.params[0]  # estimated parameter\n",
    "β2 = results.params[1]  # estimated parameter\n",
    "y_pred = β1 + β2 * inv\n",
    "print(\"Estimated amount of sales with investment of\",inv,\"k euros is\",y_pred, \"k units\")"
   ]
  },
  {
   "cell_type": "markdown",
   "id": "02aa944f-42cd-4535-8ace-75853426151f",
   "metadata": {
    "tags": []
   },
   "source": [
    "# Let's make the prediction for the TV Advertising"
   ]
  },
  {
   "cell_type": "code",
   "execution_count": 20,
   "id": "6587b597-96e1-41a9-bef1-b2a41c1751f2",
   "metadata": {
    "tags": []
   },
   "outputs": [],
   "source": [
    "X_train_social = sales_table['Social Advert'].values"
   ]
  },
  {
   "cell_type": "code",
   "execution_count": 21,
   "id": "b4989b69-f3ee-4025-871f-d924d23e4b35",
   "metadata": {
    "tags": []
   },
   "outputs": [
    {
     "name": "stdout",
     "output_type": "stream",
     "text": [
      "                                 OLS Regression Results                                \n",
      "=======================================================================================\n",
      "Dep. Variable:                      y   R-squared (uncentered):                   0.462\n",
      "Model:                            OLS   Adj. R-squared (uncentered):              0.459\n",
      "Method:                 Least Squares   F-statistic:                              134.1\n",
      "Date:                Sun, 22 Oct 2023   Prob (F-statistic):                    8.91e-23\n",
      "Time:                        20:14:37   Log-Likelihood:                         -873.52\n",
      "No. Observations:                 157   AIC:                                      1749.\n",
      "Df Residuals:                     156   BIC:                                      1752.\n",
      "Df Model:                           1                                                  \n",
      "Covariance Type:            nonrobust                                                  \n",
      "==============================================================================\n",
      "                 coef    std err          t      P>|t|      [0.025      0.975]\n",
      "------------------------------------------------------------------------------\n",
      "x1             0.0010   8.81e-05     11.582      0.000       0.001       0.001\n",
      "==============================================================================\n",
      "Omnibus:                       38.896   Durbin-Watson:                   1.202\n",
      "Prob(Omnibus):                  0.000   Jarque-Bera (JB):               68.637\n",
      "Skew:                           1.189   Prob(JB):                     1.25e-15\n",
      "Kurtosis:                       5.199   Cond. No.                         1.00\n",
      "==============================================================================\n",
      "\n",
      "Notes:\n",
      "[1] R² is computed without centering (uncentered) since the model does not contain a constant.\n",
      "[2] Standard Errors assume that the covariance matrix of the errors is correctly specified.\n"
     ]
    }
   ],
   "source": [
    "# train the model\n",
    "\n",
    "model1 = sm.OLS(y_train,X_train_social)    # create the OLS model\n",
    "results1 = model1.fit()   # train the model\n",
    "\n",
    "# Print the model summary\n",
    "print(results1.summary())"
   ]
  },
  {
   "cell_type": "markdown",
   "id": "5fe1f426-9428-46a7-91b7-9eacd045c528",
   "metadata": {
    "tags": []
   },
   "source": [
    "## We got poor results. Let's try with a non linear estimator: KNeighborsRegressor (https://it.wikipedia.org/wiki/K-nearest_neighbors)"
   ]
  },
  {
   "cell_type": "code",
   "execution_count": 8,
   "id": "eb8b7548-d7da-4a29-a7ff-aa0fcd4f8742",
   "metadata": {
    "tags": []
   },
   "outputs": [],
   "source": [
    "# import the libraries\n",
    "from sklearn import neighbors   # to import the model\n",
    "\n",
    "# extract data from original sales dataframe\n",
    "X_social = sales_table['Social Advert'].values\n",
    "y = sales_table['Sales_in_thousands'].values\n",
    "\n",
    "# preprocess inputs for the model\n",
    "from sklearn.preprocessing import scale   # to preprocess the input\n",
    "X_social_prep = scale(X_social, with_mean=False, with_std=False).reshape(-1,1)\n",
    "\n",
    "# split train test and test test to check accuracy of the model\n",
    "from sklearn.model_selection import train_test_split\n",
    "X_train, X_test, y_train, y_test = train_test_split(X_social_prep, y, test_size=0.25)\n",
    "\n",
    "# set model hyperparameters\n",
    "n_neighbors = 20\n",
    "\n",
    "# set the model\n",
    "knn = neighbors.KNeighborsRegressor(n_neighbors)\n",
    "\n",
    "# fit the model\n",
    "results = knn.fit(X_train, y_train)"
   ]
  },
  {
   "cell_type": "code",
   "execution_count": null,
   "id": "2964249e-0400-4c31-8cb5-7ea3b93495ca",
   "metadata": {},
   "outputs": [],
   "source": []
  },
  {
   "cell_type": "code",
   "execution_count": 9,
   "id": "091a98ab-4f52-4322-bb34-c478c6b54ac0",
   "metadata": {
    "tags": []
   },
   "outputs": [
    {
     "name": "stdout",
     "output_type": "stream",
     "text": [
      "MSE train: 4882.019189670513\n",
      "MSE test: 2485.3456379926247\n"
     ]
    }
   ],
   "source": [
    "# Calculate the mean squared error (MSE)\n",
    "def mse(y_true, y_pred):\n",
    "  return np.mean((y_true - y_pred) ** 2)\n",
    "\n",
    "# Calculate the test MSE\n",
    "y_hat_train = results.predict(X_train)\n",
    "mse_value_train = mse(y_train, y_hat_train)\n",
    "\n",
    "# Calculate the test MSE\n",
    "y_hat_test = results.predict(X_test)\n",
    "mse_value_test = mse(y_test, y_hat_test)\n",
    "\n",
    "# Print the MSE\n",
    "print(\"MSE train:\",mse_value_train)\n",
    "print(\"MSE test:\",mse_value_test)"
   ]
  },
  {
   "cell_type": "markdown",
   "id": "27be78e7-dab7-4dfd-ad9a-b5a79989ea12",
   "metadata": {
    "tags": []
   },
   "source": [
    "# Note that the MSE change each time we run the model"
   ]
  },
  {
   "cell_type": "markdown",
   "id": "7abf3da7-5d80-43fb-a915-05eb84ae2b97",
   "metadata": {},
   "source": [
    "## Let's have a look of the predition"
   ]
  },
  {
   "cell_type": "code",
   "execution_count": 236,
   "id": "a54b1cc5-12ec-48ca-a0e8-59516976430c",
   "metadata": {
    "tags": []
   },
   "outputs": [
    {
     "data": {
      "text/plain": [
       "272270"
      ]
     },
     "execution_count": 236,
     "metadata": {},
     "output_type": "execute_result"
    }
   ],
   "source": []
  },
  {
   "cell_type": "code",
   "execution_count": 10,
   "id": "03d48cb4-a8c7-426d-a260-cb25f7081995",
   "metadata": {
    "tags": []
   },
   "outputs": [
    {
     "data": {
      "image/png": "[encoded data removed]",
      "text/plain": [
       "<Figure size 640x480 with 1 Axes>"
      ]
     },
     "metadata": {},
     "output_type": "display_data"
    }
   ],
   "source": [
    "y_hat = results.predict(X_social_prep)\n",
    "\n",
    "plt.scatter(X_social_prep, y, color='darkorange', label='data')\n",
    "plt.scatter(X_social_prep, y_hat, color='navy', label='prediction')\n",
    "plt.legend()\n",
    "plt.title(\"KNeighborsRegressor (k = %i)\" % (n_neighbors))\n",
    "\n",
    "plt.tight_layout()\n",
    "plt.xlim(0,200000)\n",
    "plt.ylim(0,400)\n",
    "plt.xlabel(\"Social Advertising investment (euros)\")\n",
    "plt.ylabel(\"Sales (k units)\")\n",
    "\n",
    "plt.show()"
   ]
  },
  {
   "cell_type": "markdown",
   "id": "69270470-9b8c-431e-b545-4b2405139948",
   "metadata": {},
   "source": [
    "## Do we have the best model? We can change the hyperparameters **n_neighbors** and check MSE"
   ]
  },
  {
   "cell_type": "code",
   "execution_count": 11,
   "id": "7804486a-3331-4a46-a7f5-12547083ad3f",
   "metadata": {
    "tags": []
   },
   "outputs": [],
   "source": [
    "# split train test and test test to check accuracy of the model\n",
    "X_train, X_test, y_train, y_test = train_test_split(X_social_prep, y, test_size=0.25)\n",
    "\n",
    "# we will use the SAME set to train the model with different hyperparameters\n",
    "mse_value_train = []\n",
    "mse_value_test = []\n",
    "\n",
    "for i in range(1,100):\n",
    "    n_neighbors = i\n",
    "    knn = neighbors.KNeighborsRegressor(n_neighbors)\n",
    "    results = knn.fit(X_train, y_train)\n",
    "    # Calculate the test MSE\n",
    "    y_hat_train = results.predict(X_train)\n",
    "    mse_value_train.append(mse(y_train, y_hat_train))\n",
    "    # Calculate the test MSE\n",
    "    y_hat_test = results.predict(X_test)\n",
    "    mse_value_test.append(mse(y_test, y_hat_test))"
   ]
  },
  {
   "cell_type": "code",
   "execution_count": 12,
   "id": "28b1313b-64af-475f-be8b-18378875061d",
   "metadata": {
    "tags": []
   },
   "outputs": [
    {
     "data": {
      "text/plain": [
       "Text(0, 0.5, 'MSE')"
      ]
     },
     "execution_count": 12,
     "metadata": {},
     "output_type": "execute_result"
    },
    {
     "data": {
      "image/png": "[encoded data removed]",
      "text/plain": [
       "<Figure size 640x480 with 1 Axes>"
      ]
     },
     "metadata": {},
     "output_type": "display_data"
    }
   ],
   "source": [
    "plt.plot(mse_value_train, label='Train MSE')\n",
    "plt.plot(mse_value_test, label='Test MSE')\n",
    "plt.legend()\n",
    "plt.xlabel('Neighbors')\n",
    "plt.ylabel('MSE')"
   ]
  },
  {
   "cell_type": "markdown",
   "id": "ffca23a6-dbef-47e1-a5d9-b69bfe8325d4",
   "metadata": {},
   "source": [
    "## we can take neighbors = 50 as best hyperparameter and make a prediction for the investment of 75k euro in Social Advertising\n"
   ]
  },
  {
   "cell_type": "code",
   "execution_count": 14,
   "id": "a88f8b70-c0f7-4e26-8921-578f96881be1",
   "metadata": {
    "tags": []
   },
   "outputs": [
    {
     "name": "stdout",
     "output_type": "stream",
     "text": [
      "An investment of 75k euro in Social Advertising generates  48.62184 units of sale\n"
     ]
    }
   ],
   "source": [
    "## we can take neighbors = 50 as best hyperparameter and prediction about and make a prediction for the investment of 75k euro in Social Advertising\n",
    "n_neighbors = 50\n",
    "\n",
    "knn = neighbors.KNeighborsRegressor(n_neighbors)\n",
    "results = knn.fit(X_train, y_train)\n",
    "y_hat = results.predict(np.array([75000]).reshape(-1,1))\n",
    "\n",
    "print('An investment of 75k euro in Social Advertising generates ',y_hat[0], 'units of sale')"
   ]
  },
  {
   "cell_type": "markdown",
   "id": "2d54dde1-616f-4323-8711-6fdccadef771",
   "metadata": {},
   "source": [
    "# Last question: The award\n",
    "\n",
    "## We have to make a prediction for three new cars models about a chance to win the prestigious award \"Car of the Year\".\n",
    "\n",
    "## Factors of success are Power performance and Fuel Efficiency. "
   ]
  },
  {
   "cell_type": "code",
   "execution_count": 15,
   "id": "d480146c-0dd9-4028-8077-6da7fc6b2e74",
   "metadata": {
    "tags": []
   },
   "outputs": [
    {
     "data": {
      "text/html": [
       "<div>\n",
       "<style scoped>\n",
       "    .dataframe tbody tr th:only-of-type {\n",
       "        vertical-align: middle;\n",
       "    }\n",
       "\n",
       "    .dataframe tbody tr th {\n",
       "        vertical-align: top;\n",
       "    }\n",
       "\n",
       "    .dataframe thead th {\n",
       "        text-align: right;\n",
       "    }\n",
       "</style>\n",
       "<table border=\"1\" class=\"dataframe\">\n",
       "  <thead>\n",
       "    <tr style=\"text-align: right;\">\n",
       "      <th></th>\n",
       "      <th>Manufacturer</th>\n",
       "      <th>Model</th>\n",
       "      <th>Fuel_efficiency</th>\n",
       "      <th>Power_perf_factor</th>\n",
       "      <th>Awarded</th>\n",
       "    </tr>\n",
       "  </thead>\n",
       "  <tbody>\n",
       "    <tr>\n",
       "      <th>0</th>\n",
       "      <td>Acura</td>\n",
       "      <td>Integra</td>\n",
       "      <td>28.0</td>\n",
       "      <td>58.280150</td>\n",
       "      <td>0</td>\n",
       "    </tr>\n",
       "    <tr>\n",
       "      <th>1</th>\n",
       "      <td>Acura</td>\n",
       "      <td>TL</td>\n",
       "      <td>25.0</td>\n",
       "      <td>91.370778</td>\n",
       "      <td>0</td>\n",
       "    </tr>\n",
       "    <tr>\n",
       "      <th>2</th>\n",
       "      <td>Acura</td>\n",
       "      <td>CL</td>\n",
       "      <td>26.0</td>\n",
       "      <td>0.000000</td>\n",
       "      <td>0</td>\n",
       "    </tr>\n",
       "    <tr>\n",
       "      <th>3</th>\n",
       "      <td>Acura</td>\n",
       "      <td>RL</td>\n",
       "      <td>22.0</td>\n",
       "      <td>91.389779</td>\n",
       "      <td>0</td>\n",
       "    </tr>\n",
       "    <tr>\n",
       "      <th>4</th>\n",
       "      <td>Audi</td>\n",
       "      <td>A4</td>\n",
       "      <td>27.0</td>\n",
       "      <td>62.777639</td>\n",
       "      <td>0</td>\n",
       "    </tr>\n",
       "    <tr>\n",
       "      <th>...</th>\n",
       "      <td>...</td>\n",
       "      <td>...</td>\n",
       "      <td>...</td>\n",
       "      <td>...</td>\n",
       "      <td>...</td>\n",
       "    </tr>\n",
       "    <tr>\n",
       "      <th>152</th>\n",
       "      <td>Volvo</td>\n",
       "      <td>V40</td>\n",
       "      <td>25.0</td>\n",
       "      <td>66.498812</td>\n",
       "      <td>0</td>\n",
       "    </tr>\n",
       "    <tr>\n",
       "      <th>153</th>\n",
       "      <td>Volvo</td>\n",
       "      <td>S70</td>\n",
       "      <td>25.0</td>\n",
       "      <td>70.654495</td>\n",
       "      <td>0</td>\n",
       "    </tr>\n",
       "    <tr>\n",
       "      <th>154</th>\n",
       "      <td>Volvo</td>\n",
       "      <td>V70</td>\n",
       "      <td>25.0</td>\n",
       "      <td>71.155978</td>\n",
       "      <td>0</td>\n",
       "    </tr>\n",
       "    <tr>\n",
       "      <th>155</th>\n",
       "      <td>Volvo</td>\n",
       "      <td>C70</td>\n",
       "      <td>23.0</td>\n",
       "      <td>101.623357</td>\n",
       "      <td>0</td>\n",
       "    </tr>\n",
       "    <tr>\n",
       "      <th>156</th>\n",
       "      <td>Volvo</td>\n",
       "      <td>S80</td>\n",
       "      <td>24.0</td>\n",
       "      <td>85.735655</td>\n",
       "      <td>0</td>\n",
       "    </tr>\n",
       "  </tbody>\n",
       "</table>\n",
       "<p>157 rows × 5 columns</p>\n",
       "</div>"
      ],
      "text/plain": [
       "    Manufacturer    Model  Fuel_efficiency  Power_perf_factor  Awarded\n",
       "0          Acura  Integra             28.0          58.280150        0\n",
       "1          Acura       TL             25.0          91.370778        0\n",
       "2          Acura       CL             26.0           0.000000        0\n",
       "3          Acura       RL             22.0          91.389779        0\n",
       "4           Audi       A4             27.0          62.777639        0\n",
       "..           ...      ...              ...                ...      ...\n",
       "152        Volvo      V40             25.0          66.498812        0\n",
       "153        Volvo      S70             25.0          70.654495        0\n",
       "154        Volvo      V70             25.0          71.155978        0\n",
       "155        Volvo      C70             23.0         101.623357        0\n",
       "156        Volvo      S80             24.0          85.735655        0\n",
       "\n",
       "[157 rows x 5 columns]"
      ]
     },
     "execution_count": 15,
     "metadata": {},
     "output_type": "execute_result"
    }
   ],
   "source": [
    "sales_table[['Manufacturer','Model','Fuel_efficiency','Power_perf_factor','Awarded']]"
   ]
  },
  {
   "cell_type": "markdown",
   "id": "36a5669b-35af-4e63-883c-f232f3706e0f",
   "metadata": {},
   "source": [
    "## We note that the column \"Awarded\" has 0 for NOT win and 1 for WIN.\n",
    "\n",
    "## We have to build a standard classifier with 2 predictors: \"Fuel_efficiency\" and \"Power_perf_factor\""
   ]
  },
  {
   "cell_type": "markdown",
   "id": "3412f2c1-1019-4852-8247-95428f32da32",
   "metadata": {},
   "source": [
    "## Let's load the file provided by IT"
   ]
  },
  {
   "cell_type": "code",
   "execution_count": 16,
   "id": "ae180352-2820-46b5-b0cb-fc28a154d197",
   "metadata": {
    "tags": []
   },
   "outputs": [],
   "source": [
    "# Load the CSV file provided by IT on a local table (dataframe)\n",
    "award_factors = pd.read_csv('./Data/award-factors.csv')\n",
    "\n",
    "# Alternatively load the file from an url\n",
    "#url = 'https://raw.githubusercontent.com/pal-dev-labs/Python-for-Economic-Applications/main/Data/award-factors.csv'\n",
    "#award_factors = pd.read_csv(url)"
   ]
  },
  {
   "cell_type": "code",
   "execution_count": 17,
   "id": "90a02dc9-83bb-49f6-b844-223abd810faa",
   "metadata": {
    "tags": []
   },
   "outputs": [
    {
     "data": {
      "text/html": [
       "<div>\n",
       "<style scoped>\n",
       "    .dataframe tbody tr th:only-of-type {\n",
       "        vertical-align: middle;\n",
       "    }\n",
       "\n",
       "    .dataframe tbody tr th {\n",
       "        vertical-align: top;\n",
       "    }\n",
       "\n",
       "    .dataframe thead th {\n",
       "        text-align: right;\n",
       "    }\n",
       "</style>\n",
       "<table border=\"1\" class=\"dataframe\">\n",
       "  <thead>\n",
       "    <tr style=\"text-align: right;\">\n",
       "      <th></th>\n",
       "      <th>Manufacturer</th>\n",
       "      <th>Model</th>\n",
       "      <th>Fuel_efficiency</th>\n",
       "      <th>Power_perf_factor</th>\n",
       "    </tr>\n",
       "  </thead>\n",
       "  <tbody>\n",
       "    <tr>\n",
       "      <th>0</th>\n",
       "      <td>Acura</td>\n",
       "      <td>X1</td>\n",
       "      <td>22</td>\n",
       "      <td>48.280150</td>\n",
       "    </tr>\n",
       "    <tr>\n",
       "      <th>1</th>\n",
       "      <td>Audi</td>\n",
       "      <td>X1</td>\n",
       "      <td>20</td>\n",
       "      <td>74.565105</td>\n",
       "    </tr>\n",
       "    <tr>\n",
       "      <th>2</th>\n",
       "      <td>Audi</td>\n",
       "      <td>X2</td>\n",
       "      <td>21</td>\n",
       "      <td>110.320000</td>\n",
       "    </tr>\n",
       "    <tr>\n",
       "      <th>3</th>\n",
       "      <td>BMW</td>\n",
       "      <td>323i 2</td>\n",
       "      <td>26</td>\n",
       "      <td>71.191207</td>\n",
       "    </tr>\n",
       "    <tr>\n",
       "      <th>4</th>\n",
       "      <td>Chevrolet</td>\n",
       "      <td>Lumina2</td>\n",
       "      <td>25</td>\n",
       "      <td>169.991396</td>\n",
       "    </tr>\n",
       "    <tr>\n",
       "      <th>5</th>\n",
       "      <td>Chevrolet</td>\n",
       "      <td>Monte Carlo 2</td>\n",
       "      <td>25</td>\n",
       "      <td>72.030917</td>\n",
       "    </tr>\n",
       "    <tr>\n",
       "      <th>6</th>\n",
       "      <td>Chevrolet</td>\n",
       "      <td>Camaro</td>\n",
       "      <td>25</td>\n",
       "      <td>81.118543</td>\n",
       "    </tr>\n",
       "    <tr>\n",
       "      <th>7</th>\n",
       "      <td>Chevrolet</td>\n",
       "      <td>Corvette 2</td>\n",
       "      <td>20</td>\n",
       "      <td>121.141150</td>\n",
       "    </tr>\n",
       "    <tr>\n",
       "      <th>8</th>\n",
       "      <td>Chevrolet</td>\n",
       "      <td>Prizm</td>\n",
       "      <td>33</td>\n",
       "      <td>48.297636</td>\n",
       "    </tr>\n",
       "    <tr>\n",
       "      <th>9</th>\n",
       "      <td>Chevrolet</td>\n",
       "      <td>Metro</td>\n",
       "      <td>45</td>\n",
       "      <td>23.276272</td>\n",
       "    </tr>\n",
       "    <tr>\n",
       "      <th>10</th>\n",
       "      <td>Nissan</td>\n",
       "      <td>Quest</td>\n",
       "      <td>21</td>\n",
       "      <td>71.171664</td>\n",
       "    </tr>\n",
       "    <tr>\n",
       "      <th>11</th>\n",
       "      <td>Nissan</td>\n",
       "      <td>Pathfinder</td>\n",
       "      <td>19</td>\n",
       "      <td>72.290355</td>\n",
       "    </tr>\n",
       "    <tr>\n",
       "      <th>12</th>\n",
       "      <td>Pontiac</td>\n",
       "      <td>Bonneville 2</td>\n",
       "      <td>24</td>\n",
       "      <td>182.661356</td>\n",
       "    </tr>\n",
       "    <tr>\n",
       "      <th>13</th>\n",
       "      <td>Pontiac</td>\n",
       "      <td>Montana 2</td>\n",
       "      <td>23</td>\n",
       "      <td>76.208440</td>\n",
       "    </tr>\n",
       "    <tr>\n",
       "      <th>14</th>\n",
       "      <td>Porsche</td>\n",
       "      <td>Boxter 2</td>\n",
       "      <td>22</td>\n",
       "      <td>93.437331</td>\n",
       "    </tr>\n",
       "    <tr>\n",
       "      <th>15</th>\n",
       "      <td>Porsche</td>\n",
       "      <td>Carrera Coupe 2</td>\n",
       "      <td>21</td>\n",
       "      <td>134.390975</td>\n",
       "    </tr>\n",
       "    <tr>\n",
       "      <th>16</th>\n",
       "      <td>Porsche</td>\n",
       "      <td>Carrera Cabrio 2</td>\n",
       "      <td>23</td>\n",
       "      <td>135.914710</td>\n",
       "    </tr>\n",
       "  </tbody>\n",
       "</table>\n",
       "</div>"
      ],
      "text/plain": [
       "   Manufacturer             Model  Fuel_efficiency  Power_perf_factor\n",
       "0         Acura                X1               22          48.280150\n",
       "1          Audi                X1               20          74.565105\n",
       "2          Audi                X2               21         110.320000\n",
       "3           BMW            323i 2               26          71.191207\n",
       "4     Chevrolet           Lumina2               25         169.991396\n",
       "5     Chevrolet     Monte Carlo 2               25          72.030917\n",
       "6     Chevrolet            Camaro               25          81.118543\n",
       "7     Chevrolet        Corvette 2               20         121.141150\n",
       "8     Chevrolet             Prizm               33          48.297636\n",
       "9     Chevrolet             Metro               45          23.276272\n",
       "10       Nissan             Quest               21          71.171664\n",
       "11       Nissan        Pathfinder               19          72.290355\n",
       "12      Pontiac      Bonneville 2               24         182.661356\n",
       "13      Pontiac         Montana 2               23          76.208440\n",
       "14      Porsche          Boxter 2               22          93.437331\n",
       "15      Porsche   Carrera Coupe 2               21         134.390975\n",
       "16      Porsche  Carrera Cabrio 2               23         135.914710"
      ]
     },
     "execution_count": 17,
     "metadata": {},
     "output_type": "execute_result"
    }
   ],
   "source": [
    "award_factors"
   ]
  },
  {
   "cell_type": "markdown",
   "id": "9a17c30b-56d5-470a-98cf-4a0938bb49ff",
   "metadata": {
    "tags": []
   },
   "source": [
    "## We will use a Neural Network as a classifier. We will use 2 preditors 'Fuel_efficiency' and 'Power_perf_factor'"
   ]
  },
  {
   "cell_type": "code",
   "execution_count": 18,
   "id": "0c668edc-2ea9-4c38-b1a0-78fe643d7552",
   "metadata": {
    "tags": []
   },
   "outputs": [],
   "source": [
    "# Split the data into features and target\n",
    "X = sales_table[['Fuel_efficiency', 'Power_perf_factor']]\n",
    "y = sales_table['Awarded']\n",
    "\n",
    "# Split the data into training and testing sets\n",
    "X_train, X_test, y_train, y_test = train_test_split(X, y, test_size=0.25, random_state=42)\n"
   ]
  },
  {
   "cell_type": "code",
   "execution_count": 19,
   "id": "fde362a9-6465-45fc-8721-3c27f69c68de",
   "metadata": {
    "tags": []
   },
   "outputs": [],
   "source": [
    "from tensorflow import keras\n",
    "\n",
    "# Define the model\n",
    "model = keras.Sequential([\n",
    "  keras.layers.Dense(16, activation='relu', input_shape=(2,)),\n",
    "  keras.layers.Dense(32, activation='relu'),\n",
    "  keras.layers.Dense(1, activation='sigmoid')\n",
    "])"
   ]
  },
  {
   "cell_type": "code",
   "execution_count": 20,
   "id": "4b46a9a1-6de7-4b16-ab74-a36fa32a5388",
   "metadata": {
    "tags": []
   },
   "outputs": [],
   "source": [
    "# Compile the model\n",
    "model.compile(loss='binary_crossentropy', optimizer='adam', metrics=['accuracy'])"
   ]
  },
  {
   "cell_type": "code",
   "execution_count": 21,
   "id": "808078e1-7d27-4868-a887-4bb2133a391d",
   "metadata": {
    "scrolled": true,
    "tags": []
   },
   "outputs": [
    {
     "name": "stdout",
     "output_type": "stream",
     "text": [
      "Epoch 1/100\n",
      "4/4 [==============================] - 0s 1ms/step - loss: 0.3141 - accuracy: 0.9487\n",
      "Epoch 2/100\n",
      "4/4 [==============================] - 0s 886us/step - loss: 0.3238 - accuracy: 0.9402\n",
      "Epoch 3/100\n",
      "4/4 [==============================] - 0s 886us/step - loss: 0.2721 - accuracy: 0.9316\n",
      "Epoch 4/100\n",
      "4/4 [==============================] - 0s 832us/step - loss: 0.2191 - accuracy: 0.9316\n",
      "Epoch 5/100\n",
      "4/4 [==============================] - 0s 820us/step - loss: 0.1967 - accuracy: 0.9231\n",
      "Epoch 6/100\n",
      "4/4 [==============================] - 0s 833us/step - loss: 0.1956 - accuracy: 0.9231\n",
      "Epoch 7/100\n",
      "4/4 [==============================] - 0s 875us/step - loss: 0.1730 - accuracy: 0.9316\n",
      "Epoch 8/100\n",
      "4/4 [==============================] - 0s 799us/step - loss: 0.1781 - accuracy: 0.9402\n",
      "Epoch 9/100\n",
      "4/4 [==============================] - 0s 758us/step - loss: 0.1694 - accuracy: 0.9402\n",
      "Epoch 10/100\n",
      "4/4 [==============================] - 0s 806us/step - loss: 0.1678 - accuracy: 0.9316\n",
      "Epoch 11/100\n",
      "4/4 [==============================] - 0s 779us/step - loss: 0.1664 - accuracy: 0.9316\n",
      "Epoch 12/100\n",
      "4/4 [==============================] - 0s 757us/step - loss: 0.1604 - accuracy: 0.9487\n",
      "Epoch 13/100\n",
      "4/4 [==============================] - 0s 801us/step - loss: 0.1606 - accuracy: 0.9316\n",
      "Epoch 14/100\n",
      "4/4 [==============================] - 0s 828us/step - loss: 0.1598 - accuracy: 0.9316\n",
      "Epoch 15/100\n",
      "4/4 [==============================] - 0s 744us/step - loss: 0.1565 - accuracy: 0.9402\n",
      "Epoch 16/100\n",
      "4/4 [==============================] - 0s 746us/step - loss: 0.1567 - accuracy: 0.9402\n",
      "Epoch 17/100\n",
      "4/4 [==============================] - 0s 750us/step - loss: 0.1556 - accuracy: 0.9487\n",
      "Epoch 18/100\n",
      "4/4 [==============================] - 0s 806us/step - loss: 0.1610 - accuracy: 0.9316\n",
      "Epoch 19/100\n",
      "4/4 [==============================] - 0s 762us/step - loss: 0.1565 - accuracy: 0.9316\n",
      "Epoch 20/100\n",
      "4/4 [==============================] - 0s 871us/step - loss: 0.1667 - accuracy: 0.9231\n",
      "Epoch 21/100\n",
      "4/4 [==============================] - 0s 748us/step - loss: 0.1579 - accuracy: 0.9231\n",
      "Epoch 22/100\n",
      "4/4 [==============================] - 0s 768us/step - loss: 0.1557 - accuracy: 0.9316\n",
      "Epoch 23/100\n",
      "4/4 [==============================] - 0s 738us/step - loss: 0.1490 - accuracy: 0.9487\n",
      "Epoch 24/100\n",
      "4/4 [==============================] - 0s 827us/step - loss: 0.1521 - accuracy: 0.9402\n",
      "Epoch 25/100\n",
      "4/4 [==============================] - 0s 756us/step - loss: 0.1482 - accuracy: 0.9316\n",
      "Epoch 26/100\n",
      "4/4 [==============================] - 0s 770us/step - loss: 0.1508 - accuracy: 0.9316\n",
      "Epoch 27/100\n",
      "4/4 [==============================] - 0s 747us/step - loss: 0.1614 - accuracy: 0.9402\n",
      "Epoch 28/100\n",
      "4/4 [==============================] - 0s 689us/step - loss: 0.1525 - accuracy: 0.9402\n",
      "Epoch 29/100\n",
      "4/4 [==============================] - 0s 718us/step - loss: 0.1571 - accuracy: 0.9402\n",
      "Epoch 30/100\n",
      "4/4 [==============================] - 0s 770us/step - loss: 0.1513 - accuracy: 0.9402\n",
      "Epoch 31/100\n",
      "4/4 [==============================] - 0s 722us/step - loss: 0.1672 - accuracy: 0.9316\n",
      "Epoch 32/100\n",
      "4/4 [==============================] - 0s 731us/step - loss: 0.1432 - accuracy: 0.9402\n",
      "Epoch 33/100\n",
      "4/4 [==============================] - 0s 759us/step - loss: 0.1500 - accuracy: 0.9316\n",
      "Epoch 34/100\n",
      "4/4 [==============================] - 0s 678us/step - loss: 0.1536 - accuracy: 0.9145\n",
      "Epoch 35/100\n",
      "4/4 [==============================] - 0s 642us/step - loss: 0.1472 - accuracy: 0.9316\n",
      "Epoch 36/100\n",
      "4/4 [==============================] - 0s 734us/step - loss: 0.1393 - accuracy: 0.9402\n",
      "Epoch 37/100\n",
      "4/4 [==============================] - 0s 664us/step - loss: 0.1506 - accuracy: 0.9402\n",
      "Epoch 38/100\n",
      "4/4 [==============================] - 0s 781us/step - loss: 0.1563 - accuracy: 0.9231\n",
      "Epoch 39/100\n",
      "4/4 [==============================] - 0s 809us/step - loss: 0.1466 - accuracy: 0.9231\n",
      "Epoch 40/100\n",
      "4/4 [==============================] - 0s 663us/step - loss: 0.1457 - accuracy: 0.9402\n",
      "Epoch 41/100\n",
      "4/4 [==============================] - 0s 678us/step - loss: 0.1417 - accuracy: 0.9402\n",
      "Epoch 42/100\n",
      "4/4 [==============================] - 0s 684us/step - loss: 0.1412 - accuracy: 0.9316\n",
      "Epoch 43/100\n",
      "4/4 [==============================] - 0s 658us/step - loss: 0.1477 - accuracy: 0.9231\n",
      "Epoch 44/100\n",
      "4/4 [==============================] - 0s 680us/step - loss: 0.1349 - accuracy: 0.9402\n",
      "Epoch 45/100\n",
      "4/4 [==============================] - 0s 690us/step - loss: 0.1445 - accuracy: 0.9316\n",
      "Epoch 46/100\n",
      "4/4 [==============================] - 0s 661us/step - loss: 0.1386 - accuracy: 0.9316\n",
      "Epoch 47/100\n",
      "4/4 [==============================] - 0s 675us/step - loss: 0.1397 - accuracy: 0.9316\n",
      "Epoch 48/100\n",
      "4/4 [==============================] - 0s 660us/step - loss: 0.1392 - accuracy: 0.9402\n",
      "Epoch 49/100\n",
      "4/4 [==============================] - 0s 655us/step - loss: 0.1369 - accuracy: 0.9316\n",
      "Epoch 50/100\n",
      "4/4 [==============================] - 0s 617us/step - loss: 0.1398 - accuracy: 0.9402\n",
      "Epoch 51/100\n",
      "4/4 [==============================] - 0s 704us/step - loss: 0.1379 - accuracy: 0.9316\n",
      "Epoch 52/100\n",
      "4/4 [==============================] - 0s 678us/step - loss: 0.1363 - accuracy: 0.9402\n",
      "Epoch 53/100\n",
      "4/4 [==============================] - 0s 684us/step - loss: 0.1356 - accuracy: 0.9402\n",
      "Epoch 54/100\n",
      "4/4 [==============================] - 0s 641us/step - loss: 0.1413 - accuracy: 0.9316\n",
      "Epoch 55/100\n",
      "4/4 [==============================] - 0s 741us/step - loss: 0.1356 - accuracy: 0.9402\n",
      "Epoch 56/100\n",
      "4/4 [==============================] - 0s 729us/step - loss: 0.1354 - accuracy: 0.9402\n",
      "Epoch 57/100\n",
      "4/4 [==============================] - 0s 787us/step - loss: 0.1347 - accuracy: 0.9487\n",
      "Epoch 58/100\n",
      "4/4 [==============================] - 0s 702us/step - loss: 0.1318 - accuracy: 0.9573\n",
      "Epoch 59/100\n",
      "4/4 [==============================] - 0s 773us/step - loss: 0.1320 - accuracy: 0.9402\n",
      "Epoch 60/100\n",
      "4/4 [==============================] - 0s 793us/step - loss: 0.1329 - accuracy: 0.9402\n",
      "Epoch 61/100\n",
      "4/4 [==============================] - 0s 764us/step - loss: 0.1335 - accuracy: 0.9316\n",
      "Epoch 62/100\n",
      "4/4 [==============================] - 0s 755us/step - loss: 0.1313 - accuracy: 0.9658\n",
      "Epoch 63/100\n",
      "4/4 [==============================] - 0s 671us/step - loss: 0.1294 - accuracy: 0.9402\n",
      "Epoch 64/100\n",
      "4/4 [==============================] - 0s 737us/step - loss: 0.1307 - accuracy: 0.9402\n",
      "Epoch 65/100\n",
      "4/4 [==============================] - 0s 781us/step - loss: 0.1313 - accuracy: 0.9487\n",
      "Epoch 66/100\n",
      "4/4 [==============================] - 0s 764us/step - loss: 0.1326 - accuracy: 0.9573\n",
      "Epoch 67/100\n",
      "4/4 [==============================] - 0s 780us/step - loss: 0.1296 - accuracy: 0.9573\n",
      "Epoch 68/100\n",
      "4/4 [==============================] - 0s 719us/step - loss: 0.1293 - accuracy: 0.9573\n",
      "Epoch 69/100\n",
      "4/4 [==============================] - 0s 671us/step - loss: 0.1391 - accuracy: 0.9316\n",
      "Epoch 70/100\n",
      "4/4 [==============================] - 0s 677us/step - loss: 0.1289 - accuracy: 0.9487\n",
      "Epoch 71/100\n",
      "4/4 [==============================] - 0s 673us/step - loss: 0.1285 - accuracy: 0.9658\n",
      "Epoch 72/100\n",
      "4/4 [==============================] - 0s 751us/step - loss: 0.1332 - accuracy: 0.9573\n",
      "Epoch 73/100\n",
      "4/4 [==============================] - 0s 808us/step - loss: 0.1261 - accuracy: 0.9487\n",
      "Epoch 74/100\n",
      "4/4 [==============================] - 0s 737us/step - loss: 0.1290 - accuracy: 0.9573\n",
      "Epoch 75/100\n",
      "4/4 [==============================] - 0s 720us/step - loss: 0.1260 - accuracy: 0.9658\n",
      "Epoch 76/100\n",
      "4/4 [==============================] - 0s 711us/step - loss: 0.1265 - accuracy: 0.9487\n",
      "Epoch 77/100\n",
      "4/4 [==============================] - 0s 691us/step - loss: 0.1274 - accuracy: 0.9487\n",
      "Epoch 78/100\n",
      "4/4 [==============================] - 0s 634us/step - loss: 0.1337 - accuracy: 0.9573\n",
      "Epoch 79/100\n",
      "4/4 [==============================] - 0s 666us/step - loss: 0.1483 - accuracy: 0.9487\n",
      "Epoch 80/100\n",
      "4/4 [==============================] - 0s 709us/step - loss: 0.1362 - accuracy: 0.9487\n",
      "Epoch 81/100\n",
      "4/4 [==============================] - 0s 774us/step - loss: 0.1336 - accuracy: 0.9573\n",
      "Epoch 82/100\n",
      "4/4 [==============================] - 0s 779us/step - loss: 0.1422 - accuracy: 0.9402\n",
      "Epoch 83/100\n",
      "4/4 [==============================] - 0s 735us/step - loss: 0.1308 - accuracy: 0.9487\n",
      "Epoch 84/100\n",
      "4/4 [==============================] - 0s 679us/step - loss: 0.1275 - accuracy: 0.9573\n",
      "Epoch 85/100\n",
      "4/4 [==============================] - 0s 743us/step - loss: 0.1264 - accuracy: 0.9573\n",
      "Epoch 86/100\n",
      "4/4 [==============================] - 0s 724us/step - loss: 0.1210 - accuracy: 0.9573\n",
      "Epoch 87/100\n",
      "4/4 [==============================] - 0s 781us/step - loss: 0.1340 - accuracy: 0.9402\n",
      "Epoch 88/100\n",
      "4/4 [==============================] - 0s 745us/step - loss: 0.1338 - accuracy: 0.9487\n",
      "Epoch 89/100\n",
      "4/4 [==============================] - 0s 760us/step - loss: 0.1416 - accuracy: 0.9402\n",
      "Epoch 90/100\n",
      "4/4 [==============================] - 0s 786us/step - loss: 0.1233 - accuracy: 0.9573\n",
      "Epoch 91/100\n",
      "4/4 [==============================] - 0s 801us/step - loss: 0.1260 - accuracy: 0.9573\n",
      "Epoch 92/100\n",
      "4/4 [==============================] - 0s 747us/step - loss: 0.1212 - accuracy: 0.9573\n",
      "Epoch 93/100\n",
      "4/4 [==============================] - 0s 822us/step - loss: 0.1242 - accuracy: 0.9573\n",
      "Epoch 94/100\n",
      "4/4 [==============================] - 0s 704us/step - loss: 0.1239 - accuracy: 0.9487\n",
      "Epoch 95/100\n",
      "4/4 [==============================] - 0s 762us/step - loss: 0.1198 - accuracy: 0.9487\n",
      "Epoch 96/100\n",
      "4/4 [==============================] - 0s 689us/step - loss: 0.1245 - accuracy: 0.9573\n",
      "Epoch 97/100\n",
      "4/4 [==============================] - 0s 756us/step - loss: 0.1168 - accuracy: 0.9573\n",
      "Epoch 98/100\n",
      "4/4 [==============================] - 0s 746us/step - loss: 0.1263 - accuracy: 0.9487\n",
      "Epoch 99/100\n",
      "4/4 [==============================] - 0s 746us/step - loss: 0.1260 - accuracy: 0.9402\n",
      "Epoch 100/100\n",
      "4/4 [==============================] - 0s 811us/step - loss: 0.1305 - accuracy: 0.9487\n"
     ]
    }
   ],
   "source": [
    "# Train the model on the training set\n",
    "model.fit(X_train, y_train, epochs=100);"
   ]
  },
  {
   "cell_type": "code",
   "execution_count": 22,
   "id": "5f34c01c-8d68-41e3-aba8-cc261bd6f6a9",
   "metadata": {
    "tags": []
   },
   "outputs": [
    {
     "name": "stdout",
     "output_type": "stream",
     "text": [
      "2/2 [==============================] - 0s 2ms/step - loss: 0.1372 - accuracy: 0.9500\n",
      "Loss: 0.13722850382328033\n",
      "Accuracy: 0.949999988079071\n"
     ]
    }
   ],
   "source": [
    "# Evaluate the model on the testing set\n",
    "loss, accuracy = model.evaluate(X_test, y_test)\n",
    "\n",
    "# Print the loss and accuracy\n",
    "print('Loss:', loss)\n",
    "print('Accuracy:', accuracy)"
   ]
  },
  {
   "cell_type": "markdown",
   "id": "e14dff87-b98a-4030-a762-8dfc29e64aea",
   "metadata": {
    "tags": []
   },
   "source": [
    "## Make predictions on new cars\n"
   ]
  },
  {
   "cell_type": "code",
   "execution_count": 23,
   "id": "403378b3-5a39-46b7-8b4d-fe80016208ac",
   "metadata": {
    "tags": []
   },
   "outputs": [
    {
     "name": "stdout",
     "output_type": "stream",
     "text": [
      "1/1 [==============================] - 0s 38ms/step\n"
     ]
    },
    {
     "data": {
      "text/html": [
       "<div>\n",
       "<style scoped>\n",
       "    .dataframe tbody tr th:only-of-type {\n",
       "        vertical-align: middle;\n",
       "    }\n",
       "\n",
       "    .dataframe tbody tr th {\n",
       "        vertical-align: top;\n",
       "    }\n",
       "\n",
       "    .dataframe thead th {\n",
       "        text-align: right;\n",
       "    }\n",
       "</style>\n",
       "<table border=\"1\" class=\"dataframe\">\n",
       "  <thead>\n",
       "    <tr style=\"text-align: right;\">\n",
       "      <th></th>\n",
       "      <th>Manufacturer</th>\n",
       "      <th>Model</th>\n",
       "      <th>Fuel_efficiency</th>\n",
       "      <th>Power_perf_factor</th>\n",
       "      <th>Probability to Win (%)</th>\n",
       "    </tr>\n",
       "  </thead>\n",
       "  <tbody>\n",
       "    <tr>\n",
       "      <th>0</th>\n",
       "      <td>Acura</td>\n",
       "      <td>X1</td>\n",
       "      <td>22</td>\n",
       "      <td>48.280150</td>\n",
       "      <td>0.060000</td>\n",
       "    </tr>\n",
       "    <tr>\n",
       "      <th>1</th>\n",
       "      <td>Audi</td>\n",
       "      <td>X1</td>\n",
       "      <td>20</td>\n",
       "      <td>74.565105</td>\n",
       "      <td>1.920000</td>\n",
       "    </tr>\n",
       "    <tr>\n",
       "      <th>2</th>\n",
       "      <td>Audi</td>\n",
       "      <td>X2</td>\n",
       "      <td>21</td>\n",
       "      <td>110.320000</td>\n",
       "      <td>24.430000</td>\n",
       "    </tr>\n",
       "    <tr>\n",
       "      <th>3</th>\n",
       "      <td>BMW</td>\n",
       "      <td>323i 2</td>\n",
       "      <td>26</td>\n",
       "      <td>71.191207</td>\n",
       "      <td>0.050000</td>\n",
       "    </tr>\n",
       "    <tr>\n",
       "      <th>4</th>\n",
       "      <td>Chevrolet</td>\n",
       "      <td>Lumina2</td>\n",
       "      <td>25</td>\n",
       "      <td>169.991396</td>\n",
       "      <td>79.830002</td>\n",
       "    </tr>\n",
       "    <tr>\n",
       "      <th>5</th>\n",
       "      <td>Chevrolet</td>\n",
       "      <td>Monte Carlo 2</td>\n",
       "      <td>25</td>\n",
       "      <td>72.030917</td>\n",
       "      <td>0.100000</td>\n",
       "    </tr>\n",
       "    <tr>\n",
       "      <th>6</th>\n",
       "      <td>Chevrolet</td>\n",
       "      <td>Camaro</td>\n",
       "      <td>25</td>\n",
       "      <td>81.118543</td>\n",
       "      <td>0.260000</td>\n",
       "    </tr>\n",
       "    <tr>\n",
       "      <th>7</th>\n",
       "      <td>Chevrolet</td>\n",
       "      <td>Corvette 2</td>\n",
       "      <td>20</td>\n",
       "      <td>121.141150</td>\n",
       "      <td>53.320000</td>\n",
       "    </tr>\n",
       "    <tr>\n",
       "      <th>8</th>\n",
       "      <td>Chevrolet</td>\n",
       "      <td>Prizm</td>\n",
       "      <td>33</td>\n",
       "      <td>48.297636</td>\n",
       "      <td>0.000000</td>\n",
       "    </tr>\n",
       "    <tr>\n",
       "      <th>9</th>\n",
       "      <td>Chevrolet</td>\n",
       "      <td>Metro</td>\n",
       "      <td>45</td>\n",
       "      <td>23.276272</td>\n",
       "      <td>0.000000</td>\n",
       "    </tr>\n",
       "    <tr>\n",
       "      <th>10</th>\n",
       "      <td>Nissan</td>\n",
       "      <td>Quest</td>\n",
       "      <td>21</td>\n",
       "      <td>71.171664</td>\n",
       "      <td>0.790000</td>\n",
       "    </tr>\n",
       "    <tr>\n",
       "      <th>11</th>\n",
       "      <td>Nissan</td>\n",
       "      <td>Pathfinder</td>\n",
       "      <td>19</td>\n",
       "      <td>72.290355</td>\n",
       "      <td>2.570000</td>\n",
       "    </tr>\n",
       "    <tr>\n",
       "      <th>12</th>\n",
       "      <td>Pontiac</td>\n",
       "      <td>Bonneville 2</td>\n",
       "      <td>24</td>\n",
       "      <td>182.661356</td>\n",
       "      <td>88.629997</td>\n",
       "    </tr>\n",
       "    <tr>\n",
       "      <th>13</th>\n",
       "      <td>Pontiac</td>\n",
       "      <td>Montana 2</td>\n",
       "      <td>23</td>\n",
       "      <td>76.208440</td>\n",
       "      <td>0.460000</td>\n",
       "    </tr>\n",
       "    <tr>\n",
       "      <th>14</th>\n",
       "      <td>Porsche</td>\n",
       "      <td>Boxter 2</td>\n",
       "      <td>22</td>\n",
       "      <td>93.437331</td>\n",
       "      <td>4.600000</td>\n",
       "    </tr>\n",
       "    <tr>\n",
       "      <th>15</th>\n",
       "      <td>Porsche</td>\n",
       "      <td>Carrera Coupe 2</td>\n",
       "      <td>21</td>\n",
       "      <td>134.390975</td>\n",
       "      <td>66.959999</td>\n",
       "    </tr>\n",
       "    <tr>\n",
       "      <th>16</th>\n",
       "      <td>Porsche</td>\n",
       "      <td>Carrera Cabrio 2</td>\n",
       "      <td>23</td>\n",
       "      <td>135.914710</td>\n",
       "      <td>50.430000</td>\n",
       "    </tr>\n",
       "  </tbody>\n",
       "</table>\n",
       "</div>"
      ],
      "text/plain": [
       "   Manufacturer             Model  Fuel_efficiency  Power_perf_factor  \\\n",
       "0         Acura                X1               22          48.280150   \n",
       "1          Audi                X1               20          74.565105   \n",
       "2          Audi                X2               21         110.320000   \n",
       "3           BMW            323i 2               26          71.191207   \n",
       "4     Chevrolet           Lumina2               25         169.991396   \n",
       "5     Chevrolet     Monte Carlo 2               25          72.030917   \n",
       "6     Chevrolet            Camaro               25          81.118543   \n",
       "7     Chevrolet        Corvette 2               20         121.141150   \n",
       "8     Chevrolet             Prizm               33          48.297636   \n",
       "9     Chevrolet             Metro               45          23.276272   \n",
       "10       Nissan             Quest               21          71.171664   \n",
       "11       Nissan        Pathfinder               19          72.290355   \n",
       "12      Pontiac      Bonneville 2               24         182.661356   \n",
       "13      Pontiac         Montana 2               23          76.208440   \n",
       "14      Porsche          Boxter 2               22          93.437331   \n",
       "15      Porsche   Carrera Coupe 2               21         134.390975   \n",
       "16      Porsche  Carrera Cabrio 2               23         135.914710   \n",
       "\n",
       "    Probability to Win (%)  \n",
       "0                 0.060000  \n",
       "1                 1.920000  \n",
       "2                24.430000  \n",
       "3                 0.050000  \n",
       "4                79.830002  \n",
       "5                 0.100000  \n",
       "6                 0.260000  \n",
       "7                53.320000  \n",
       "8                 0.000000  \n",
       "9                 0.000000  \n",
       "10                0.790000  \n",
       "11                2.570000  \n",
       "12               88.629997  \n",
       "13                0.460000  \n",
       "14                4.600000  \n",
       "15               66.959999  \n",
       "16               50.430000  "
      ]
     },
     "execution_count": 23,
     "metadata": {},
     "output_type": "execute_result"
    }
   ],
   "source": [
    "# Make predictions on new data\n",
    "\n",
    "predictions = model.predict(award_factors[['Fuel_efficiency', 'Power_perf_factor']])\n",
    "award_factors['Probability to Win (%)']=np.around(predictions*100,2)\n",
    "\n",
    "award_factors"
   ]
  },
  {
   "cell_type": "code",
   "execution_count": null,
   "id": "90943310",
   "metadata": {},
   "outputs": [],
   "source": []
  },
  {
   "cell_type": "code",
   "execution_count": null,
   "id": "126a8530",
   "metadata": {},
   "outputs": [],
   "source": []
  },
  {
   "cell_type": "markdown",
   "id": "9b6135e1-cc1a-46a5-8f2d-385d0413c2d6",
   "metadata": {
    "tags": []
   },
   "source": [
    "# PYTHON PROGRAMMING LANGUAGE"
   ]
  },
  {
   "cell_type": "markdown",
   "id": "f841ce2a",
   "metadata": {},
   "source": [
    "## Everything Is an Object\n",
    "Python is an **object-oriented programming language (OOPP)** and in Python everything is an **OBJECT**.\n",
    "\n",
    "In an object-oriented programming languages like Python, an object is an entity that contains data along with associated metadata and/or functionality. \n",
    "\n",
    "In Python **everything is an object**, which means every entity has some metadata (called **attributes** or **fields**) and associated functionality (called **methods**). These attributes and methods are accessed via the dot syntax.\n",
    "\n",
    "Example of objects are the integers numbers **1,2,3** or the symbols **\"a\"**,**\"B\"**,**\"?\"**. A \"bigger\" object could be a container of numbers **[1,2,3,4...,9,..,101]**\n",
    "\n",
    "As objects are so fundamental, Python has already some built-in objects, like numbers and characters"
   ]
  },
  {
   "cell_type": "code",
   "execution_count": null,
   "id": "b2b3f32d",
   "metadata": {},
   "outputs": [],
   "source": []
  },
  {
   "cell_type": "markdown",
   "id": "2a0c4a40",
   "metadata": {},
   "source": [
    "Let's create an object **a**"
   ]
  },
  {
   "cell_type": "code",
   "execution_count": 42,
   "id": "bd810f00",
   "metadata": {
    "tags": []
   },
   "outputs": [
    {
     "data": {
      "text/plain": [
       "'a'"
      ]
     },
     "execution_count": 42,
     "metadata": {},
     "output_type": "execute_result"
    }
   ],
   "source": [
    "\"a\""
   ]
  },
  {
   "cell_type": "markdown",
   "id": "0c726264",
   "metadata": {},
   "source": [
    "We use the characters \"\" to create the object **'a'** whose data is the symbol *a*"
   ]
  },
  {
   "cell_type": "markdown",
   "id": "6a9ed357",
   "metadata": {},
   "source": [
    "Let's create an object that is a number"
   ]
  },
  {
   "cell_type": "code",
   "execution_count": 41,
   "id": "d4c14ccd",
   "metadata": {
    "tags": []
   },
   "outputs": [
    {
     "data": {
      "text/plain": [
       "3"
      ]
     },
     "execution_count": 41,
     "metadata": {},
     "output_type": "execute_result"
    }
   ],
   "source": [
    "3"
   ]
  },
  {
   "cell_type": "markdown",
   "id": "bf7ed365",
   "metadata": {},
   "source": [
    "the object **3** contains the symbol 3 (that python considers as the mathematical value 3"
   ]
  },
  {
   "cell_type": "markdown",
   "id": "d23bcd55",
   "metadata": {},
   "source": [
    "Consider now"
   ]
  },
  {
   "cell_type": "code",
   "execution_count": 43,
   "id": "fab0869d",
   "metadata": {
    "tags": []
   },
   "outputs": [
    {
     "data": {
      "text/plain": [
       "'3'"
      ]
     },
     "execution_count": 43,
     "metadata": {},
     "output_type": "execute_result"
    }
   ],
   "source": [
    "\"3\""
   ]
  },
  {
   "cell_type": "markdown",
   "id": "c20d10d2",
   "metadata": {},
   "source": [
    "The object **'3'** is different from the object **3**. The last is the character *3* the first is the mathematical value 3"
   ]
  },
  {
   "cell_type": "markdown",
   "id": "aefa6ffe",
   "metadata": {},
   "source": [
    "Different objects behave differently when we apply operations"
   ]
  },
  {
   "cell_type": "code",
   "execution_count": 18,
   "id": "bd2205f0",
   "metadata": {},
   "outputs": [
    {
     "data": {
      "text/plain": [
       "6"
      ]
     },
     "execution_count": 18,
     "metadata": {},
     "output_type": "execute_result"
    }
   ],
   "source": [
    "3+3"
   ]
  },
  {
   "cell_type": "code",
   "execution_count": 22,
   "id": "d3e087a4",
   "metadata": {},
   "outputs": [
    {
     "data": {
      "text/plain": [
       "'33'"
      ]
     },
     "execution_count": 22,
     "metadata": {},
     "output_type": "execute_result"
    }
   ],
   "source": [
    "\"3\"+\"3\""
   ]
  },
  {
   "cell_type": "markdown",
   "id": "83465c81",
   "metadata": {},
   "source": [
    "Objects contain not only data or information but also **fields** and **methods**. We can use **dot** notation to access fields and methods\n",
    "\n",
    "For example **capitalize** is a method to capitalize a symbol contained in a character object. It **produces** a new object that is the capitalized character\n"
   ]
  },
  {
   "cell_type": "code",
   "execution_count": 44,
   "id": "fdd5b177",
   "metadata": {
    "tags": []
   },
   "outputs": [
    {
     "data": {
      "text/plain": [
       "'A'"
      ]
     },
     "execution_count": 44,
     "metadata": {},
     "output_type": "execute_result"
    }
   ],
   "source": [
    "# capitalize is a method to capitalize the symbol a contained in the object 'a'. It produces the new object 'A'\n",
    "\"a\".capitalize()"
   ]
  },
  {
   "cell_type": "code",
   "execution_count": null,
   "id": "c1c3cf0a",
   "metadata": {},
   "outputs": [],
   "source": []
  },
  {
   "cell_type": "code",
   "execution_count": 45,
   "id": "c4778d10",
   "metadata": {
    "tags": []
   },
   "outputs": [
    {
     "data": {
      "text/plain": [
       "'a'"
      ]
     },
     "execution_count": 45,
     "metadata": {},
     "output_type": "execute_result"
    }
   ],
   "source": [
    "\"A\".lower()"
   ]
  },
  {
   "cell_type": "markdown",
   "id": "828e1a35",
   "metadata": {
    "tags": []
   },
   "source": [
    "The following picture summarize the objects creation process. We can note that every objects has a **TYPE** (or we can say it belongs to a **CLASS**)\n",
    "\n",
    "<img src=\"images/objects1.png\">\n"
   ]
  },
  {
   "cell_type": "code",
   "execution_count": null,
   "id": "9cb25edd",
   "metadata": {},
   "outputs": [],
   "source": []
  },
  {
   "cell_type": "markdown",
   "id": "b040a955",
   "metadata": {
    "tags": []
   },
   "source": [
    "# Types\n",
    "Objects have type information attached. \n",
    "\n",
    "There are built-in simple types offered by Python and several compound types, which will be discussed in the following lessons.\n",
    "\n",
    "Python's simple types are summarized in the following table:\n",
    "\n",
    "<center>**Python Scalar Types**</center>\n",
    "\n",
    "| Type        | Example        | Description                                                  |\n",
    "|-------------|----------------|--------------------------------------------------------------|\n",
    "| ``int``     | ``1``      | integers (i.e., whole numbers)                               |\n",
    "| ``float``   | ``1.0``    | floating-point numbers (i.e., real numbers)                  |\n",
    "| ``complex`` | ``1 + 2j`` | Complex numbers (i.e., numbers with real and imaginary part) |\n",
    "| ``bool``    | ``True``   | Boolean: True/False values                                   |\n",
    "| ``str``     | ``'Ab$'``  | String: characters or text                                   |\n",
    "| ``NoneType``| ``None``   | Special object indicating nulls                              |\n",
    "\n",
    "We'll take a quick look at each of these in turn."
   ]
  },
  {
   "cell_type": "code",
   "execution_count": 52,
   "id": "832dff40",
   "metadata": {
    "tags": []
   },
   "outputs": [
    {
     "data": {
      "text/plain": [
       "int"
      ]
     },
     "execution_count": 52,
     "metadata": {},
     "output_type": "execute_result"
    }
   ],
   "source": [
    "type(3)"
   ]
  },
  {
   "cell_type": "code",
   "execution_count": 53,
   "id": "79ba3639",
   "metadata": {
    "tags": []
   },
   "outputs": [
    {
     "data": {
      "text/plain": [
       "str"
      ]
     },
     "execution_count": 53,
     "metadata": {},
     "output_type": "execute_result"
    }
   ],
   "source": [
    "type(\"Ab$\")"
   ]
  },
  {
   "cell_type": "code",
   "execution_count": 5,
   "id": "efe0bfe5",
   "metadata": {},
   "outputs": [
    {
     "data": {
      "text/plain": [
       "float"
      ]
     },
     "execution_count": 5,
     "metadata": {},
     "output_type": "execute_result"
    }
   ],
   "source": [
    "type(1.5)"
   ]
  },
  {
   "cell_type": "code",
   "execution_count": 47,
   "id": "dd26b7ce",
   "metadata": {
    "tags": []
   },
   "outputs": [
    {
     "data": {
      "text/plain": [
       "int"
      ]
     },
     "execution_count": 47,
     "metadata": {},
     "output_type": "execute_result"
    }
   ],
   "source": [
    "type(3+3)"
   ]
  },
  {
   "cell_type": "code",
   "execution_count": 48,
   "id": "9be3993d-275a-4028-9ed7-6cc6ab0cae36",
   "metadata": {
    "tags": []
   },
   "outputs": [
    {
     "data": {
      "text/plain": [
       "str"
      ]
     },
     "execution_count": 48,
     "metadata": {},
     "output_type": "execute_result"
    }
   ],
   "source": [
    "type(\"abc\"+\"cde\")"
   ]
  },
  {
   "cell_type": "markdown",
   "id": "fbb18b43",
   "metadata": {},
   "source": [
    "## Python Variables\n",
    "Let's see how python manages variables.\n",
    "\n",
    "We're going to assign the int value *10* to a variable named *a*, the str value \"Stefano\" to a variable named *name1* and a float *12.8* value to a variable named *c*"
   ]
  },
  {
   "cell_type": "code",
   "execution_count": 55,
   "id": "fe60d1c8",
   "metadata": {
    "tags": []
   },
   "outputs": [],
   "source": [
    "# assignment instructions\n",
    "\n",
    "x = 4     # assign 10 to variable x\n",
    "name1 = \"Stefano\"   #   # assign 10 to variable a \n",
    "c = 12.8 # assign 10 to variable a \n"
   ]
  },
  {
   "cell_type": "code",
   "execution_count": null,
   "id": "d1d80496",
   "metadata": {},
   "outputs": [],
   "source": []
  },
  {
   "cell_type": "markdown",
   "id": "7a1b32a9",
   "metadata": {},
   "source": [
    "## Python Variables Are Pointers\n",
    "\n",
    "Assigning variables in Python is as easy as putting a variable name to the left of the equals (``=``) sign:\n",
    "\n",
    "```python\n",
    "# assign 4 to the variable x\n",
    "x = 4\n",
    "```\n",
    "\n",
    "It seems as we create a space in memory, named x, and insert directly the value 4 in that space.\n",
    "\n",
    "This is NOT the way in which Python works.\n",
    "\n",
    "In Python variables are best thought of not as containers but as **POINTERS**.\n",
    "So in Python, when you write\n",
    "\n",
    "```python\n",
    "x = 4\n",
    "```\n",
    "\n",
    "you are essentially defining a *pointer* named ``x`` that points to an object in memory that contains the value ``4``. The right part of the assignment instruction above, creates an int object in memory and assignes the address memory of that object to the pointer ``x``. \n",
    "\n",
    "\n",
    "In this way, variable a is able to accesso all the information of the object, including value, fields and methods.\n"
   ]
  },
  {
   "cell_type": "code",
   "execution_count": null,
   "id": "1054154d-b127-46fc-95e3-9f6628a5f5e1",
   "metadata": {},
   "outputs": [],
   "source": []
  },
  {
   "cell_type": "markdown",
   "id": "fbd53fa9-1e4b-441b-a4af-3d2b1d1b9f56",
   "metadata": {},
   "source": [
    "<img src=\"images/fig-variable-object-3.png\">\n"
   ]
  },
  {
   "cell_type": "code",
   "execution_count": 58,
   "id": "a0e7953f-23fe-4b1e-a4be-9e62ea3cf1a4",
   "metadata": {
    "tags": []
   },
   "outputs": [
    {
     "data": {
      "text/plain": [
       "int"
      ]
     },
     "execution_count": 58,
     "metadata": {},
     "output_type": "execute_result"
    }
   ],
   "source": [
    "type(x)"
   ]
  },
  {
   "cell_type": "markdown",
   "id": "4199ebee-74f2-4765-8466-50af83a3f47b",
   "metadata": {},
   "source": [
    "This works also for more complex objects\n"
   ]
  },
  {
   "cell_type": "code",
   "execution_count": 64,
   "id": "21639022-5b34-458e-bf6e-9387ed36fd6a",
   "metadata": {
    "tags": []
   },
   "outputs": [
    {
     "name": "stdout",
     "output_type": "stream",
     "text": [
      "We create the variable (pointer) L that points to the object [1, 2, 3, 4, 5, 6, 7, 8] which is of kind  <class 'list'>\n"
     ]
    }
   ],
   "source": [
    "L = [1,2,3,4,5,6,7,8]        # create a container (a list) that contains the number 1,2,3..8 and assign the address of the object to the pointer L\n",
    "print('We create the variable (pointer) L that points to the object',L,'which is of kind ',type(L))"
   ]
  },
  {
   "cell_type": "markdown",
   "id": "5e235d07-eb41-4318-a2db-dcbcd6f46736",
   "metadata": {},
   "source": [
    "The above instruction is an ASSIGNMENT instruction.\n",
    "\n",
    "In the left side of the = we create in memory the object of kind list (a container) that contains the value 1,2,3,4,5,6,7,8\n",
    "\n",
    "In the righe side of the = we create a pointer L that CONTAINS ONLY THE MEMORY ADDRESS of the object \n"
   ]
  },
  {
   "cell_type": "code",
   "execution_count": null,
   "id": "453d3473-a32f-4111-a3c1-afda7022092c",
   "metadata": {},
   "outputs": [],
   "source": []
  },
  {
   "cell_type": "markdown",
   "id": "7cf5edbb-e6e4-4f95-b7d5-8f3ddb74fc31",
   "metadata": {},
   "source": [
    "<img src=\"images/fig-variable-object-6.png\">\n"
   ]
  },
  {
   "cell_type": "markdown",
   "id": "303082ea-b33d-4717-bbb4-57041371033e",
   "metadata": {},
   "source": [
    "When we create an object, we create not only values but also some functions (methods) associated with objects. \n",
    "\n",
    "With the pointers we can access these functions with the **dot** notation"
   ]
  },
  {
   "cell_type": "code",
   "execution_count": 66,
   "id": "a0e02aab",
   "metadata": {
    "tags": []
   },
   "outputs": [
    {
     "name": "stdout",
     "output_type": "stream",
     "text": [
      "this is a Python course\n"
     ]
    }
   ],
   "source": [
    "a = \"this is a Python course\"\n",
    "print(a)    # print the value of the object"
   ]
  },
  {
   "cell_type": "code",
   "execution_count": 69,
   "id": "7cae6738",
   "metadata": {
    "tags": []
   },
   "outputs": [
    {
     "data": {
      "text/plain": [
       "str"
      ]
     },
     "execution_count": 69,
     "metadata": {},
     "output_type": "execute_result"
    }
   ],
   "source": [
    "type(a)"
   ]
  },
  {
   "cell_type": "markdown",
   "id": "d18c8239-07a1-4e55-978a-83465f5cbbd2",
   "metadata": {},
   "source": [
    "an object of kind STR has many methods and we can call them with the notation a. \n",
    "\n",
    "For example"
   ]
  },
  {
   "cell_type": "code",
   "execution_count": 68,
   "id": "8f9925b9",
   "metadata": {
    "tags": []
   },
   "outputs": [
    {
     "data": {
      "text/plain": [
       "'This is a python course'"
      ]
     },
     "execution_count": 68,
     "metadata": {},
     "output_type": "execute_result"
    }
   ],
   "source": [
    "a.capitalize()"
   ]
  },
  {
   "cell_type": "code",
   "execution_count": 328,
   "id": "f6b36ad9",
   "metadata": {
    "tags": []
   },
   "outputs": [
    {
     "data": {
      "text/plain": [
       "['this', 'is', 'a', 'Python', 'course']"
      ]
     },
     "execution_count": 328,
     "metadata": {},
     "output_type": "execute_result"
    }
   ],
   "source": [
    "a.split()"
   ]
  },
  {
   "cell_type": "markdown",
   "id": "1d9a1db5-1ee5-4f80-83f4-5e5bd97afdb8",
   "metadata": {},
   "source": [
    "We can see all methods associate with an object with a.[TAB]"
   ]
  },
  {
   "cell_type": "markdown",
   "id": "9c3b7930-93b2-4cda-9d89-37661b8b2c7c",
   "metadata": {},
   "source": [
    "Consider now"
   ]
  },
  {
   "cell_type": "code",
   "execution_count": 70,
   "id": "8c21ee96",
   "metadata": {
    "tags": []
   },
   "outputs": [],
   "source": [
    "y = [1, 2, 3]   # this create a container with 3 numbers\n",
    "x = y"
   ]
  },
  {
   "cell_type": "code",
   "execution_count": null,
   "id": "c4d15427-938e-4a1b-8e20-89bb78c66faa",
   "metadata": {},
   "outputs": [],
   "source": []
  },
  {
   "cell_type": "markdown",
   "id": "a625ec67",
   "metadata": {},
   "source": [
    "We've created two variables ``x`` and ``y`` which both point to the same object.\n",
    "Because of this, if we modify the list via one of its names, we'll see that the \"other\" list will be modified as well:"
   ]
  },
  {
   "cell_type": "code",
   "execution_count": 71,
   "id": "dc9e25d9",
   "metadata": {
    "tags": []
   },
   "outputs": [
    {
     "name": "stdout",
     "output_type": "stream",
     "text": [
      "[1, 2, 3]\n"
     ]
    }
   ],
   "source": [
    "print(y)"
   ]
  },
  {
   "cell_type": "code",
   "execution_count": 72,
   "id": "b8492925-2a57-4bbf-83c8-5a472559d371",
   "metadata": {
    "tags": []
   },
   "outputs": [
    {
     "name": "stdout",
     "output_type": "stream",
     "text": [
      "[1, 2, 3]\n"
     ]
    }
   ],
   "source": [
    "print(x)"
   ]
  },
  {
   "cell_type": "code",
   "execution_count": 73,
   "id": "2a1b3151",
   "metadata": {
    "tags": []
   },
   "outputs": [
    {
     "name": "stdout",
     "output_type": "stream",
     "text": [
      "[1, 2, 3, 4]\n"
     ]
    }
   ],
   "source": [
    "x.append(4) # append 4 to the list pointed to by x\n",
    "print(y) # y's list is modified as well!"
   ]
  },
  {
   "cell_type": "markdown",
   "id": "3779cd92",
   "metadata": {},
   "source": [
    "This behavior might seem confusing if you're wrongly thinking of variables as buckets that contain data.\n",
    "But if you're correctly thinking of variables as pointers to objects, then this behavior makes sense.\n",
    "\n",
    "Note also that if we use \"``=``\" to assign another value to ``x``, this will not affect the value of ``y`` – assignment is simply a change of what object the variable points to:"
   ]
  },
  {
   "cell_type": "code",
   "execution_count": 74,
   "id": "09e0328b",
   "metadata": {
    "tags": []
   },
   "outputs": [
    {
     "name": "stdout",
     "output_type": "stream",
     "text": [
      "[1, 2, 3, 4]\n"
     ]
    }
   ],
   "source": [
    "x = 'something else'\n",
    "print(y)  # y is unchanged"
   ]
  },
  {
   "cell_type": "markdown",
   "id": "4e26c2a0",
   "metadata": {},
   "source": [
    "Again, this makes perfect sense if you think of x and y as pointers, and the \"=\" operator as an operation that changes what the name points to.\n",
    "\n",
    "You might wonder whether this pointer idea makes arithmetic operations in Python difficult to track, but Python is set up so that this is not an issue. Numbers, strings, and other simple types are IMMUTABLE: you can't change their value – you can only change what values the variables point to. So, for example, it's perfectly safe to do operations like the following:"
   ]
  },
  {
   "cell_type": "code",
   "execution_count": 76,
   "id": "4f5b7f91",
   "metadata": {
    "tags": []
   },
   "outputs": [
    {
     "name": "stdout",
     "output_type": "stream",
     "text": [
      "x = 15\n",
      "y = 10\n"
     ]
    }
   ],
   "source": [
    "x = 10 \n",
    "y = x\n",
    "x = x+5  # we're creating a new object that contains the value 15\n",
    "print(\"x =\", x)\n",
    "print(\"y =\", y)"
   ]
  },
  {
   "cell_type": "markdown",
   "id": "78fe756a",
   "metadata": {},
   "source": [
    "When we call ``x = x+5``, we are not modifying the value of the ``10`` object pointed to by ``x``; we are rather changing the variable ``x`` so that it points to a new integer object with value ``15``.\n",
    "For this reason, the value of ``y`` is not affected by the operation."
   ]
  },
  {
   "cell_type": "markdown",
   "id": "39c960b6",
   "metadata": {},
   "source": [
    "## Arithmetic Operations (between objects of type numbers)\n",
    "Python implements seven basic binary arithmetic operators, two of which can double as unary operators.\n",
    "They are summarized in the following table:\n",
    "\n",
    "| Operator     | Name           | Description                                            |\n",
    "|--------------|----------------|--------------------------------------------------------|\n",
    "| ``a + b``    | Addition       | Sum of ``a`` and ``b``                                 |\n",
    "| ``a - b``    | Subtraction    | Difference of ``a`` and ``b``                          |\n",
    "| ``a * b``    | Multiplication | Product of ``a`` and ``b``                             |\n",
    "| ``a / b``    | True division  | Quotient of ``a`` and ``b``                            |\n",
    "| ``a // b``   | Floor division | Quotient of ``a`` and ``b``, removing fractional parts |\n",
    "| ``a % b``    | Modulus        | Integer remainder after division of ``a`` by ``b``     |\n",
    "| ``a ** b``   | Exponentiation | ``a`` raised to the power of ``b``                     |\n",
    "| ``-a``       | Negation       | The negative of ``a``                                  |\n",
    "| ``+a``       | Unary plus     | ``a`` unchanged (rarely used)                          |\n",
    "\n",
    "These operators can be used and combined in intuitive ways, using standard parentheses to group operations.\n",
    "For example:"
   ]
  },
  {
   "cell_type": "code",
   "execution_count": 36,
   "id": "a42f1c10",
   "metadata": {},
   "outputs": [
    {
     "data": {
      "text/plain": [
       "42.0"
      ]
     },
     "execution_count": 36,
     "metadata": {},
     "output_type": "execute_result"
    }
   ],
   "source": [
    "# addition, subtraction, multiplication\n",
    "(4 + 8) * (6.5 - 3)"
   ]
  },
  {
   "cell_type": "markdown",
   "id": "cd68584b",
   "metadata": {},
   "source": [
    "## Comparison Operations\n",
    "\n",
    "Another type of operation which can be very useful is comparison of different values.\n",
    "For this, Python implements standard comparison operators, which return Boolean values ``True`` and ``False``.\n",
    "The comparison operations are listed in the following table:\n",
    "\n",
    "| ``a == b``| ``a`` equal to ``b``      \n",
    "| ``a != b`` | ``a`` not equal to ``b``             \n",
    "| ``a < b``| ``a`` less than ``b``         \n",
    "| ``a > b``| ``a`` greater than ``b``             \n",
    "| ``a <= b``| ``a`` less than or equal to ``b``\n",
    "|``a >= b`` | ``a`` greater than or equal to ``b``\n",
    "\n",
    "\n",
    "\n",
    "These comparison operators can be combined with the arithmetic and bitwise operators to express a virtually limitless range of tests for the numbers.\n",
    "For example, we can check if a number is odd by checking that the modulus with 2 returns 1:"
   ]
  },
  {
   "cell_type": "code",
   "execution_count": 37,
   "id": "02b6c559",
   "metadata": {},
   "outputs": [
    {
     "data": {
      "text/plain": [
       "False"
      ]
     },
     "execution_count": 37,
     "metadata": {},
     "output_type": "execute_result"
    }
   ],
   "source": [
    "2 < 1"
   ]
  },
  {
   "cell_type": "code",
   "execution_count": 38,
   "id": "c80e968d",
   "metadata": {},
   "outputs": [
    {
     "data": {
      "text/plain": [
       "True"
      ]
     },
     "execution_count": 38,
     "metadata": {},
     "output_type": "execute_result"
    }
   ],
   "source": [
    "# 25 is odd\n",
    "25 % 2 == 1"
   ]
  },
  {
   "cell_type": "code",
   "execution_count": null,
   "id": "98bf8382",
   "metadata": {},
   "outputs": [],
   "source": []
  },
  {
   "cell_type": "code",
   "execution_count": 39,
   "id": "2d2bbe94",
   "metadata": {},
   "outputs": [
    {
     "data": {
      "text/plain": [
       "True"
      ]
     },
     "execution_count": 39,
     "metadata": {},
     "output_type": "execute_result"
    }
   ],
   "source": [
    "# check if a is between 15 and 30\n",
    "a = 25\n",
    "15 < a < 30"
   ]
  },
  {
   "cell_type": "code",
   "execution_count": null,
   "id": "2466d092",
   "metadata": {},
   "outputs": [],
   "source": []
  },
  {
   "cell_type": "markdown",
   "id": "f01c5af3",
   "metadata": {},
   "source": [
    "## Boolean Operations\n",
    "When working with Boolean values, Python provides operators to combine the values using the standard concepts of \"and\", \"or\", and \"not\".\n",
    "Predictably, these operators are expressed using the words ``and``, ``or``, and ``not``:"
   ]
  },
  {
   "cell_type": "code",
   "execution_count": 15,
   "id": "fbcb50e1",
   "metadata": {},
   "outputs": [
    {
     "data": {
      "text/plain": [
       "True"
      ]
     },
     "execution_count": 15,
     "metadata": {},
     "output_type": "execute_result"
    }
   ],
   "source": [
    "x = 4\n",
    "(x < 6) and (x > 2)"
   ]
  },
  {
   "cell_type": "code",
   "execution_count": 16,
   "id": "95cd8b9f",
   "metadata": {},
   "outputs": [
    {
     "data": {
      "text/plain": [
       "True"
      ]
     },
     "execution_count": 16,
     "metadata": {},
     "output_type": "execute_result"
    }
   ],
   "source": [
    "(x > 10) or (x % 2 == 0)"
   ]
  },
  {
   "cell_type": "code",
   "execution_count": 17,
   "id": "0a1c2a24",
   "metadata": {},
   "outputs": [
    {
     "data": {
      "text/plain": [
       "False"
      ]
     },
     "execution_count": 17,
     "metadata": {},
     "output_type": "execute_result"
    }
   ],
   "source": [
    "not (x < 6)"
   ]
  },
  {
   "cell_type": "markdown",
   "id": "e4a84a8a",
   "metadata": {},
   "source": [
    "Boolean algebra aficionados might notice that the XOR operator is not included; this can of course be constructed in several ways from a compound statement of the other operators.\n",
    "Otherwise, a clever trick you can use for XOR of Boolean values is the following:"
   ]
  },
  {
   "cell_type": "code",
   "execution_count": 18,
   "id": "7c4f42d4",
   "metadata": {},
   "outputs": [
    {
     "data": {
      "text/plain": [
       "False"
      ]
     },
     "execution_count": 18,
     "metadata": {},
     "output_type": "execute_result"
    }
   ],
   "source": [
    "# (x > 1) xor (x < 10)\n",
    "(x > 1) != (x < 10)"
   ]
  },
  {
   "cell_type": "markdown",
   "id": "6056b6c3",
   "metadata": {},
   "source": [
    "These sorts of Boolean operations will become extremely useful when we begin discussing *control flow statements* such as conditionals and loops.\n",
    "\n",
    "One sometimes confusing thing about the language is when to use Boolean operators (``and``, ``or``, ``not``), and when to use bitwise operations (``&``, ``|``, ``~``).\n",
    "The answer lies in their names: Boolean operators should be used when you want to compute *Boolean values (i.e., truth or falsehood) of entire statements*.\n",
    "Bitwise operations should be used when you want to *operate on individual bits or components of the objects in question*."
   ]
  },
  {
   "cell_type": "markdown",
   "id": "cd8502bd-eb1d-4356-918e-738d81c74660",
   "metadata": {},
   "source": [
    "## A Container object: the type LIST"
   ]
  },
  {
   "cell_type": "code",
   "execution_count": 2,
   "id": "d0d1dff3-e580-40cf-8086-00bb0b680e37",
   "metadata": {
    "tags": []
   },
   "outputs": [],
   "source": [
    "\"\"\"List type.\"\"\"\n",
    "\n",
    "# Lists can contain any type of variable and they can contain as many variables as you wish.\n",
    "# Lists can also be iterated over in a very simple manner.\n",
    "# Here is an example of how to build a list.\n",
    "squares = [1, 4, 9, 16, 25]"
   ]
  },
  {
   "cell_type": "code",
   "execution_count": 3,
   "id": "c07c991d-4d9b-427b-928f-8fac59bbac4d",
   "metadata": {
    "tags": []
   },
   "outputs": [
    {
     "name": "stdout",
     "output_type": "stream",
     "text": [
      "[1, 4, 9, 16, 25]\n"
     ]
    }
   ],
   "source": [
    "print(squares)"
   ]
  },
  {
   "cell_type": "code",
   "execution_count": 4,
   "id": "fc0eba81-b817-4ea7-8e23-5f6b502d1e5f",
   "metadata": {
    "tags": []
   },
   "outputs": [
    {
     "data": {
      "text/plain": [
       "list"
      ]
     },
     "execution_count": 4,
     "metadata": {},
     "output_type": "execute_result"
    }
   ],
   "source": [
    "type(squares)"
   ]
  },
  {
   "cell_type": "code",
   "execution_count": null,
   "id": "a75efff4-9b9d-4c93-b425-639586f50e70",
   "metadata": {},
   "outputs": [],
   "source": []
  },
  {
   "cell_type": "code",
   "execution_count": 8,
   "id": "1ee5a208-4e72-476d-83b4-317b730a9168",
   "metadata": {
    "tags": []
   },
   "outputs": [
    {
     "name": "stdout",
     "output_type": "stream",
     "text": [
      "1\n",
      "[1, 4, 9]\n",
      "25\n"
     ]
    }
   ],
   "source": [
    "# Lists can be indexed and sliced:\n",
    "print(squares[0])  # indexing returns the item\n",
    "print(squares[0:3]) # slicing returns a new list\n",
    "print(squares[-1]) # start from the last element\n",
    "\n",
    "# All slice operations return a new list containing the requested elements.\n"
   ]
  },
  {
   "cell_type": "code",
   "execution_count": 9,
   "id": "1abdd10b-7c3d-4d0f-831f-08b9440d1625",
   "metadata": {
    "tags": []
   },
   "outputs": [
    {
     "name": "stdout",
     "output_type": "stream",
     "text": [
      "[1, 4, 9, 16, 25, 36, 49, 64, 81, 100]\n"
     ]
    }
   ],
   "source": [
    "# Lists also support operations like concatenation:\n",
    "print(squares + [36, 49, 64, 81, 100])\n"
   ]
  },
  {
   "cell_type": "code",
   "execution_count": 10,
   "id": "2adf846c-b5a1-4bd2-bc44-16acc1c64ca1",
   "metadata": {
    "tags": []
   },
   "outputs": [
    {
     "name": "stdout",
     "output_type": "stream",
     "text": [
      "[1, 8, 27, 64, 125]\n"
     ]
    }
   ],
   "source": [
    "# Unlike strings, which are immutable, lists are a mutable type, i.e. it\n",
    "# is possible to change their content:\n",
    "cubes = [1, 8, 27, 65, 125]  # something's wrong here, the cube of 4 is 64!\n",
    "cubes[3] = 64  # replace the wrong value\n",
    "print( cubes )"
   ]
  },
  {
   "cell_type": "markdown",
   "id": "af82f6ee-7b6f-4f75-9696-275da182ec0f",
   "metadata": {},
   "source": [
    "## LIST methods"
   ]
  },
  {
   "cell_type": "code",
   "execution_count": 22,
   "id": "b425e739-729b-4b02-9c94-5d9652c99bd0",
   "metadata": {
    "tags": []
   },
   "outputs": [
    {
     "name": "stdout",
     "output_type": "stream",
     "text": [
      "['orange', 'apple', 'pear', 'banana', 'kiwi', 'apple', 'banana', 'grape']\n"
     ]
    }
   ],
   "source": [
    "fruits = ['orange', 'apple', 'pear', 'banana', 'kiwi', 'apple', 'banana']\n",
    "\n",
    "# list.append(x)\n",
    "# Add an item to the end of the list.\n",
    "# Equivalent to a[len(a):] = [x].\n",
    "fruits.append('grape')\n",
    "print( fruits)"
   ]
  },
  {
   "cell_type": "code",
   "execution_count": 23,
   "id": "af529c9f-0967-4348-a683-1341e17cb811",
   "metadata": {
    "tags": []
   },
   "outputs": [
    {
     "name": "stdout",
     "output_type": "stream",
     "text": [
      "['orange', 'apple', 'pear', 'banana', 'kiwi', 'apple', 'banana']\n"
     ]
    }
   ],
   "source": [
    "# list.remove(x)\n",
    "# Remove the first item from the list whose value is equal to x.\n",
    "# It raises a ValueError if there is no such item.\n",
    "fruits.remove('grape')\n",
    "print( fruits )"
   ]
  },
  {
   "cell_type": "code",
   "execution_count": 24,
   "id": "f316278c-e983-450d-a268-2767dd155103",
   "metadata": {
    "tags": []
   },
   "outputs": [
    {
     "name": "stdout",
     "output_type": "stream",
     "text": [
      "['grape', 'orange', 'apple', 'pear', 'banana', 'kiwi', 'apple', 'banana']\n"
     ]
    }
   ],
   "source": [
    "# list.insert(i, x)\n",
    "# Insert an item at a given position. The first argument is the index of the element\n",
    "# before which to insert, so a.insert(0, x) inserts at the front of the list,\n",
    "# and a.insert(len(a), x) is equivalent to a.append(x).\n",
    "fruits.insert(0, 'grape')\n",
    "print( fruits )\n"
   ]
  },
  {
   "cell_type": "code",
   "execution_count": 25,
   "id": "181b6e71-24e5-487e-8ac3-f6cd28627bd5",
   "metadata": {
    "tags": []
   },
   "outputs": [
    {
     "name": "stdout",
     "output_type": "stream",
     "text": [
      "['apple', 'apple', 'banana', 'banana', 'grape', 'kiwi', 'orange', 'pear']\n"
     ]
    }
   ],
   "source": [
    "# list.sort(key=None, reverse=False)\n",
    "# Sort the items of the list in place (the arguments can be used for sort customization,\n",
    "# see sorted() for their explanation).\n",
    "fruits.sort()\n",
    "print( fruits )\n"
   ]
  },
  {
   "cell_type": "code",
   "execution_count": 26,
   "id": "9ef8ec01-0320-4922-a12e-04a1123e9c94",
   "metadata": {
    "tags": []
   },
   "outputs": [
    {
     "name": "stdout",
     "output_type": "stream",
     "text": [
      "['apple', 'apple', 'banana', 'banana', 'grape', 'kiwi', 'orange', 'pear']\n",
      "pear\n",
      "['apple', 'apple', 'banana', 'banana', 'grape', 'kiwi', 'orange']\n"
     ]
    }
   ],
   "source": [
    "# list.pop([i])\n",
    "# Remove the item at the given position in the list, and return it. If no index is specified,\n",
    "# a.pop() removes and returns the last item in the list. (The square brackets around the i in\n",
    "# the method signature denote that the parameter is optional, not that you should type square\n",
    "# brackets at that position.)\n",
    "print( fruits )\n",
    "print( fruits.pop() )\n",
    "print( fruits )\n"
   ]
  },
  {
   "cell_type": "code",
   "execution_count": 27,
   "id": "a4f87a57-6322-433c-942a-48df70d0f7f4",
   "metadata": {
    "tags": []
   },
   "outputs": [
    {
     "name": "stdout",
     "output_type": "stream",
     "text": [
      "[]\n"
     ]
    }
   ],
   "source": [
    "# list.clear()\n",
    "# Remove all items from the list.\n",
    "fruits.clear()\n",
    "print( fruits)"
   ]
  },
  {
   "cell_type": "code",
   "execution_count": null,
   "id": "29351248-834b-4070-8677-d79a96ee2ca9",
   "metadata": {
    "tags": []
   },
   "outputs": [],
   "source": []
  },
  {
   "cell_type": "markdown",
   "id": "9d17e163-770e-48b4-ae49-d111683b0b19",
   "metadata": {},
   "source": [
    "## PYTHON FUNCTIONS\n",
    "In Python a function is a particular OBJECT that is able to receive in input one or more parameters, perform some actions and produce an output.\n",
    "There are 2 ways to create a function: with a definition, by the mean of the anonymous functions"
   ]
  },
  {
   "cell_type": "markdown",
   "id": "d30c8cec-68c2-4507-b0d2-2ae6fb62bb91",
   "metadata": {},
   "source": [
    "## Create a function by definition\n",
    "Let's try to create $f(x) = 2x + 4$\n"
   ]
  },
  {
   "cell_type": "code",
   "execution_count": 55,
   "id": "a8a758a9",
   "metadata": {
    "tags": []
   },
   "outputs": [],
   "source": [
    "def f(x):    # we use the 'def' command followed by the name of the function; we also use () to specify input variables\n",
    "    y = 2 * x + 4  # we specify the form of the function\n",
    "                   # TAKE CARE: instructions are indented. It's python sintax to create a block of code\n",
    "    return y"
   ]
  },
  {
   "cell_type": "code",
   "execution_count": 56,
   "id": "1e80e48b",
   "metadata": {
    "tags": []
   },
   "outputs": [
    {
     "data": {
      "text/plain": [
       "18"
      ]
     },
     "execution_count": 56,
     "metadata": {},
     "output_type": "execute_result"
    }
   ],
   "source": [
    "f(7)"
   ]
  },
  {
   "cell_type": "code",
   "execution_count": 57,
   "id": "9dad475b",
   "metadata": {
    "tags": []
   },
   "outputs": [],
   "source": [
    "# Let's define functions with more variables\n",
    "def g(x,y):\n",
    "    z = 2 * x-3 *y\n",
    "    return z"
   ]
  },
  {
   "cell_type": "code",
   "execution_count": 58,
   "id": "62c0f9cc",
   "metadata": {
    "tags": []
   },
   "outputs": [
    {
     "data": {
      "text/plain": [
       "-19"
      ]
     },
     "execution_count": 58,
     "metadata": {},
     "output_type": "execute_result"
    }
   ],
   "source": [
    "g(4,9)"
   ]
  },
  {
   "cell_type": "markdown",
   "id": "6b7c13e4-2631-4803-b24d-3a7553c966ca",
   "metadata": {},
   "source": [
    "The nice thing in Python is that it manages automatically the type of variable "
   ]
  },
  {
   "cell_type": "code",
   "execution_count": 72,
   "id": "a9240312-1f7a-4d48-87e6-817c345be227",
   "metadata": {
    "tags": []
   },
   "outputs": [
    {
     "name": "stdout",
     "output_type": "stream",
     "text": [
      "Result is:  8\n"
     ]
    }
   ],
   "source": [
    "def sumvariable(x,y):\n",
    "    z = x+y\n",
    "   # print(\"The result of the operation is: \",z)\n",
    "    return z       # return is mandatory when you have to give back to the caller some results\n",
    "\n",
    "result = sumvariable(5,3)\n",
    "print(\"Result is: \", result)"
   ]
  },
  {
   "cell_type": "code",
   "execution_count": 73,
   "id": "c42a6fe5-992e-40ae-a5b6-d718268951e7",
   "metadata": {
    "tags": []
   },
   "outputs": [
    {
     "data": {
      "text/plain": [
       "5"
      ]
     },
     "execution_count": 73,
     "metadata": {},
     "output_type": "execute_result"
    }
   ],
   "source": [
    "sumvariable(2,3)"
   ]
  },
  {
   "cell_type": "code",
   "execution_count": 74,
   "id": "99d72a58-a13d-487c-987f-ff012396276c",
   "metadata": {
    "tags": []
   },
   "outputs": [
    {
     "data": {
      "text/plain": [
       "'ciaohello'"
      ]
     },
     "execution_count": 74,
     "metadata": {},
     "output_type": "execute_result"
    }
   ],
   "source": [
    "sumvariable(\"ciao\",\"hello\")"
   ]
  },
  {
   "cell_type": "markdown",
   "id": "33743ac5-fe82-46db-a873-b7109f56aec6",
   "metadata": {},
   "source": [
    "Take care: objects created inside a function \"Leaves\" only there. You cannot access the value of internal variables from the outside (SCOPING)"
   ]
  },
  {
   "cell_type": "markdown",
   "id": "226d135a-b291-44c0-a038-c758f1f04dea",
   "metadata": {
    "tags": []
   },
   "source": [
    "## ANONYMOUS FUNCTIONS\n",
    "We can create a function in a quicker way be means of the Anonymous Functions.  \n",
    "As everything in Python, Anonymous functions are also OBJECTS which can be referenced by a variable.  \n",
    "The instruction to create it is:  "
   ]
  },
  {
   "cell_type": "code",
   "execution_count": 80,
   "id": "b6ca11b4-11c7-496a-b97c-edb1c7eb29ee",
   "metadata": {
    "tags": []
   },
   "outputs": [
    {
     "data": {
      "text/plain": [
       "<function __main__.<lambda>(x)>"
      ]
     },
     "execution_count": 80,
     "metadata": {},
     "output_type": "execute_result"
    }
   ],
   "source": [
    "# we associate to the input x the form 2x+3\n",
    "lambda x: 2*x+3"
   ]
  },
  {
   "cell_type": "code",
   "execution_count": 86,
   "id": "d25244bf-89b1-403b-8070-062a51b52aae",
   "metadata": {
    "tags": []
   },
   "outputs": [
    {
     "name": "stdout",
     "output_type": "stream",
     "text": [
      "The type of 'lambda x: 2*x+3' is <class 'function'>\n"
     ]
    }
   ],
   "source": [
    "print(\"The type of 'lambda x: 2*x+3' is\",type(lambda x: 2*x+3))"
   ]
  },
  {
   "cell_type": "markdown",
   "id": "e521194f-1fe0-43e2-a086-77e0159f3ff2",
   "metadata": {
    "tags": []
   },
   "source": [
    "Note that we created just an object of type function. We do not have a pointer to that object\n",
    "\n",
    "Python is a first-class functions programming language as it treats functions as first-class citizens (objects)."
   ]
  },
  {
   "cell_type": "markdown",
   "id": "68e89e15-e945-499f-841c-fbdbc19f5848",
   "metadata": {},
   "source": [
    "We can create the pointer assigning the function to a variable. Better we can reference an object function with a variable.\n"
   ]
  },
  {
   "cell_type": "code",
   "execution_count": 89,
   "id": "491f45d3-0cde-4cbe-832a-97d15c2f19b0",
   "metadata": {
    "tags": []
   },
   "outputs": [
    {
     "data": {
      "text/plain": [
       "7"
      ]
     },
     "execution_count": 89,
     "metadata": {},
     "output_type": "execute_result"
    }
   ],
   "source": [
    "f1 = lambda x: 2*x+3\n",
    "# now we can call the funtion with the variable using ()\n",
    "f1(2)"
   ]
  },
  {
   "cell_type": "markdown",
   "id": "0cd72d49-c1ba-470b-bb16-30ded7438c94",
   "metadata": {},
   "source": [
    "First-class functions are a necessity for the functional programming style, in which the use of higher-order functions is a standard practice\n",
    "\n",
    "Treating functions as objects gives the chance to define a function that has as input parameter, a function (high order functions)"
   ]
  },
  {
   "cell_type": "code",
   "execution_count": 90,
   "id": "527e7f65-81b2-44a5-926b-3fbd52c4db8c",
   "metadata": {
    "tags": []
   },
   "outputs": [],
   "source": [
    "# Let's create a custom high order function: map2\n",
    "# note as in python we don't need to specify that there is a function in the input parameter\n",
    "\n",
    "def map2(function1,input1):  # this function has the first input parameter that is a function\n",
    "    temp = function1(input1)  # we use the function notation here, using ()\n",
    "    return temp"
   ]
  },
  {
   "cell_type": "code",
   "execution_count": 96,
   "id": "30cc33cb-cc46-4346-ae71-7a245847de98",
   "metadata": {
    "tags": []
   },
   "outputs": [
    {
     "data": {
      "text/plain": [
       "8"
      ]
     },
     "execution_count": 96,
     "metadata": {},
     "output_type": "execute_result"
    }
   ],
   "source": [
    "map2(lambda x: 4*x,2)  # we call the high order function map2 with a function as parameter"
   ]
  },
  {
   "cell_type": "markdown",
   "id": "6da4e844-b435-40a3-976a-40782293a179",
   "metadata": {},
   "source": [
    "A practical example: the use of the built in high order function **map**"
   ]
  },
  {
   "cell_type": "code",
   "execution_count": 103,
   "id": "bd424073-e97d-46bd-896b-30ca3c751f16",
   "metadata": {
    "tags": []
   },
   "outputs": [
    {
     "data": {
      "text/plain": [
       "[4, 8, 12, 16, 20]"
      ]
     },
     "execution_count": 103,
     "metadata": {},
     "output_type": "execute_result"
    }
   ],
   "source": [
    "\n",
    "a=[1,2,3,4,5]\n",
    "# we use the built in function map that takes as first argument a FUNCTION \n",
    "# take care of the anonymous function we use in it\n",
    "\n",
    "b=map(lambda x: x*4,a)\n",
    "list(b)   # this is necessary to print b"
   ]
  },
  {
   "cell_type": "markdown",
   "id": "61d3710b-805f-4529-8fd7-d2943d6ae54d",
   "metadata": {
    "tags": []
   },
   "source": [
    "# EXERCISE\n",
    "\n",
    "Try to execute all the cells of the notebook"
   ]
  }
 ],
 "metadata": {
  "kernelspec": {
   "display_name": "Python 3 (ipykernel)",
   "language": "python",
   "name": "python3"
  },
  "language_info": {
   "codemirror_mode": {
    "name": "ipython",
    "version": 3
   },
   "file_extension": ".py",
   "mimetype": "text/x-python",
   "name": "python",
   "nbconvert_exporter": "python",
   "pygments_lexer": "ipython3",
   "version": "3.11.5"
  }
 },
 "nbformat": 4,
 "nbformat_minor": 5
}
