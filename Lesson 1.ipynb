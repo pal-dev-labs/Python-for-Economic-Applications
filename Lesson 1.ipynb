{
 "cells": [
  {
   "cell_type": "markdown",
   "id": "861ac10e",
   "metadata": {},
   "source": [
    "# AN INTRODUCTORY EXAMPLE"
   ]
  },
  {
   "cell_type": "code",
   "execution_count": null,
   "id": "365c6853",
   "metadata": {
    "tags": []
   },
   "outputs": [],
   "source": [
    "# import macro-functions (libraries) to perform high level computation and funtions\n",
    "\n",
    "import pandas as pd   # to manage table\n",
    "\n",
    "import numpy as np    # to manage linear algebra\n",
    "\n",
    "import matplotlib.pyplot as plt      # to plot data\n",
    "\n",
    "import seaborn as sns                # to plot data\n",
    "#sns.set_theme();\n",
    "\n",
    "import statsmodels.api as sm         # to use statistical tools\n",
    "\n",
    "from sklearn.preprocessing import scale   # tools to preprocess data\n",
    "\n",
    "import warnings; warnings.filterwarnings('ignore') # \"default\" restore default mode \"ignore\" ignore"
   ]
  },
  {
   "cell_type": "markdown",
   "id": "70051494",
   "metadata": {},
   "source": [
    "## **SCENARIO**: You are working in the marketing department of a car seller. \n",
    "## Your boss gives you the last sales data and asked you:\n",
    "- To create a summary report on the total sales for Manufacturer\n",
    "- To identify what factors influence the sales\n",
    "- To make a prediction about how many sales can be generated with an investment of 500k euro in TV Advertising\n",
    "- To make a prediction about how many sales can be generated with an investment of 75k euro in Social Advertising\n",
    "- To make a prediction for some new cars models about a chance to win the prestigious award \"Car of the Year\". Factors of success are Power performance and Fuel Efficiency. Data about these factors for the new cars will be provided\n",
    "\n",
    "All data are in excel files provided by IT department. "
   ]
  },
  {
   "cell_type": "markdown",
   "id": "1b239200",
   "metadata": {},
   "source": [
    "First I load all the excel file directly in a table"
   ]
  },
  {
   "cell_type": "code",
   "execution_count": null,
   "id": "81fc46a4",
   "metadata": {
    "tags": []
   },
   "outputs": [],
   "source": [
    "# ANACONDA NAVIGATOR -- UNCOMMENT HERE\n",
    "#sales_table = pd.read_csv('./Data/sales_data.csv') # Load a CSV file on a local table (dataframe)\n",
    "\n",
    "# GOOGLE COLAB - UNCOMMENT HERE\n",
    "\n",
    "url = 'https://raw.githubusercontent.com/pal-dev-labs/Python-for-Economic-Applications/main/Data/sales_data.csv'\n",
    "sales_table = pd.read_csv(url)"
   ]
  },
  {
   "cell_type": "code",
   "execution_count": null,
   "id": "bf568c93",
   "metadata": {
    "tags": []
   },
   "outputs": [],
   "source": [
    "# print the dataframe info\n",
    "\n",
    "sales_table.info()"
   ]
  },
  {
   "cell_type": "code",
   "execution_count": null,
   "id": "b73f09df-68c8-4765-889e-08fd39593955",
   "metadata": {
    "tags": []
   },
   "outputs": [],
   "source": [
    "# print the dataframe content\n",
    "\n",
    "sales_table"
   ]
  },
  {
   "cell_type": "code",
   "execution_count": null,
   "id": "a2f0ed76-02e6-46ee-bbfe-861ba694fbde",
   "metadata": {},
   "outputs": [],
   "source": []
  },
  {
   "cell_type": "markdown",
   "id": "26f0a1eb-9015-4df5-a214-f2f309cdede5",
   "metadata": {
    "tags": []
   },
   "source": [
    "# DATA EXPLORATION"
   ]
  },
  {
   "cell_type": "markdown",
   "id": "f256226d",
   "metadata": {},
   "source": [
    "I want to know how many different models each Manifacturer has"
   ]
  },
  {
   "cell_type": "code",
   "execution_count": null,
   "id": "b00f393e",
   "metadata": {
    "tags": []
   },
   "outputs": [],
   "source": [
    "# for each manufacturer group the models and plot a barplot\n",
    "sales_table['Manufacturer'].value_counts().plot.bar();"
   ]
  },
  {
   "cell_type": "markdown",
   "id": "be342462",
   "metadata": {},
   "source": [
    "I want to save this image for my future report. I need a nicer figure"
   ]
  },
  {
   "cell_type": "code",
   "execution_count": null,
   "id": "1c8c99f4",
   "metadata": {
    "tags": []
   },
   "outputs": [],
   "source": [
    "sales_table['Manufacturer'].value_counts().plot.bar()\n",
    "\n",
    "# add some decorators\n",
    "plt.xlabel('Manufacturers')\n",
    "plt.ylabel('Number of Models')\n",
    "plt.title('Manufacturers different models')\n",
    "plt.legend()\n",
    "plt.savefig('manufacturer.png')  # this saves the figure i"
   ]
  },
  {
   "cell_type": "markdown",
   "id": "8ac1408f",
   "metadata": {},
   "source": [
    "# TABLE MANIPULATION"
   ]
  },
  {
   "cell_type": "markdown",
   "id": "fadd2830",
   "metadata": {},
   "source": [
    "I want to extract total amount of sales for each manufacturer"
   ]
  },
  {
   "cell_type": "code",
   "execution_count": null,
   "id": "832f38d5",
   "metadata": {
    "tags": []
   },
   "outputs": [],
   "source": [
    "total_sales = pd.pivot_table(sales_table, index=['Manufacturer'], values=['Sales_in_thousands'],aggfunc=[np.sum])\n",
    "total_sales"
   ]
  },
  {
   "cell_type": "markdown",
   "id": "12a6ec5b",
   "metadata": {},
   "source": [
    "Let's order a little bit"
   ]
  },
  {
   "cell_type": "code",
   "execution_count": null,
   "id": "961d8715",
   "metadata": {
    "tags": []
   },
   "outputs": [],
   "source": [
    "total_sales = total_sales.sort_values(by=('sum', 'Sales_in_thousands'), ascending=False)\n",
    "total_sales"
   ]
  },
  {
   "cell_type": "code",
   "execution_count": null,
   "id": "b4feee6f-048a-4248-9893-c5318d7244ca",
   "metadata": {},
   "outputs": [],
   "source": []
  },
  {
   "cell_type": "code",
   "execution_count": null,
   "id": "00c608d1",
   "metadata": {
    "tags": []
   },
   "outputs": [],
   "source": [
    "total_sales.plot.bar(legend = False)\n",
    "plt.ylabel('Sales (€)');\n",
    "plt.xlabel('Manufacturers')\n",
    "plt.title('Summary of Manufacturers total sales')\n",
    "plt.legend()\n",
    "plt.savefig('manufacturer_total_sales.png')  # this saves the figure i"
   ]
  },
  {
   "cell_type": "code",
   "execution_count": null,
   "id": "4ca88989-e44a-4126-9a1a-724aa734e818",
   "metadata": {},
   "outputs": [],
   "source": []
  },
  {
   "cell_type": "code",
   "execution_count": null,
   "id": "8b041c5d-68a8-44e7-8f5a-18be88d51022",
   "metadata": {},
   "outputs": [],
   "source": []
  },
  {
   "cell_type": "code",
   "execution_count": null,
   "id": "bd8f511c",
   "metadata": {
    "tags": []
   },
   "outputs": [],
   "source": [
    "total_sales.iloc[0:15].plot.pie(subplots=True, legend= False, autopct=\"%1.1f%%\")\n",
    "plt.ylabel('');\n",
    "plt.xlabel('')\n",
    "plt.title('Manufacturers Total Sales (k€)')\n",
    "plt.savefig('manufacturer_total_sales2.png') "
   ]
  },
  {
   "cell_type": "markdown",
   "id": "2377031f",
   "metadata": {},
   "source": [
    "## I would like to understand if there are factors that influence the sales"
   ]
  },
  {
   "cell_type": "code",
   "execution_count": null,
   "id": "9ca7de1e",
   "metadata": {
    "tags": []
   },
   "outputs": [],
   "source": [
    "plt.scatter(sales_table['Price_in_thousands'].values, sales_table['Sales_in_thousands'].values)\n",
    "plt.xlabel(\"Price_in_thousands\");plt.ylabel(\"Sales_in_thousands\");"
   ]
  },
  {
   "cell_type": "markdown",
   "id": "b6c822fe-c86e-4981-a371-03adce7b8660",
   "metadata": {},
   "source": [
    "## Let's try with more features"
   ]
  },
  {
   "cell_type": "code",
   "execution_count": null,
   "id": "33cc9db4",
   "metadata": {
    "tags": []
   },
   "outputs": [],
   "source": [
    "g = sns.pairplot(sales_table.iloc[:,[3,4,5,6,7,8]]);\n",
    "g.fig.suptitle(\"Factors that could influence the sales\", fontsize=25)\n",
    "plt.show()"
   ]
  },
  {
   "cell_type": "markdown",
   "id": "0b05d12e-5bb0-49ad-9f58-57b8c959a5e5",
   "metadata": {},
   "source": [
    "## Price, TV Advertising (very correlated) and Social Advertising seems interesting"
   ]
  },
  {
   "cell_type": "markdown",
   "id": "7ec46065-a5e6-466f-a824-d7b1398d5b62",
   "metadata": {
    "tags": []
   },
   "source": [
    "## Let's try to calculate a correlation "
   ]
  },
  {
   "cell_type": "code",
   "execution_count": null,
   "id": "2ba47b14-8365-4c97-9028-af46f039ecde",
   "metadata": {
    "tags": []
   },
   "outputs": [],
   "source": [
    "cor_tv = sales_table['Sales_in_thousands'].corr(sales_table['TV Advert (thousands)'])\n",
    "cor_social = sales_table['Sales_in_thousands'].corr(sales_table['Social Advert'])\n",
    "cor_price = sales_table['Sales_in_thousands'].corr(sales_table['Price_in_thousands'])\n",
    "print(\"Correlation between Sales and TV Advertising:\", cor_tv)\n",
    "print(\"Correlation between Sales and Social Advertising:\", cor_social)\n",
    "print(\"Correlation between Sales and Price:\", cor_price)"
   ]
  },
  {
   "cell_type": "markdown",
   "id": "d3f76356-92c3-4bab-b879-4734a2d779f4",
   "metadata": {},
   "source": [
    "## TV Advertising seems to be very linearly correlated with Sales.\n",
    "\n",
    "## Could be interesting to perform a linear regression to have a predictor for sales\n",
    "\n",
    "$ Sales = \\beta_0 + \\beta_1 (TVAdv) + \\epsilon$\n",
    "\n",
    "$ y = X \\beta + \\epsilon$"
   ]
  },
  {
   "cell_type": "code",
   "execution_count": null,
   "id": "30fc89eb-89f3-4857-b4b3-a6d395c2e909",
   "metadata": {
    "tags": []
   },
   "outputs": [],
   "source": [
    "# extract X training data from dataframe\n",
    "X_train = sales_table['TV Advert (thousands)'].values\n",
    "X_train = sm.add_constant(X_train)\n",
    "\n",
    "# extract y training data from dataframe\n",
    "y_train = sales_table['Sales_in_thousands'].values\n"
   ]
  },
  {
   "cell_type": "code",
   "execution_count": null,
   "id": "64a8f020-c27a-4e83-b149-6b721c3ae118",
   "metadata": {
    "tags": []
   },
   "outputs": [],
   "source": [
    "X_train"
   ]
  },
  {
   "cell_type": "code",
   "execution_count": null,
   "id": "d11e5608-12a0-4b33-8a6e-290dbd40befb",
   "metadata": {
    "tags": []
   },
   "outputs": [],
   "source": [
    "# set simple linear regression model\n",
    "model = sm.OLS(y_train,X_train)    # create the OLS model\n",
    "\n",
    "# train the model\n",
    "results= model.fit()   # train the model\n",
    "\n",
    "# Print the model summary\n",
    "print(results.summary())"
   ]
  },
  {
   "cell_type": "code",
   "execution_count": null,
   "id": "c0eddf43-4cc9-4f84-8656-f877740a1b52",
   "metadata": {
    "tags": []
   },
   "outputs": [],
   "source": [
    "print(\"Coefficients: \", results.params)\n",
    "print(\"R2: \", results.rsquared)"
   ]
  },
  {
   "cell_type": "code",
   "execution_count": null,
   "id": "a28fea78-5857-4045-9621-786cf748f357",
   "metadata": {},
   "outputs": [],
   "source": []
  },
  {
   "cell_type": "markdown",
   "id": "711df7e4-73d7-4ad2-a58d-7eb06a2b2108",
   "metadata": {
    "tags": []
   },
   "source": [
    "## Let's try to visualize the regression line "
   ]
  },
  {
   "cell_type": "code",
   "execution_count": null,
   "id": "f45be613-8981-42cf-9f87-8f0bd5aa8447",
   "metadata": {
    "tags": []
   },
   "outputs": [],
   "source": [
    "# ------------------------------------\n",
    "# calculate predictions\n",
    "pred_ols = results.get_prediction()\n",
    "\n",
    "#-------------------------------------\n",
    "# Confidence intervals\n",
    "iv_l = pred_ols.summary_frame()[\"obs_ci_lower\"]\n",
    "iv_u = pred_ols.summary_frame()[\"obs_ci_upper\"]\n",
    "\n",
    "#--------------------------------------\n",
    "# plotting\n",
    "fig, ax = plt.subplots(figsize=(8, 6))\n",
    "ax.plot(X_train[:,1], y_train, \"o\", label=\"data\")   # plot original data\n",
    "ax.plot(X_train[:,1], results.fittedvalues, \"r--.\", label=\"OLS\")  # plot fitted data\n",
    "ax.plot(X_train[:,1], iv_u, \"r--\", c='g')   # plot upper confident interval\n",
    "ax.plot(X_train[:,1], iv_l, \"r--\", c='g')   # plot lower confident interval\n",
    "\n",
    "#---------------------------------------\n",
    "# figure decorator\n",
    "ax.legend(loc=\"best\")\n",
    "plt.xlim(0,600)\n",
    "plt.ylim(0,70)\n",
    "plt.xlabel('TV Advertising (k euros)')\n",
    "plt.ylabel('Sales (k)')\n",
    "plt.show()"
   ]
  },
  {
   "cell_type": "markdown",
   "id": "017dc438-d3f5-48a4-88f7-173b07993487",
   "metadata": {},
   "source": [
    "## Having a statistical model for TV Advertising I can estimate how many sales can be generated with an investment of 500k euro in TV Advertising"
   ]
  },
  {
   "cell_type": "code",
   "execution_count": null,
   "id": "7b91d252-bc9a-4491-b16a-723c18adcea6",
   "metadata": {
    "tags": []
   },
   "outputs": [],
   "source": [
    "inv = 500\n",
    "β1 = results.params[0]  # estimated parameter\n",
    "β2 = results.params[1]  # estimated parameter\n",
    "y_pred = β1 + β2 * inv\n",
    "print(\"Estimated amount of sales with investment of\",inv,\"k euros is\",y_pred, \"k units\")"
   ]
  },
  {
   "cell_type": "markdown",
   "id": "02aa944f-42cd-4535-8ace-75853426151f",
   "metadata": {
    "tags": []
   },
   "source": [
    "# Let's make the prediction for the TV Advertising"
   ]
  },
  {
   "cell_type": "code",
   "execution_count": null,
   "id": "6587b597-96e1-41a9-bef1-b2a41c1751f2",
   "metadata": {
    "tags": []
   },
   "outputs": [],
   "source": [
    "X_train_social = sales_table['Social Advert'].values"
   ]
  },
  {
   "cell_type": "code",
   "execution_count": null,
   "id": "b4989b69-f3ee-4025-871f-d924d23e4b35",
   "metadata": {
    "tags": []
   },
   "outputs": [],
   "source": [
    "# train the model\n",
    "\n",
    "model1 = sm.OLS(y_train,X_train_social)    # create the OLS model\n",
    "results1 = model1.fit()   # train the model\n",
    "\n",
    "# Print the model summary\n",
    "print(results1.summary())"
   ]
  },
  {
   "cell_type": "markdown",
   "id": "5fe1f426-9428-46a7-91b7-9eacd045c528",
   "metadata": {
    "tags": []
   },
   "source": [
    "## We got poor results. Let's try with a non linear estimator: KNeighborsRegressor (https://it.wikipedia.org/wiki/K-nearest_neighbors)"
   ]
  },
  {
   "cell_type": "code",
   "execution_count": null,
   "id": "5eb952a6-2abe-45be-9799-1cdd0be18f37",
   "metadata": {},
   "outputs": [],
   "source": [
    "# extract data from original sales dataframe\n",
    "X_social = sales_table['Social Advert'].values\n",
    "y = sales_table['Sales_in_thousands'].values"
   ]
  },
  {
   "cell_type": "code",
   "execution_count": null,
   "id": "eb8b7548-d7da-4a29-a7ff-aa0fcd4f8742",
   "metadata": {
    "tags": []
   },
   "outputs": [],
   "source": [
    "# import the libraries\n",
    "from sklearn import neighbors   # to import the model\n",
    "\n",
    "# preprocess inputs for the model\n",
    "from sklearn.preprocessing import scale   # to preprocess the input\n",
    "X_social_prep = scale(X_social, with_mean=False, with_std=False).reshape(-1,1)\n",
    "\n",
    "# split train test and test test to check accuracy of the model\n",
    "from sklearn.model_selection import train_test_split\n",
    "X_train, X_test, y_train, y_test = train_test_split(X_social_prep, y, test_size=0.25)\n"
   ]
  },
  {
   "cell_type": "code",
   "execution_count": null,
   "id": "2964249e-0400-4c31-8cb5-7ea3b93495ca",
   "metadata": {},
   "outputs": [],
   "source": [
    "\n",
    "# set model hyperparameters\n",
    "n_neighbors = 20\n",
    "\n",
    "# set the model\n",
    "knn = neighbors.KNeighborsRegressor(n_neighbors)\n",
    "\n",
    "# fit the model\n",
    "results = knn.fit(X_train, y_train)"
   ]
  },
  {
   "cell_type": "code",
   "execution_count": null,
   "id": "091a98ab-4f52-4322-bb34-c478c6b54ac0",
   "metadata": {
    "tags": []
   },
   "outputs": [],
   "source": [
    "# Calculate the mean squared error (MSE)\n",
    "def mse(y_true, y_pred):\n",
    "  return np.mean((y_true - y_pred) ** 2)\n",
    "\n",
    "# Calculate the test MSE\n",
    "y_hat_train = results.predict(X_train)\n",
    "mse_value_train = mse(y_train, y_hat_train)\n",
    "\n",
    "# Calculate the test MSE\n",
    "y_hat_test = results.predict(X_test)\n",
    "mse_value_test = mse(y_test, y_hat_test)\n",
    "\n",
    "# Print the MSE\n",
    "print(\"MSE train:\",mse_value_train)\n",
    "print(\"MSE test:\",mse_value_test)"
   ]
  },
  {
   "cell_type": "markdown",
   "id": "27be78e7-dab7-4dfd-ad9a-b5a79989ea12",
   "metadata": {
    "tags": []
   },
   "source": [
    "# Note that the MSE change each time we run the model"
   ]
  },
  {
   "cell_type": "markdown",
   "id": "7abf3da7-5d80-43fb-a915-05eb84ae2b97",
   "metadata": {},
   "source": [
    "## Let's have a look of the predition"
   ]
  },
  {
   "cell_type": "code",
   "execution_count": null,
   "id": "a54b1cc5-12ec-48ca-a0e8-59516976430c",
   "metadata": {
    "tags": []
   },
   "outputs": [],
   "source": []
  },
  {
   "cell_type": "code",
   "execution_count": null,
   "id": "03d48cb4-a8c7-426d-a260-cb25f7081995",
   "metadata": {
    "tags": []
   },
   "outputs": [],
   "source": [
    "y_hat = results.predict(X_social_prep)\n",
    "\n",
    "plt.scatter(X_social_prep, y, color='darkorange', label='data')\n",
    "plt.scatter(X_social_prep, y_hat, color='navy', label='prediction')\n",
    "plt.legend()\n",
    "plt.title(\"KNeighborsRegressor (k = %i)\" % (n_neighbors))\n",
    "\n",
    "plt.tight_layout()\n",
    "plt.xlim(0,200000)\n",
    "plt.ylim(0,400)\n",
    "plt.xlabel(\"Social Advertising investment (euros)\")\n",
    "plt.ylabel(\"Sales (k units)\")\n",
    "\n",
    "plt.show()"
   ]
  },
  {
   "cell_type": "markdown",
   "id": "69270470-9b8c-431e-b545-4b2405139948",
   "metadata": {},
   "source": [
    "## Do we have the best model? We can change the hyperparameters **n_neighbors** and check MSE"
   ]
  },
  {
   "cell_type": "code",
   "execution_count": null,
   "id": "7804486a-3331-4a46-a7f5-12547083ad3f",
   "metadata": {
    "tags": []
   },
   "outputs": [],
   "source": [
    "# split train test and test test to check accuracy of the model\n",
    "X_train, X_test, y_train, y_test = train_test_split(X_social_prep, y, test_size=0.25)\n",
    "\n",
    "# we will use the SAME set to train the model with different hyperparameters\n",
    "mse_value_train = []\n",
    "mse_value_test = []\n",
    "\n",
    "for i in range(1,100):\n",
    "    n_neighbors = i\n",
    "    knn = neighbors.KNeighborsRegressor(n_neighbors)\n",
    "    results = knn.fit(X_train, y_train)\n",
    "    # Calculate the test MSE\n",
    "    y_hat_train = results.predict(X_train)\n",
    "    mse_value_train.append(mse(y_train, y_hat_train))\n",
    "    # Calculate the test MSE\n",
    "    y_hat_test = results.predict(X_test)\n",
    "    mse_value_test.append(mse(y_test, y_hat_test))"
   ]
  },
  {
   "cell_type": "code",
   "execution_count": null,
   "id": "28b1313b-64af-475f-be8b-18378875061d",
   "metadata": {
    "tags": []
   },
   "outputs": [],
   "source": [
    "plt.plot(mse_value_train, label='Train MSE')\n",
    "plt.plot(mse_value_test, label='Test MSE')\n",
    "plt.legend()\n",
    "plt.xlabel('Neighbors')\n",
    "plt.ylabel('MSE')"
   ]
  },
  {
   "cell_type": "markdown",
   "id": "ffca23a6-dbef-47e1-a5d9-b69bfe8325d4",
   "metadata": {},
   "source": [
    "## we can take neighbors = 50 as best hyperparameter and make a prediction for the investment of 75k euro in Social Advertising\n"
   ]
  },
  {
   "cell_type": "code",
   "execution_count": null,
   "id": "a88f8b70-c0f7-4e26-8921-578f96881be1",
   "metadata": {
    "tags": []
   },
   "outputs": [],
   "source": [
    "## we can take neighbors = 50 as best hyperparameter and prediction about and make a prediction for the investment of 75k euro in Social Advertising\n",
    "n_neighbors = 50\n",
    "\n",
    "knn = neighbors.KNeighborsRegressor(n_neighbors)\n",
    "results = knn.fit(X_train, y_train)\n",
    "y_hat = results.predict(np.array([75000]).reshape(-1,1))\n",
    "\n",
    "print('An investment of 75k euro in Social Advertising generates ',y_hat[0], 'units of sale')"
   ]
  },
  {
   "cell_type": "markdown",
   "id": "2d54dde1-616f-4323-8711-6fdccadef771",
   "metadata": {},
   "source": [
    "# Last question: The award\n",
    "\n",
    "## We have to make a prediction for three new cars models about a chance to win the prestigious award \"Car of the Year\".\n",
    "\n",
    "## Factors of success are Power performance and Fuel Efficiency. "
   ]
  },
  {
   "cell_type": "code",
   "execution_count": null,
   "id": "d480146c-0dd9-4028-8077-6da7fc6b2e74",
   "metadata": {
    "tags": []
   },
   "outputs": [],
   "source": [
    "sales_table[['Manufacturer','Model','Fuel_efficiency','Power_perf_factor','Awarded']]"
   ]
  },
  {
   "cell_type": "markdown",
   "id": "36a5669b-35af-4e63-883c-f232f3706e0f",
   "metadata": {},
   "source": [
    "## We note that the column \"Awarded\" has 0 for NOT win and 1 for WIN.\n",
    "\n",
    "## We have to build a standard classifier with 2 predictors: \"Fuel_efficiency\" and \"Power_perf_factor\""
   ]
  },
  {
   "cell_type": "markdown",
   "id": "3412f2c1-1019-4852-8247-95428f32da32",
   "metadata": {},
   "source": [
    "## Let's load the file provided by IT"
   ]
  },
  {
   "cell_type": "code",
   "execution_count": null,
   "id": "ae180352-2820-46b5-b0cb-fc28a154d197",
   "metadata": {
    "tags": []
   },
   "outputs": [],
   "source": [
    "# Load the CSV file provided by IT on a local table (dataframe)\n",
    "award_factors = pd.read_csv('./Data/award-factors.csv')\n",
    "\n",
    "# Alternatively load the file from an url\n",
    "#url = 'https://raw.githubusercontent.com/pal-dev-labs/Python-for-Economic-Applications/main/Data/award-factors.csv'\n",
    "#award_factors = pd.read_csv(url)"
   ]
  },
  {
   "cell_type": "code",
   "execution_count": null,
   "id": "90a02dc9-83bb-49f6-b844-223abd810faa",
   "metadata": {
    "tags": []
   },
   "outputs": [],
   "source": [
    "award_factors"
   ]
  },
  {
   "cell_type": "markdown",
   "id": "9a17c30b-56d5-470a-98cf-4a0938bb49ff",
   "metadata": {
    "tags": []
   },
   "source": [
    "## We will use a Neural Network as a classifier. We will use 2 preditors 'Fuel_efficiency' and 'Power_perf_factor'"
   ]
  },
  {
   "cell_type": "code",
   "execution_count": null,
   "id": "0c668edc-2ea9-4c38-b1a0-78fe643d7552",
   "metadata": {
    "tags": []
   },
   "outputs": [],
   "source": [
    "# Split the data into features and target\n",
    "X = sales_table[['Fuel_efficiency', 'Power_perf_factor']]\n",
    "y = sales_table['Awarded']\n",
    "\n",
    "# Split the data into training and testing sets\n",
    "X_train, X_test, y_train, y_test = train_test_split(X, y, test_size=0.25, random_state=42)\n"
   ]
  },
  {
   "cell_type": "code",
   "execution_count": null,
   "id": "fde362a9-6465-45fc-8721-3c27f69c68de",
   "metadata": {
    "tags": []
   },
   "outputs": [],
   "source": [
    "from tensorflow import keras\n",
    "\n",
    "# Define the model\n",
    "model = keras.Sequential([\n",
    "  keras.layers.Dense(16, activation='relu', input_shape=(2,)),\n",
    "  keras.layers.Dense(32, activation='relu'),\n",
    "  keras.layers.Dense(1, activation='sigmoid')\n",
    "])"
   ]
  },
  {
   "cell_type": "code",
   "execution_count": null,
   "id": "4b46a9a1-6de7-4b16-ab74-a36fa32a5388",
   "metadata": {
    "tags": []
   },
   "outputs": [],
   "source": [
    "# Compile the model\n",
    "model.compile(loss='binary_crossentropy', optimizer='adam', metrics=['accuracy'])"
   ]
  },
  {
   "cell_type": "code",
   "execution_count": null,
   "id": "808078e1-7d27-4868-a887-4bb2133a391d",
   "metadata": {
    "scrolled": true,
    "tags": []
   },
   "outputs": [],
   "source": [
    "# Train the model on the training set\n",
    "model.fit(X_train, y_train, epochs=100);"
   ]
  },
  {
   "cell_type": "code",
   "execution_count": null,
   "id": "5f34c01c-8d68-41e3-aba8-cc261bd6f6a9",
   "metadata": {
    "tags": []
   },
   "outputs": [],
   "source": [
    "# Evaluate the model on the testing set\n",
    "loss, accuracy = model.evaluate(X_test, y_test)\n",
    "\n",
    "# Print the loss and accuracy\n",
    "print('Loss:', loss)\n",
    "print('Accuracy:', accuracy)"
   ]
  },
  {
   "cell_type": "markdown",
   "id": "e14dff87-b98a-4030-a762-8dfc29e64aea",
   "metadata": {
    "tags": []
   },
   "source": [
    "## Make predictions on new cars\n"
   ]
  },
  {
   "cell_type": "code",
   "execution_count": null,
   "id": "403378b3-5a39-46b7-8b4d-fe80016208ac",
   "metadata": {
    "tags": []
   },
   "outputs": [],
   "source": [
    "# Make predictions on new data\n",
    "\n",
    "predictions = model.predict(award_factors[['Fuel_efficiency', 'Power_perf_factor']])\n",
    "award_factors['Probability to Win (%)']=np.around(predictions*100,2)\n",
    "\n",
    "award_factors"
   ]
  },
  {
   "cell_type": "code",
   "execution_count": null,
   "id": "90943310",
   "metadata": {},
   "outputs": [],
   "source": []
  },
  {
   "cell_type": "code",
   "execution_count": null,
   "id": "126a8530",
   "metadata": {},
   "outputs": [],
   "source": []
  },
  {
   "cell_type": "markdown",
   "id": "9b6135e1-cc1a-46a5-8f2d-385d0413c2d6",
   "metadata": {
    "tags": []
   },
   "source": [
    "# PYTHON PROGRAMMING LANGUAGE"
   ]
  },
  {
   "cell_type": "markdown",
   "id": "f841ce2a",
   "metadata": {},
   "source": [
    "## Everything Is an Object\n",
    "Python is an **object-oriented programming language (OOPP)** and in Python everything is an **OBJECT**.\n",
    "\n",
    "In an object-oriented programming languages like Python, an object is an entity that contains data along with associated metadata and/or functionality. \n",
    "\n",
    "In Python **everything is an object**, which means every entity has some metadata (called **attributes** or **fields**) and associated functionality (called **methods**). These attributes and methods are accessed via the dot syntax.\n",
    "\n",
    "Example of objects are the integers numbers **1,2,3** or the symbols **\"a\"**,**\"B\"**,**\"?\"**. A \"bigger\" object could be a container of numbers **[1,2,3,4...,9,..,101]**\n",
    "\n",
    "As objects are so fundamental, Python has already some built-in objects, like numbers and characters"
   ]
  },
  {
   "cell_type": "code",
   "execution_count": null,
   "id": "b2b3f32d",
   "metadata": {},
   "outputs": [],
   "source": []
  },
  {
   "cell_type": "markdown",
   "id": "2a0c4a40",
   "metadata": {},
   "source": [
    "Let's create an object **a**"
   ]
  },
  {
   "cell_type": "code",
   "execution_count": null,
   "id": "bd810f00",
   "metadata": {
    "tags": []
   },
   "outputs": [],
   "source": [
    "\"a\""
   ]
  },
  {
   "cell_type": "markdown",
   "id": "0c726264",
   "metadata": {},
   "source": [
    "We use the characters \"\" to create the object **'a'** whose data is the symbol *a*"
   ]
  },
  {
   "cell_type": "markdown",
   "id": "6a9ed357",
   "metadata": {},
   "source": [
    "Let's create an object that is a number"
   ]
  },
  {
   "cell_type": "code",
   "execution_count": null,
   "id": "d4c14ccd",
   "metadata": {
    "tags": []
   },
   "outputs": [],
   "source": [
    "3"
   ]
  },
  {
   "cell_type": "markdown",
   "id": "bf7ed365",
   "metadata": {},
   "source": [
    "the object **3** contains the symbol 3 (that python considers as the mathematical value 3"
   ]
  },
  {
   "cell_type": "markdown",
   "id": "d23bcd55",
   "metadata": {},
   "source": [
    "Consider now"
   ]
  },
  {
   "cell_type": "code",
   "execution_count": null,
   "id": "fab0869d",
   "metadata": {
    "tags": []
   },
   "outputs": [],
   "source": [
    "\"3\""
   ]
  },
  {
   "cell_type": "markdown",
   "id": "c20d10d2",
   "metadata": {},
   "source": [
    "The object **'3'** is different from the object **3**. The last is the character *3* the first is the mathematical value 3"
   ]
  },
  {
   "cell_type": "markdown",
   "id": "aefa6ffe",
   "metadata": {},
   "source": [
    "Different objects behave differently when we apply operations"
   ]
  },
  {
   "cell_type": "code",
   "execution_count": null,
   "id": "bd2205f0",
   "metadata": {},
   "outputs": [],
   "source": [
    "3+3"
   ]
  },
  {
   "cell_type": "code",
   "execution_count": null,
   "id": "d3e087a4",
   "metadata": {},
   "outputs": [],
   "source": [
    "\"3\"+\"3\""
   ]
  },
  {
   "cell_type": "markdown",
   "id": "83465c81",
   "metadata": {},
   "source": [
    "Objects contain not only data or information but also **fields** and **methods**. We can use **dot** notation to access fields and methods\n",
    "\n",
    "For example **capitalize** is a method to capitalize a symbol contained in a character object. It **produces** a new object that is the capitalized character\n"
   ]
  },
  {
   "cell_type": "code",
   "execution_count": null,
   "id": "fdd5b177",
   "metadata": {
    "tags": []
   },
   "outputs": [],
   "source": [
    "# capitalize is a method to capitalize the symbol a contained in the object 'a'. It produces the new object 'A'\n",
    "\"a\".capitalize()"
   ]
  },
  {
   "cell_type": "code",
   "execution_count": null,
   "id": "c1c3cf0a",
   "metadata": {},
   "outputs": [],
   "source": []
  },
  {
   "cell_type": "code",
   "execution_count": null,
   "id": "c4778d10",
   "metadata": {
    "tags": []
   },
   "outputs": [],
   "source": [
    "\"A\".lower()"
   ]
  },
  {
   "cell_type": "markdown",
   "id": "828e1a35",
   "metadata": {
    "tags": []
   },
   "source": [
    "The following picture summarize the objects creation process. We can note that every objects has a **TYPE** (or we can say it belongs to a **CLASS**)\n",
    "\n",
    "https://github.com/pal-dev-labs/Python-for-Economic-Applications/blob/main/Images/objects1.png"
   ]
  },
  {
   "cell_type": "markdown",
   "id": "b040a955",
   "metadata": {
    "tags": []
   },
   "source": [
    "# Types\n",
    "Objects have type information attached. \n",
    "\n",
    "There are built-in simple types offered by Python and several compound types, which will be discussed in the following lessons.\n",
    "\n",
    "Python's simple types are summarized in the following table:\n",
    "\n",
    "<center>**Python Scalar Types**</center>\n",
    "\n",
    "| Type        | Example        | Description                                                  |\n",
    "|-------------|----------------|--------------------------------------------------------------|\n",
    "| ``int``     | ``1``      | integers (i.e., whole numbers)                               |\n",
    "| ``float``   | ``1.0``    | floating-point numbers (i.e., real numbers)                  |\n",
    "| ``complex`` | ``1 + 2j`` | Complex numbers (i.e., numbers with real and imaginary part) |\n",
    "| ``bool``    | ``True``   | Boolean: True/False values                                   |\n",
    "| ``str``     | ``'Ab$'``  | String: characters or text                                   |\n",
    "| ``NoneType``| ``None``   | Special object indicating nulls                              |\n",
    "\n",
    "We'll take a quick look at each of these in turn."
   ]
  },
  {
   "cell_type": "code",
   "execution_count": null,
   "id": "832dff40",
   "metadata": {
    "tags": []
   },
   "outputs": [],
   "source": [
    "type(3)"
   ]
  },
  {
   "cell_type": "code",
   "execution_count": null,
   "id": "79ba3639",
   "metadata": {
    "tags": []
   },
   "outputs": [],
   "source": [
    "type(\"Ab$\")"
   ]
  },
  {
   "cell_type": "code",
   "execution_count": null,
   "id": "efe0bfe5",
   "metadata": {},
   "outputs": [],
   "source": [
    "type(1.5)"
   ]
  },
  {
   "cell_type": "code",
   "execution_count": null,
   "id": "dd26b7ce",
   "metadata": {
    "tags": []
   },
   "outputs": [],
   "source": [
    "type(3+3)"
   ]
  },
  {
   "cell_type": "code",
   "execution_count": null,
   "id": "9be3993d-275a-4028-9ed7-6cc6ab0cae36",
   "metadata": {
    "tags": []
   },
   "outputs": [],
   "source": [
    "type(\"abc\"+\"cde\")"
   ]
  },
  {
   "cell_type": "markdown",
   "id": "fbb18b43",
   "metadata": {},
   "source": [
    "## Python Variables\n",
    "Let's see how python manages variables.\n",
    "\n",
    "We're going to assign the int value *4* to a variable named *x*, the str value \"Stefano\" to a variable named *name1* and a float *12.8* value to a variable named *c*"
   ]
  },
  {
   "cell_type": "code",
   "execution_count": null,
   "id": "fe60d1c8",
   "metadata": {
    "tags": []
   },
   "outputs": [],
   "source": [
    "# assignment instructions\n",
    "\n",
    "x = 4     # assign 4 to variable x\n",
    "name1 = \"Stefano\"   #   # assign 'Stefano' to variable name1\n",
    "c = 12.8 # assign 12.8 to variable c\n"
   ]
  },
  {
   "cell_type": "code",
   "execution_count": null,
   "id": "d1d80496",
   "metadata": {},
   "outputs": [],
   "source": []
  },
  {
   "cell_type": "markdown",
   "id": "7a1b32a9",
   "metadata": {},
   "source": [
    "## Python Variables Are Pointers\n",
    "\n",
    "Assigning variables in Python is as easy as putting a variable name to the left of the equals (``=``) sign:\n",
    "\n",
    "```python\n",
    "# assign 4 to the variable x\n",
    "x = 4\n",
    "```\n",
    "\n",
    "It seems as we create a space in memory, named x, and insert directly the value 4 in that space.\n",
    "\n",
    "This is NOT the way in which Python works.\n",
    "\n",
    "In Python variables are best thought of not as containers but as **POINTERS**.\n",
    "So in Python, when you write\n",
    "\n",
    "```python\n",
    "x = 4\n",
    "```\n",
    "\n",
    "you are essentially defining a *pointer* named ``x`` that points to an object in memory that contains the value ``4``. The right part of the assignment instruction above, creates an int object in memory and assignes the address memory of that object to the pointer ``x``. \n",
    "\n",
    "\n",
    "In this way, variable a is able to accesso all the information of the object, including value, fields and methods.\n"
   ]
  },
  {
   "cell_type": "code",
   "execution_count": null,
   "id": "1054154d-b127-46fc-95e3-9f6628a5f5e1",
   "metadata": {},
   "outputs": [],
   "source": []
  },
  {
   "cell_type": "markdown",
   "id": "fbd53fa9-1e4b-441b-a4af-3d2b1d1b9f56",
   "metadata": {},
   "source": [
    "https://github.com/pal-dev-labs/Python-for-Economic-Applications/blob/main/Images/fig-variable-object-3.png"
   ]
  },
  {
   "cell_type": "code",
   "execution_count": null,
   "id": "a0e7953f-23fe-4b1e-a4be-9e62ea3cf1a4",
   "metadata": {
    "tags": []
   },
   "outputs": [],
   "source": [
    "type(x)"
   ]
  },
  {
   "cell_type": "markdown",
   "id": "4199ebee-74f2-4765-8466-50af83a3f47b",
   "metadata": {},
   "source": [
    "This works also for more complex objects\n"
   ]
  },
  {
   "cell_type": "code",
   "execution_count": null,
   "id": "21639022-5b34-458e-bf6e-9387ed36fd6a",
   "metadata": {
    "tags": []
   },
   "outputs": [],
   "source": [
    "L = [1,2,3,4,5,6,7,8]        # create a container (a list) that contains the number 1,2,3..8 and assign the address of the object to the pointer L\n",
    "print('We create the variable (pointer) L that points to the object',L,'which is of kind ',type(L))"
   ]
  },
  {
   "cell_type": "markdown",
   "id": "5e235d07-eb41-4318-a2db-dcbcd6f46736",
   "metadata": {},
   "source": [
    "The above instruction is an ASSIGNMENT instruction.\n",
    "\n",
    "In the left side of the = we create in memory the object of kind list (a container) that contains the value 1,2,3,4,5,6,7,8\n",
    "\n",
    "In the righe side of the = we create a pointer L that CONTAINS ONLY THE MEMORY ADDRESS of the object \n"
   ]
  },
  {
   "cell_type": "code",
   "execution_count": null,
   "id": "453d3473-a32f-4111-a3c1-afda7022092c",
   "metadata": {},
   "outputs": [],
   "source": []
  },
  {
   "cell_type": "markdown",
   "id": "7cf5edbb-e6e4-4f95-b7d5-8f3ddb74fc31",
   "metadata": {},
   "source": [
    "https://github.com/pal-dev-labs/Python-for-Economic-Applications/blob/main/Images/fig-variable-object-6.png\n"
   ]
  },
  {
   "cell_type": "markdown",
   "id": "303082ea-b33d-4717-bbb4-57041371033e",
   "metadata": {},
   "source": [
    "When we create an object, we create not only values but also some functions (methods) associated with objects. \n",
    "\n",
    "With the pointers we can access these functions with the **dot** notation"
   ]
  },
  {
   "cell_type": "code",
   "execution_count": null,
   "id": "a0e02aab",
   "metadata": {
    "tags": []
   },
   "outputs": [],
   "source": [
    "a = \"this is a Python course\"\n",
    "print(a)    # print the value of the object"
   ]
  },
  {
   "cell_type": "code",
   "execution_count": null,
   "id": "7cae6738",
   "metadata": {
    "tags": []
   },
   "outputs": [],
   "source": [
    "type(a)"
   ]
  },
  {
   "cell_type": "markdown",
   "id": "d18c8239-07a1-4e55-978a-83465f5cbbd2",
   "metadata": {},
   "source": [
    "an object of kind STR has many methods and we can call them with the notation a. \n",
    "\n",
    "For example"
   ]
  },
  {
   "cell_type": "code",
   "execution_count": null,
   "id": "8f9925b9",
   "metadata": {
    "tags": []
   },
   "outputs": [],
   "source": [
    "a.capitalize()"
   ]
  },
  {
   "cell_type": "code",
   "execution_count": null,
   "id": "f6b36ad9",
   "metadata": {
    "tags": []
   },
   "outputs": [],
   "source": [
    "a.split()"
   ]
  },
  {
   "cell_type": "markdown",
   "id": "1d9a1db5-1ee5-4f80-83f4-5e5bd97afdb8",
   "metadata": {},
   "source": [
    "We can see all methods associate with an object with a.[TAB]"
   ]
  },
  {
   "cell_type": "markdown",
   "id": "9c3b7930-93b2-4cda-9d89-37661b8b2c7c",
   "metadata": {},
   "source": [
    "Consider now"
   ]
  },
  {
   "cell_type": "code",
   "execution_count": null,
   "id": "8c21ee96",
   "metadata": {
    "tags": []
   },
   "outputs": [],
   "source": [
    "y = [1, 2, 3]   # this create a container with 3 numbers\n",
    "x = y"
   ]
  },
  {
   "cell_type": "code",
   "execution_count": null,
   "id": "c4d15427-938e-4a1b-8e20-89bb78c66faa",
   "metadata": {},
   "outputs": [],
   "source": []
  },
  {
   "cell_type": "markdown",
   "id": "a625ec67",
   "metadata": {},
   "source": [
    "We've created two variables ``x`` and ``y`` which both point to the same object.\n",
    "Because of this, if we modify the list via one of its names, we'll see that the \"other\" list will be modified as well:"
   ]
  },
  {
   "cell_type": "code",
   "execution_count": null,
   "id": "dc9e25d9",
   "metadata": {
    "tags": []
   },
   "outputs": [],
   "source": [
    "print(y)"
   ]
  },
  {
   "cell_type": "code",
   "execution_count": null,
   "id": "b8492925-2a57-4bbf-83c8-5a472559d371",
   "metadata": {
    "tags": []
   },
   "outputs": [],
   "source": [
    "print(x)"
   ]
  },
  {
   "cell_type": "code",
   "execution_count": null,
   "id": "2a1b3151",
   "metadata": {
    "tags": []
   },
   "outputs": [],
   "source": [
    "x.append(4) # append 4 to the list pointed to by x\n",
    "print(y) # y's list is modified as well!"
   ]
  },
  {
   "cell_type": "markdown",
   "id": "3779cd92",
   "metadata": {},
   "source": [
    "This behavior might seem confusing if you're wrongly thinking of variables as buckets that contain data.\n",
    "But if you're correctly thinking of variables as pointers to objects, then this behavior makes sense.\n",
    "\n",
    "Note also that if we use \"``=``\" to assign another value to ``x``, this will not affect the value of ``y`` – assignment is simply a change of what object the variable points to:"
   ]
  },
  {
   "cell_type": "code",
   "execution_count": null,
   "id": "09e0328b",
   "metadata": {
    "tags": []
   },
   "outputs": [],
   "source": [
    "x = 'something else'\n",
    "print(y)  # y is unchanged"
   ]
  },
  {
   "cell_type": "markdown",
   "id": "4e26c2a0",
   "metadata": {},
   "source": [
    "Again, this makes perfect sense if you think of x and y as pointers, and the \"=\" operator as an operation that changes what the name points to.\n",
    "\n",
    "You might wonder whether this pointer idea makes arithmetic operations in Python difficult to track, but Python is set up so that this is not an issue. Numbers, strings, and other simple types are IMMUTABLE: you can't change their value – you can only change what values the variables point to. So, for example, it's perfectly safe to do operations like the following:"
   ]
  },
  {
   "cell_type": "code",
   "execution_count": null,
   "id": "4f5b7f91",
   "metadata": {
    "tags": []
   },
   "outputs": [],
   "source": [
    "x = 10 \n",
    "y = x\n",
    "x = x+5  # we're creating a new object that contains the value 15\n",
    "print(\"x =\", x)\n",
    "print(\"y =\", y)"
   ]
  },
  {
   "cell_type": "markdown",
   "id": "78fe756a",
   "metadata": {},
   "source": [
    "When we call ``x = x+5``, we are not modifying the value of the ``10`` object pointed to by ``x``; we are rather changing the variable ``x`` so that it points to a new integer object with value ``15``.\n",
    "For this reason, the value of ``y`` is not affected by the operation."
   ]
  },
  {
   "cell_type": "markdown",
   "id": "39c960b6",
   "metadata": {},
   "source": [
    "## Arithmetic Operations (between objects of type numbers)\n",
    "Python implements seven basic binary arithmetic operators, two of which can double as unary operators.\n",
    "They are summarized in the following table:\n",
    "\n",
    "| Operator     | Name           | Description                                            |\n",
    "|--------------|----------------|--------------------------------------------------------|\n",
    "| ``a + b``    | Addition       | Sum of ``a`` and ``b``                                 |\n",
    "| ``a - b``    | Subtraction    | Difference of ``a`` and ``b``                          |\n",
    "| ``a * b``    | Multiplication | Product of ``a`` and ``b``                             |\n",
    "| ``a / b``    | True division  | Quotient of ``a`` and ``b``                            |\n",
    "| ``a // b``   | Floor division | Quotient of ``a`` and ``b``, removing fractional parts |\n",
    "| ``a % b``    | Modulus        | Integer remainder after division of ``a`` by ``b``     |\n",
    "| ``a ** b``   | Exponentiation | ``a`` raised to the power of ``b``                     |\n",
    "| ``-a``       | Negation       | The negative of ``a``                                  |\n",
    "| ``+a``       | Unary plus     | ``a`` unchanged (rarely used)                          |\n",
    "\n",
    "These operators can be used and combined in intuitive ways, using standard parentheses to group operations.\n",
    "For example:"
   ]
  },
  {
   "cell_type": "code",
   "execution_count": null,
   "id": "a42f1c10",
   "metadata": {},
   "outputs": [],
   "source": [
    "# addition, subtraction, multiplication\n",
    "(4 + 8) * (6.5 - 3)"
   ]
  },
  {
   "cell_type": "markdown",
   "id": "cd68584b",
   "metadata": {},
   "source": [
    "## Comparison Operations\n",
    "\n",
    "Another type of operation which can be very useful is comparison of different values.\n",
    "For this, Python implements standard comparison operators, which return Boolean values ``True`` and ``False``.\n",
    "The comparison operations are listed in the following table:\n",
    "\n",
    "| ``a == b``| ``a`` equal to ``b``      \n",
    "| ``a != b`` | ``a`` not equal to ``b``             \n",
    "| ``a < b``| ``a`` less than ``b``         \n",
    "| ``a > b``| ``a`` greater than ``b``             \n",
    "| ``a <= b``| ``a`` less than or equal to ``b``\n",
    "|``a >= b`` | ``a`` greater than or equal to ``b``\n",
    "\n",
    "\n",
    "\n",
    "These comparison operators can be combined with the arithmetic and bitwise operators to express a virtually limitless range of tests for the numbers.\n",
    "For example, we can check if a number is odd by checking that the modulus with 2 returns 1:"
   ]
  },
  {
   "cell_type": "code",
   "execution_count": null,
   "id": "02b6c559",
   "metadata": {},
   "outputs": [],
   "source": [
    "2 < 1"
   ]
  },
  {
   "cell_type": "code",
   "execution_count": null,
   "id": "c80e968d",
   "metadata": {},
   "outputs": [],
   "source": [
    "# 25 is odd\n",
    "25 % 2 == 1"
   ]
  },
  {
   "cell_type": "code",
   "execution_count": null,
   "id": "98bf8382",
   "metadata": {},
   "outputs": [],
   "source": []
  },
  {
   "cell_type": "code",
   "execution_count": null,
   "id": "2d2bbe94",
   "metadata": {},
   "outputs": [],
   "source": [
    "# check if a is between 15 and 30\n",
    "a = 25\n",
    "15 < a < 30"
   ]
  },
  {
   "cell_type": "code",
   "execution_count": null,
   "id": "2466d092",
   "metadata": {},
   "outputs": [],
   "source": []
  },
  {
   "cell_type": "markdown",
   "id": "f01c5af3",
   "metadata": {},
   "source": [
    "## Boolean Operations\n",
    "When working with Boolean values, Python provides operators to combine the values using the standard concepts of \"and\", \"or\", and \"not\".\n",
    "Predictably, these operators are expressed using the words ``and``, ``or``, and ``not``:"
   ]
  },
  {
   "cell_type": "code",
   "execution_count": null,
   "id": "fbcb50e1",
   "metadata": {},
   "outputs": [],
   "source": [
    "x = 4\n",
    "(x < 6) and (x > 2)"
   ]
  },
  {
   "cell_type": "code",
   "execution_count": null,
   "id": "95cd8b9f",
   "metadata": {},
   "outputs": [],
   "source": [
    "(x > 10) or (x % 2 == 0)"
   ]
  },
  {
   "cell_type": "code",
   "execution_count": null,
   "id": "0a1c2a24",
   "metadata": {},
   "outputs": [],
   "source": [
    "not (x < 6)"
   ]
  },
  {
   "cell_type": "markdown",
   "id": "e4a84a8a",
   "metadata": {},
   "source": [
    "Boolean algebra aficionados might notice that the XOR operator is not included; this can of course be constructed in several ways from a compound statement of the other operators.\n",
    "Otherwise, a clever trick you can use for XOR of Boolean values is the following:"
   ]
  },
  {
   "cell_type": "code",
   "execution_count": null,
   "id": "7c4f42d4",
   "metadata": {},
   "outputs": [],
   "source": [
    "# (x > 1) xor (x < 10)\n",
    "(x > 1) != (x < 10)"
   ]
  },
  {
   "cell_type": "markdown",
   "id": "6056b6c3",
   "metadata": {},
   "source": [
    "These sorts of Boolean operations will become extremely useful when we begin discussing *control flow statements* such as conditionals and loops.\n",
    "\n",
    "One sometimes confusing thing about the language is when to use Boolean operators (``and``, ``or``, ``not``), and when to use bitwise operations (``&``, ``|``, ``~``).\n",
    "The answer lies in their names: Boolean operators should be used when you want to compute *Boolean values (i.e., truth or falsehood) of entire statements*.\n",
    "Bitwise operations should be used when you want to *operate on individual bits or components of the objects in question*."
   ]
  },
  {
   "cell_type": "markdown",
   "id": "cd8502bd-eb1d-4356-918e-738d81c74660",
   "metadata": {},
   "source": [
    "## A Container object: the type LIST"
   ]
  },
  {
   "cell_type": "code",
   "execution_count": null,
   "id": "d0d1dff3-e580-40cf-8086-00bb0b680e37",
   "metadata": {
    "tags": []
   },
   "outputs": [],
   "source": [
    "\"\"\"List type.\"\"\"\n",
    "\n",
    "# Lists can contain any type of variable and they can contain as many variables as you wish.\n",
    "# Lists can also be iterated over in a very simple manner.\n",
    "# Here is an example of how to build a list.\n",
    "squares = [1, 4, 9, 16, 25]"
   ]
  },
  {
   "cell_type": "code",
   "execution_count": null,
   "id": "c07c991d-4d9b-427b-928f-8fac59bbac4d",
   "metadata": {
    "tags": []
   },
   "outputs": [],
   "source": [
    "print(squares)"
   ]
  },
  {
   "cell_type": "code",
   "execution_count": null,
   "id": "fc0eba81-b817-4ea7-8e23-5f6b502d1e5f",
   "metadata": {
    "tags": []
   },
   "outputs": [],
   "source": [
    "type(squares)"
   ]
  },
  {
   "cell_type": "code",
   "execution_count": null,
   "id": "a75efff4-9b9d-4c93-b425-639586f50e70",
   "metadata": {},
   "outputs": [],
   "source": []
  },
  {
   "cell_type": "code",
   "execution_count": null,
   "id": "1ee5a208-4e72-476d-83b4-317b730a9168",
   "metadata": {
    "tags": []
   },
   "outputs": [],
   "source": [
    "# Lists can be indexed and sliced:\n",
    "print(squares[0])  # indexing returns the item\n",
    "print(squares[0:3]) # slicing returns a new list\n",
    "print(squares[-1]) # start from the last element\n",
    "\n",
    "# All slice operations return a new list containing the requested elements.\n"
   ]
  },
  {
   "cell_type": "code",
   "execution_count": null,
   "id": "1abdd10b-7c3d-4d0f-831f-08b9440d1625",
   "metadata": {
    "tags": []
   },
   "outputs": [],
   "source": [
    "# Lists also support operations like concatenation:\n",
    "print(squares + [36, 49, 64, 81, 100])\n"
   ]
  },
  {
   "cell_type": "code",
   "execution_count": null,
   "id": "2adf846c-b5a1-4bd2-bc44-16acc1c64ca1",
   "metadata": {
    "tags": []
   },
   "outputs": [],
   "source": [
    "# Unlike strings, which are immutable, lists are a mutable type, i.e. it\n",
    "# is possible to change their content:\n",
    "cubes = [1, 8, 27, 65, 125]  # something's wrong here, the cube of 4 is 64!\n",
    "cubes[3] = 64  # replace the wrong value\n",
    "print( cubes )"
   ]
  },
  {
   "cell_type": "markdown",
   "id": "af82f6ee-7b6f-4f75-9696-275da182ec0f",
   "metadata": {},
   "source": [
    "## LIST methods"
   ]
  },
  {
   "cell_type": "code",
   "execution_count": null,
   "id": "b425e739-729b-4b02-9c94-5d9652c99bd0",
   "metadata": {
    "tags": []
   },
   "outputs": [],
   "source": [
    "fruits = ['orange', 'apple', 'pear', 'banana', 'kiwi', 'apple', 'banana']\n",
    "\n",
    "# list.append(x)\n",
    "# Add an item to the end of the list.\n",
    "# Equivalent to a[len(a):] = [x].\n",
    "fruits.append('grape')\n",
    "print( fruits)"
   ]
  },
  {
   "cell_type": "code",
   "execution_count": null,
   "id": "af529c9f-0967-4348-a683-1341e17cb811",
   "metadata": {
    "tags": []
   },
   "outputs": [],
   "source": [
    "# list.remove(x)\n",
    "# Remove the first item from the list whose value is equal to x.\n",
    "# It raises a ValueError if there is no such item.\n",
    "fruits.remove('grape')\n",
    "print( fruits )"
   ]
  },
  {
   "cell_type": "code",
   "execution_count": null,
   "id": "f316278c-e983-450d-a268-2767dd155103",
   "metadata": {
    "tags": []
   },
   "outputs": [],
   "source": [
    "# list.insert(i, x)\n",
    "# Insert an item at a given position. The first argument is the index of the element\n",
    "# before which to insert, so a.insert(0, x) inserts at the front of the list,\n",
    "# and a.insert(len(a), x) is equivalent to a.append(x).\n",
    "fruits.insert(0, 'grape')\n",
    "print( fruits )\n"
   ]
  },
  {
   "cell_type": "code",
   "execution_count": null,
   "id": "181b6e71-24e5-487e-8ac3-f6cd28627bd5",
   "metadata": {
    "tags": []
   },
   "outputs": [],
   "source": [
    "# list.sort(key=None, reverse=False)\n",
    "# Sort the items of the list in place (the arguments can be used for sort customization,\n",
    "# see sorted() for their explanation).\n",
    "fruits.sort()\n",
    "print( fruits )\n"
   ]
  },
  {
   "cell_type": "code",
   "execution_count": null,
   "id": "9ef8ec01-0320-4922-a12e-04a1123e9c94",
   "metadata": {
    "tags": []
   },
   "outputs": [],
   "source": [
    "# list.pop([i])\n",
    "# Remove the item at the given position in the list, and return it. If no index is specified,\n",
    "# a.pop() removes and returns the last item in the list. (The square brackets around the i in\n",
    "# the method signature denote that the parameter is optional, not that you should type square\n",
    "# brackets at that position.)\n",
    "print( fruits )\n",
    "print( fruits.pop() )\n",
    "print( fruits )\n"
   ]
  },
  {
   "cell_type": "code",
   "execution_count": null,
   "id": "a4f87a57-6322-433c-942a-48df70d0f7f4",
   "metadata": {
    "tags": []
   },
   "outputs": [],
   "source": [
    "# list.clear()\n",
    "# Remove all items from the list.\n",
    "fruits.clear()\n",
    "print( fruits)"
   ]
  },
  {
   "cell_type": "code",
   "execution_count": null,
   "id": "29351248-834b-4070-8677-d79a96ee2ca9",
   "metadata": {
    "tags": []
   },
   "outputs": [],
   "source": []
  },
  {
   "cell_type": "markdown",
   "id": "9d17e163-770e-48b4-ae49-d111683b0b19",
   "metadata": {},
   "source": [
    "## PYTHON FUNCTIONS\n",
    "In Python a function is a particular OBJECT that is able to receive in input one or more parameters, perform some actions and produce an output.\n",
    "There are 2 ways to create a function: with a definition, by the mean of the anonymous functions"
   ]
  },
  {
   "cell_type": "markdown",
   "id": "d30c8cec-68c2-4507-b0d2-2ae6fb62bb91",
   "metadata": {},
   "source": [
    "## Create a function by definition\n",
    "Let's try to create $f(x) = 2x + 4$\n"
   ]
  },
  {
   "cell_type": "code",
   "execution_count": null,
   "id": "a8a758a9",
   "metadata": {
    "tags": []
   },
   "outputs": [],
   "source": [
    "def f(x):    # we use the 'def' command followed by the name of the function; we also use () to specify input variables\n",
    "    y = 2 * x + 4  # we specify the form of the function\n",
    "                   # TAKE CARE: instructions are indented. It's python sintax to create a block of code\n",
    "    return y"
   ]
  },
  {
   "cell_type": "code",
   "execution_count": null,
   "id": "1e80e48b",
   "metadata": {
    "tags": []
   },
   "outputs": [],
   "source": [
    "f(7)"
   ]
  },
  {
   "cell_type": "code",
   "execution_count": null,
   "id": "9dad475b",
   "metadata": {
    "tags": []
   },
   "outputs": [],
   "source": [
    "# Let's define functions with more variables\n",
    "def g(x,y):\n",
    "    z = 2 * x-3 *y\n",
    "    return z"
   ]
  },
  {
   "cell_type": "code",
   "execution_count": null,
   "id": "62c0f9cc",
   "metadata": {
    "tags": []
   },
   "outputs": [],
   "source": [
    "g(4,9)"
   ]
  },
  {
   "cell_type": "markdown",
   "id": "6b7c13e4-2631-4803-b24d-3a7553c966ca",
   "metadata": {},
   "source": [
    "The nice thing in Python is that it manages automatically the type of variable "
   ]
  },
  {
   "cell_type": "code",
   "execution_count": null,
   "id": "a9240312-1f7a-4d48-87e6-817c345be227",
   "metadata": {
    "tags": []
   },
   "outputs": [],
   "source": [
    "def sumvariable(x,y):\n",
    "    z = x+y\n",
    "   # print(\"The result of the operation is: \",z)\n",
    "    return z       # return is mandatory when you have to give back to the caller some results\n",
    "\n",
    "result = sumvariable(5,3)\n",
    "print(\"Result is: \", result)"
   ]
  },
  {
   "cell_type": "code",
   "execution_count": null,
   "id": "c42a6fe5-992e-40ae-a5b6-d718268951e7",
   "metadata": {
    "tags": []
   },
   "outputs": [],
   "source": [
    "sumvariable(2,3)"
   ]
  },
  {
   "cell_type": "code",
   "execution_count": null,
   "id": "99d72a58-a13d-487c-987f-ff012396276c",
   "metadata": {
    "tags": []
   },
   "outputs": [],
   "source": [
    "sumvariable(\"ciao\",\"hello\")"
   ]
  },
  {
   "cell_type": "markdown",
   "id": "d73edbcf-7ba0-4044-95a0-fb58a37046c9",
   "metadata": {},
   "source": [
    "Take care: objects created inside a function \"Leaves\" only there. You cannot access the value of internal variables from the outside (SCOPING)"
   ]
  },
  {
   "cell_type": "markdown",
   "id": "b11caa01-a778-4cb9-beaa-14fb1aff0bfe",
   "metadata": {},
   "source": [
    "# EXERCISE\n",
    "- Define a function that receive a list of integer as input and return the same list, sorted from the lower to the higher"
   ]
  },
  {
   "cell_type": "code",
   "execution_count": null,
   "id": "b6ab3896-bb75-45be-909a-0eb93b7a5082",
   "metadata": {},
   "outputs": [],
   "source": []
  },
  {
   "cell_type": "markdown",
   "id": "226d135a-b291-44c0-a038-c758f1f04dea",
   "metadata": {
    "tags": []
   },
   "source": [
    "## ANONYMOUS FUNCTIONS\n",
    "We can create a function in a quicker way be means of the Anonymous Functions.  \n",
    "As everything in Python, Anonymous functions are also OBJECTS which can be referenced by a variable.  \n",
    "The instruction to create it is:  "
   ]
  },
  {
   "cell_type": "code",
   "execution_count": null,
   "id": "b6ca11b4-11c7-496a-b97c-edb1c7eb29ee",
   "metadata": {
    "tags": []
   },
   "outputs": [],
   "source": [
    "# we associate to the input x the form 2x+3\n",
    "lambda x: 2*x+3"
   ]
  },
  {
   "cell_type": "code",
   "execution_count": null,
   "id": "d25244bf-89b1-403b-8070-062a51b52aae",
   "metadata": {
    "tags": []
   },
   "outputs": [],
   "source": [
    "print(\"The type of 'lambda x: 2*x+3' is\",type(lambda x: 2*x+3))"
   ]
  },
  {
   "cell_type": "markdown",
   "id": "e521194f-1fe0-43e2-a086-77e0159f3ff2",
   "metadata": {
    "tags": []
   },
   "source": [
    "Note that we created just an object of type function. We do not have a pointer to that object\n",
    "\n",
    "Python is a first-class functions programming language as it treats functions as first-class citizens (objects)."
   ]
  },
  {
   "cell_type": "markdown",
   "id": "68e89e15-e945-499f-841c-fbdbc19f5848",
   "metadata": {},
   "source": [
    "We can create the pointer assigning the function to a variable. Better we can reference an object function with a variable.\n"
   ]
  },
  {
   "cell_type": "code",
   "execution_count": null,
   "id": "491f45d3-0cde-4cbe-832a-97d15c2f19b0",
   "metadata": {
    "tags": []
   },
   "outputs": [],
   "source": [
    "f1 = lambda x: 2*x+3\n",
    "# now we can call the funtion with the variable using ()\n",
    "f1(2)"
   ]
  },
  {
   "cell_type": "markdown",
   "id": "0cd72d49-c1ba-470b-bb16-30ded7438c94",
   "metadata": {},
   "source": [
    "First-class functions are a necessity for the functional programming style, in which the use of higher-order functions is a standard practice\n",
    "\n",
    "Treating functions as objects gives the chance to define a function that has as input parameter, a function (high order functions)"
   ]
  },
  {
   "cell_type": "code",
   "execution_count": null,
   "id": "527e7f65-81b2-44a5-926b-3fbd52c4db8c",
   "metadata": {
    "tags": []
   },
   "outputs": [],
   "source": [
    "# Let's create a custom high order function: map2\n",
    "# note as in python we don't need to specify that there is a function in the input parameter\n",
    "\n",
    "def map2(function1,input1):  # this function has the first input parameter that is a function\n",
    "    temp = function1(input1)  # we use the function notation here, using ()\n",
    "    return temp"
   ]
  },
  {
   "cell_type": "code",
   "execution_count": null,
   "id": "30cc33cb-cc46-4346-ae71-7a245847de98",
   "metadata": {
    "tags": []
   },
   "outputs": [],
   "source": [
    "map2(lambda x: 4*x,2)  # we call the high order function map2 with a function as parameter"
   ]
  },
  {
   "cell_type": "markdown",
   "id": "6da4e844-b435-40a3-976a-40782293a179",
   "metadata": {},
   "source": [
    "A practical example: the use of the built in high order function **map**"
   ]
  },
  {
   "cell_type": "code",
   "execution_count": null,
   "id": "bd424073-e97d-46bd-896b-30ca3c751f16",
   "metadata": {
    "tags": []
   },
   "outputs": [],
   "source": [
    "\n",
    "a=[1,2,3,4,5]\n",
    "# we use the built in function map that takes as first argument a FUNCTION \n",
    "# take care of the anonymous function we use in it\n",
    "\n",
    "b=map(lambda x: x*4,a)\n",
    "list(b)   # function list is necessary to print b"
   ]
  },
  {
   "cell_type": "markdown",
   "id": "61d3710b-805f-4529-8fd7-d2943d6ae54d",
   "metadata": {
    "tags": []
   },
   "source": [
    "import requests\n",
    "from IPython.display import Image# EXERCISE\n",
    "\n",
    "Try to execute all the cells of the notebook"
   ]
  },
  {
   "cell_type": "code",
   "execution_count": null,
   "id": "21069138-d8ab-41e4-be15-d4af9cf96809",
   "metadata": {},
   "outputs": [],
   "source": []
  },
  {
   "cell_type": "markdown",
   "id": "9f2fa8ff-3a09-4ef0-914b-a3db292bfd2e",
   "metadata": {},
   "source": [
    "# EXERCISES\n",
    "- Use map function to square each element of a list of integer numbers\n",
    "- Use map function to convert from Celsius degree to Fahrenheit each element of a list of Celsius Temperatures\n",
    "    (1 fahrenheit = celsius * 9/5 +32\n",
    "- Use filter function (similar as map) to filter even element of a list of numbers\n",
    "\n"
   ]
  },
  {
   "cell_type": "code",
   "execution_count": null,
   "id": "2bf639ad-166d-4613-a70a-81bc3b8cb064",
   "metadata": {},
   "outputs": [],
   "source": []
  },
  {
   "cell_type": "code",
   "execution_count": null,
   "id": "a5c4e75e-f1ef-4551-990d-aacb7371c33e",
   "metadata": {},
   "outputs": [],
   "source": []
  },
  {
   "cell_type": "markdown",
   "id": "157c50d9-665a-48e7-a174-9c2ce2343a6e",
   "metadata": {},
   "source": [
    "## Solutions"
   ]
  },
  {
   "cell_type": "code",
   "execution_count": null,
   "id": "9667c95c-bab0-4694-b104-1465648ff7b3",
   "metadata": {
    "tags": []
   },
   "outputs": [],
   "source": [
    "print(list(map(lambda x: x*2, [1,2,3,4])))"
   ]
  },
  {
   "cell_type": "code",
   "execution_count": null,
   "id": "8ba48c46-6c74-4f72-b157-a8fd4fbb6c5f",
   "metadata": {
    "tags": []
   },
   "outputs": [],
   "source": [
    "def celsius_to_fahrenheit(celsius):\n",
    "    return celsius * 9 / 5 + 32\n",
    "\n",
    "celsius_temperatures = [10, 20, 30, 40, 50]\n",
    "\n",
    "fahrenheit_temperatures = list(map(celsius_to_fahrenheit, celsius_temperatures))\n",
    "\n",
    "print(fahrenheit_temperatures)"
   ]
  },
  {
   "cell_type": "code",
   "execution_count": null,
   "id": "099a34c7-4ff8-49d0-ac48-34f9a43cbc65",
   "metadata": {
    "tags": []
   },
   "outputs": [],
   "source": [
    "def is_even(x):\n",
    "    return x % 2 == 0\n",
    "\n",
    "numbers = [1, 2, 3, 4, 5, 6, 7, 8, 9, 10]\n",
    "\n",
    "even_numbers = list(filter(is_even, numbers))\n",
    "\n",
    "print(even_numbers)"
   ]
  },
  {
   "cell_type": "code",
   "execution_count": null,
   "id": "499ba774-ba55-42b6-835e-f103bf08779f",
   "metadata": {},
   "outputs": [],
   "source": []
  }
 ],
 "metadata": {
  "kernelspec": {
   "display_name": "Python 3 (ipykernel)",
   "language": "python",
   "name": "python3"
  },
  "language_info": {
   "codemirror_mode": {
    "name": "ipython",
    "version": 3
   },
   "file_extension": ".py",
   "mimetype": "text/x-python",
   "name": "python",
   "nbconvert_exporter": "python",
   "pygments_lexer": "ipython3",
   "version": "3.11.5"
  }
 },
 "nbformat": 4,
 "nbformat_minor": 5
}
