{
 "cells": [
  {
   "cell_type": "markdown",
   "id": "e620ccbe-0792-45b6-840c-7cd7a02a4f73",
   "metadata": {},
   "source": [
    "## INSTRUCTIONS\n",
    "1) Try to write the code by yourself. First, think about the algorithmic strategy to solve the problem (use a loop, two loops, a list ...). Then look for the python commands to implement strategy, based on instructions in the notebooks of the lessons. If you don't know the specific python function, google or ask to CHATGPT or BARD (e.g. if you have to create a list prompt \"how can I create a list in python \" or \"how I can sum the element of a list in Python\".. Read the help of the function proposed in order to understand input parameters and functionality.\n",
    "\n",
    "2) If you still cannot find a solution, put the entire code requested by the exercise in ChatGPT or Google Bard. Cut and paste the code in a new notebook cell and customize the code if necessary and run it. \n",
    "IMPORTANT: go through each single instructions of the new code and try to execute mentally the code in order to understand the flow of the program and the meaning of the commands. There 2 goals here. First: fix commands meaning and syntax. Second: understand solution strategy\n",
    "3) COMPARE the new code with previous code in order to understand the errors you made\n",
    "\n",
    "You can also go to stackoverflow to ask question about python code."
   ]
  },
  {
   "cell_type": "markdown",
   "id": "60d14222-f749-4810-b0c8-714eba184b51",
   "metadata": {
    "tags": []
   },
   "source": [
    "# Lists"
   ]
  },
  {
   "cell_type": "markdown",
   "id": "862fdd23-a051-4dbc-9c03-5783e4b25ba7",
   "metadata": {},
   "source": [
    "Exercise 1: Create a list of numbers from 1 to 10 (use range instruction)\n",
    "\n"
   ]
  },
  {
   "cell_type": "code",
   "execution_count": null,
   "id": "557fc60d-57ab-42b6-b21e-2dc3e368ebab",
   "metadata": {},
   "outputs": [],
   "source": []
  },
  {
   "cell_type": "markdown",
   "id": "3ab885f3-1309-4872-bb95-20d342173d23",
   "metadata": {},
   "source": [
    "Exercise 2: Check if a specific item exists in a list\n",
    "\n",
    "fruits = [\"apple\", \"banana\", \"orange\", \"grape\", \"strawberry\"]\n",
    "\n"
   ]
  },
  {
   "cell_type": "code",
   "execution_count": null,
   "id": "79cb6b45-f961-4727-a745-3d48d45bfc73",
   "metadata": {},
   "outputs": [],
   "source": []
  },
  {
   "cell_type": "markdown",
   "id": "2d29ddc8-e676-4080-8b1e-6eaede4b3f32",
   "metadata": {},
   "source": [
    "Exercise 3: Remove all occurrences of a specific item from a list\n",
    "\n",
    "fruits = [\"apple\", \"banana\", \"orange\", \"grape\", \"banana\", \"strawberry\"]\n",
    "\n"
   ]
  },
  {
   "cell_type": "code",
   "execution_count": null,
   "id": "023a2042-ddf4-4982-91ae-43e63cd72aad",
   "metadata": {},
   "outputs": [],
   "source": []
  },
  {
   "cell_type": "markdown",
   "id": "79733007-f578-41c2-b7d9-fd7cba3ea3d4",
   "metadata": {},
   "source": [
    "Exercise 4: Check if all items in a list are even or odd\n",
    "\n"
   ]
  },
  {
   "cell_type": "code",
   "execution_count": null,
   "id": "2caaa034-b693-4bf7-9a46-86143fe81acd",
   "metadata": {},
   "outputs": [],
   "source": []
  },
  {
   "cell_type": "markdown",
   "id": "a8b94a6e-bfd6-4cbb-be7f-37a908a373b7",
   "metadata": {},
   "source": [
    "Exercise 5: List Manipulation and Filtering:  \n",
    "Write a Python program that:\n",
    "- Creates a list of integers.\n",
    "- Uses a for loop to iterate over the list and appends the square of each number to a new list.\n",
    "- Prints both the original and the squared lists."
   ]
  },
  {
   "cell_type": "code",
   "execution_count": null,
   "id": "35379368-fde6-4caa-818e-94b9c0dec11d",
   "metadata": {},
   "outputs": [],
   "source": []
  },
  {
   "cell_type": "markdown",
   "id": "d671209d-b204-4fa7-9617-530d988676f8",
   "metadata": {},
   "source": [
    "Exercise 6: List Comprehension and Filtering:  \n",
    "Create a program that generates a list of even numbers from 1 to 20 using list comprehension.   \n",
    "Print the resulting list."
   ]
  },
  {
   "cell_type": "code",
   "execution_count": null,
   "id": "359a1153-63f8-4f96-bccc-328fbafc9bd7",
   "metadata": {},
   "outputs": [],
   "source": []
  },
  {
   "cell_type": "markdown",
   "id": "c97433b0-3d1b-4528-ac38-fb12ad903c4c",
   "metadata": {},
   "source": [
    "Exercise 7: List Sorting and Reversing:  \n",
    "Write a Python script that:  \n",
    "- Creates a list of strings.\n",
    "- Sorts the list in alphabetical order.\n",
    "- Prints the sorted list.\n",
    "- Checks if a specific word is in the list and prints the result.\n",
    "\n"
   ]
  },
  {
   "cell_type": "code",
   "execution_count": null,
   "id": "1efa49ef-9d48-41cf-ba65-15b9601ee1be",
   "metadata": {},
   "outputs": [],
   "source": []
  },
  {
   "cell_type": "markdown",
   "id": "da521174-f28f-472a-94c4-409c8e095200",
   "metadata": {},
   "source": [
    "Exercise 8: List Concatenation and Slicing:  \n",
    "Create a program that: \n",
    "- Initializes two lists of strings.\n",
    "- Concatenates the two lists into a new list.\n",
    "- Prints the first three elements of the concatenated list."
   ]
  },
  {
   "cell_type": "code",
   "execution_count": null,
   "id": "dd6e695d-1fed-4a5d-bf42-2af2f35b5aba",
   "metadata": {},
   "outputs": [],
   "source": []
  },
  {
   "cell_type": "markdown",
   "id": "49df6ae0-4c0d-4250-9c59-5c45206b58ac",
   "metadata": {},
   "source": [
    "# Dictionaries"
   ]
  },
  {
   "cell_type": "code",
   "execution_count": null,
   "id": "78e7c787-a807-4f3c-86aa-fdad093aed16",
   "metadata": {},
   "outputs": [],
   "source": []
  },
  {
   "cell_type": "markdown",
   "id": "1f9ccc2c-f587-47b0-b4d7-4d667f68148c",
   "metadata": {},
   "source": [
    "Exercise 9: Dictionary Manipulation and Filtering:  \n",
    "Write a Python program that:\n",
    "- Creates a dictionary with names as keys and ages as values.\n",
    "- Uses a for loop to iterate over the dictionary and prints only the people who are 18 years old or older.\n"
   ]
  },
  {
   "cell_type": "code",
   "execution_count": null,
   "id": "35044f93-c401-40ad-8507-71bc571ab91e",
   "metadata": {},
   "outputs": [],
   "source": []
  },
  {
   "cell_type": "markdown",
   "id": "d2a1f560-1dae-49a5-84a6-99557b60bd57",
   "metadata": {},
   "source": [
    "Exercise 10: Phone Book:  \n",
    "Create a simple phone book program that allows users to:\n",
    "\n",
    "- Add new contacts with names and phone numbers.\n",
    "- Search for a contact by name and display their phone number.\n",
    "- Print the entire phone book."
   ]
  },
  {
   "cell_type": "code",
   "execution_count": null,
   "id": "3b976e37-9636-4a60-af49-a31150abb887",
   "metadata": {},
   "outputs": [],
   "source": []
  },
  {
   "cell_type": "markdown",
   "id": "ffd3eac1-1346-449d-9b9a-8f687522daa4",
   "metadata": {},
   "source": [
    "Exercise 11: Word Frequency Counter:  \n",
    "- Write a program that takes a sentence as input and counts the frequency of each word. \n",
    "- Output a dictionary where keys are words, and values are their respective frequencies."
   ]
  },
  {
   "cell_type": "code",
   "execution_count": null,
   "id": "d5f4ca89-8608-457a-a445-b084b17eab54",
   "metadata": {},
   "outputs": [],
   "source": []
  },
  {
   "cell_type": "markdown",
   "id": "3961fa96-cd3a-4576-94df-ef8503d80d67",
   "metadata": {},
   "source": [
    "# Classes"
   ]
  },
  {
   "cell_type": "markdown",
   "id": "b13c09c1-7709-4540-93fe-95df5c743ff4",
   "metadata": {},
   "source": [
    "Exercise 12: Person Class:  \n",
    "- Create a Person class with attributes such as name, age, and gender.\n",
    "- Implement a method to display information about the person. \n",
    "- Create objects for a few people and display their information."
   ]
  },
  {
   "cell_type": "code",
   "execution_count": null,
   "id": "e195d77b-b009-4b26-a66f-40ad00a43485",
   "metadata": {},
   "outputs": [],
   "source": []
  },
  {
   "cell_type": "markdown",
   "id": "673fb61c-13d6-44fb-b08b-75c4178c1ab7",
   "metadata": {},
   "source": [
    "Exercise 13: Bank Account Class:   \n",
    "- Create a BankAccount class with attributes such as account_number, account_holder, and balance. \n",
    "- Implement methods for deposit, withdrawal, and displaying the account details. \n",
    "- Create an object for an account and perform some transactions."
   ]
  },
  {
   "cell_type": "code",
   "execution_count": null,
   "id": "fb0e52cf-2e97-4a8a-9375-26e6bc1d92da",
   "metadata": {},
   "outputs": [],
   "source": []
  },
  {
   "cell_type": "markdown",
   "id": "57bb53ed-2ae1-430b-b832-30456da06ece",
   "metadata": {},
   "source": [
    "Exercise 14:Student Class:  \n",
    "- Create a Student class with attributes such as name, roll_number, and a list of grades. \n",
    "- Implement methods to calculate the average grade and display the student's information. \n",
    "- Create objects for different students and print their details."
   ]
  }
 ],
 "metadata": {
  "kernelspec": {
   "display_name": "Python 3 (ipykernel)",
   "language": "python",
   "name": "python3"
  },
  "language_info": {
   "codemirror_mode": {
    "name": "ipython",
    "version": 3
   },
   "file_extension": ".py",
   "mimetype": "text/x-python",
   "name": "python",
   "nbconvert_exporter": "python",
   "pygments_lexer": "ipython3",
   "version": "3.11.5"
  }
 },
 "nbformat": 4,
 "nbformat_minor": 5
}
