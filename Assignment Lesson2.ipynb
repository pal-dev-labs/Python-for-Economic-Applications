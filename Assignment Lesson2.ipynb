{
 "cells": [
  {
   "cell_type": "markdown",
   "id": "6d8901a8-8bc0-4ff7-b725-d2a415dffd37",
   "metadata": {},
   "source": [
    "## INSTRUCTIONS\n",
    "- Try to write the code by yourself based on basic instruction the notebook Lesson 2. Run the cell and try to fix the error comparing with code in notebook Lesson 2. This phase is IMPORTANT to fix in memory commands and language syntax\n",
    "- After 20 minutes, if you still have problems, go to ChatGPT or Google Bard and write \"create a python code that perform ..exercise..\". Cut and paste the code in a new notebook cell \n",
    "- Customize the code if necessary and run it. \n",
    "- IMPORTANT: go through each single instructions of the new code and try to execute mentally the code in order to understand the flow of the program and the meaning of the commands. There 2 goals here. First: fix commands meaning and syntax. Second: understand solution strategy\n",
    "- COMPARE the new code with previous code in order to understand the errors you made\n",
    "\n",
    "You can also go to stackoverflow to ask question about python code."
   ]
  },
  {
   "cell_type": "markdown",
   "id": "d9b6423e-d791-4585-bd9f-9bc4b1b8876a",
   "metadata": {},
   "source": [
    "Exercise 1: Write a program that asks the user for their name and then greets them by name.\n",
    "\n"
   ]
  },
  {
   "cell_type": "markdown",
   "id": "b0f826f4-80e9-4c6a-b364-4e053b4f8e1b",
   "metadata": {},
   "source": [
    "Exercise 2: Write a program that calculates the area of a triangle. The user should be asked to enter the base and height of the triangle."
   ]
  },
  {
   "cell_type": "markdown",
   "id": "a3929ee5-9e30-4f9c-8081-1681f9e41f05",
   "metadata": {},
   "source": [
    "Exercise 3: Write a program that converts a temperature from Celsius to Fahrenheit. The user should be asked to enter a temperature in Celsius."
   ]
  },
  {
   "cell_type": "markdown",
   "id": "55accf9d-6ef6-487c-a1bf-1eb4f5aa23bf",
   "metadata": {},
   "source": [
    "Exercise 4: Write a function that takes two numbers as input and returns their sum.\n",
    "\n"
   ]
  },
  {
   "cell_type": "markdown",
   "id": "09a546b6-cb00-49b4-8e19-24b68418d6ea",
   "metadata": {},
   "source": [
    "Exercise 5: Write a function that takes a list of numbers as input and returns the average of the numbers.\n",
    "\n"
   ]
  },
  {
   "cell_type": "markdown",
   "id": "a2abc505-ce1c-49c1-acab-17a32f654bb1",
   "metadata": {},
   "source": [
    "Exercise 6: Write a function that takes a string as input and returns the number of words in the string.\n",
    "\n"
   ]
  },
  {
   "cell_type": "markdown",
   "id": "eae2e456-8d48-4af8-b95a-7993f9d8abd6",
   "metadata": {},
   "source": [
    "Exercise 7: Write an anonymous function that doubles a number.\n",
    "\n"
   ]
  },
  {
   "cell_type": "markdown",
   "id": "5b7cb28f-6935-4856-89d6-986247732b10",
   "metadata": {},
   "source": [
    "Exercise 8: Write an anonymous function that checks if a number is even (use operator %)\n",
    "\n"
   ]
  },
  {
   "cell_type": "markdown",
   "id": "dd5e56f7-4bf4-453b-b47d-61ee8e6b45c9",
   "metadata": {},
   "source": [
    "Exercise 9: Write an anonymous function that takes a list of numbers and returns the largest number in the list. (use function max(list)\n",
    "\n"
   ]
  },
  {
   "cell_type": "markdown",
   "id": "236c09e8-ee15-4bce-87eb-c8835d8e14ef",
   "metadata": {
    "tags": []
   },
   "source": [
    "Exercise 10: Write a program that squares the elements of a list using the map() function.\n",
    "\n"
   ]
  },
  {
   "cell_type": "markdown",
   "id": "e94690d0-7785-4255-9df4-216398e0b0b1",
   "metadata": {
    "tags": []
   },
   "source": [
    "Exercise 11: Write a program that adds a prefix \"Hello,\" to each element in a list of names using the map() function."
   ]
  },
  {
   "cell_type": "markdown",
   "id": "07d7d476-40aa-4176-be08-07b4dc72baee",
   "metadata": {
    "tags": []
   },
   "source": [
    "Exercise 12: Write a program that converts a list of temperatures from Celsius to Fahrenheit using the map() function."
   ]
  },
  {
   "cell_type": "markdown",
   "id": "1f51932d-15f2-4d90-8536-9c32c078ca50",
   "metadata": {
    "tags": []
   },
   "source": [
    "Exercise 13: Write a program that determines the grade for a student based on their score (0-100 score range, A to F Grade)\n",
    "\n",
    "Output:  \n",
    "Enter the student's score: 85  \n",
    "Grade: B"
   ]
  },
  {
   "cell_type": "markdown",
   "id": "3d7777a4-3c06-4c06-a555-1499d92a54b9",
   "metadata": {},
   "source": [
    "Exercise 14: Write a program that checks if a number is positive, negative, or zero.  \n",
    "Output:  \n",
    "Enter a number: -10  \n",
    "The number is negative."
   ]
  },
  {
   "cell_type": "markdown",
   "id": "245d95ab-46d8-416d-a33d-653ce257135e",
   "metadata": {},
   "source": [
    "Exercise 15: Write a program that determines the largest, middle, and smallest numbers among three given numbers.  \n",
    "Output:  \n",
    "Enter the first number: 5  \n",
    "Enter the second number: 10  \n",
    "Enter the third number: 2  \n",
    "Largest: 10  \n",
    "Middle: 5  \n",
    "Smallest: 2  "
   ]
  },
  {
   "cell_type": "markdown",
   "id": "aed007e7-f8f7-49a6-99e3-1f97ecd55f15",
   "metadata": {},
   "source": [
    "Exercise 16: Write a program that determines if a year is a leap year.  \n",
    "Output:  \n",
    "Enter a year: 2016  \n",
    "The year 2016 is a leap year.\n"
   ]
  },
  {
   "cell_type": "markdown",
   "id": "00a5fda7-ae46-44e0-8d74-0874e3d6c886",
   "metadata": {},
   "source": [
    "Exercise 17: Write a program that prints the numbers from 1 to 10 using a for loop.\n",
    "\n"
   ]
  },
  {
   "cell_type": "markdown",
   "id": "2bb32fcb-61ad-4abd-a1c1-50e6defc839c",
   "metadata": {},
   "source": [
    "Exercise 18: Write a program that calculates the sum of the squares of the numbers from 1 to 10 using a for loop.\n",
    "\n"
   ]
  },
  {
   "cell_type": "markdown",
   "id": "026231d1-49f0-479c-96a6-59d5e7db0f28",
   "metadata": {},
   "source": [
    "Exercise 19: Write a program that prints a multiplication table for a given number.\n",
    "\n"
   ]
  },
  {
   "cell_type": "markdown",
   "id": "fb23632a-d4ac-41c4-b7e8-827bab793d31",
   "metadata": {
    "tags": []
   },
   "source": [
    "Exercise 20: Write a program that prints the Fibonacci sequence up to a given number of terms.\n",
    "\n"
   ]
  },
  {
   "cell_type": "markdown",
   "id": "c983ebc5-2af3-41eb-a80d-b19d66c523a5",
   "metadata": {
    "tags": []
   },
   "source": [
    "# Little more complicated"
   ]
  },
  {
   "cell_type": "markdown",
   "id": "8e937220-b56c-415f-849d-af2f6e6784f6",
   "metadata": {},
   "source": [
    "Exercise 21: Write a program that checks if a number is a prime number.\n",
    "\n"
   ]
  },
  {
   "cell_type": "markdown",
   "id": "81b69cc6-3eec-40ff-a711-82285ac46ac2",
   "metadata": {},
   "source": [
    "Exercise 22: Write a program that calculates the average of positive numbers in a list.\n",
    "\n"
   ]
  },
  {
   "cell_type": "markdown",
   "id": "252497b8-6cb5-4a59-84c3-b202ba79b589",
   "metadata": {},
   "source": [
    "Exercise 23: Write a program that generates a list of all prime numbers between two given numbers.\n",
    "\n"
   ]
  },
  {
   "cell_type": "markdown",
   "id": "f7161e30-2746-43a8-9a02-2dc8bb2aa3b8",
   "metadata": {},
   "source": [
    "Exercise 24: Write a program that determines the maximum and minimum values in a list of numbers.\n",
    "\n"
   ]
  },
  {
   "cell_type": "markdown",
   "id": "c2cfb2f8-812d-4f99-8706-cfa24c32330b",
   "metadata": {},
   "source": [
    "Exercise 25: Write a program that calculates the sum of the even numbers and the sum of the odd numbers in a list of numbers."
   ]
  },
  {
   "cell_type": "markdown",
   "id": "a3842d9f-4c40-4bca-9d40-dd981b600070",
   "metadata": {},
   "source": [
    "Exercise 26: Write a program that checks if a given string is a palindrome.\n",
    "\n"
   ]
  },
  {
   "cell_type": "markdown",
   "id": "f60d81db-8b6e-4cba-95c3-e9c4d2979933",
   "metadata": {},
   "source": [
    "Exercise 27: Write a program that converts a given number from decimal to binary.\n",
    "\n"
   ]
  }
 ],
 "metadata": {
  "kernelspec": {
   "display_name": "Python 3 (ipykernel)",
   "language": "python",
   "name": "python3"
  },
  "language_info": {
   "codemirror_mode": {
    "name": "ipython",
    "version": 3
   },
   "file_extension": ".py",
   "mimetype": "text/x-python",
   "name": "python",
   "nbconvert_exporter": "python",
   "pygments_lexer": "ipython3",
   "version": "3.11.5"
  }
 },
 "nbformat": 4,
 "nbformat_minor": 5
}
