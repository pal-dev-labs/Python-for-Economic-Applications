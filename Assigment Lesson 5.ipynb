{
 "cells": [
  {
   "cell_type": "markdown",
   "id": "1d63a8de-91f0-4604-a15c-5ea7724f3f1f",
   "metadata": {},
   "source": [
    "## INSTRUCTIONS\n",
    "1) Try to write the code by yourself. First, think about the algorithmic strategy to solve the problem. Then look for the python commands to implement strategy, based on instructions in the notebooks of the lessons. If you don't know the specific python function, google or ask to CHATGPT or BARD\n",
    "\n",
    "2) If you still cannot find a solution, put the entire code requested by the exercise in ChatGPT or Google Bard. Cut and paste the code in a new notebook cell and customize the code if necessary and run it. \n",
    "IMPORTANT: go through each single instructions of the new code and try to execute mentally the code in order to understand the flow of the program and the meaning of the commands. There 2 goals here. First: fix commands meaning and syntax. Second: understand solution strategy\n",
    "\n",
    "3) COMPARE the new code with previous code in order to understand the errors you made\n",
    "\n",
    "You can also go to stackoverflow to ask question about python code."
   ]
  },
  {
   "cell_type": "markdown",
   "id": "e9db7578-730c-473e-a511-28a9ae10c6fd",
   "metadata": {},
   "source": [
    "# NUMPY"
   ]
  },
  {
   "cell_type": "markdown",
   "id": "3ea105fa-0c7c-4406-81c0-501523545323",
   "metadata": {},
   "source": [
    "1) Create a null vector of size 10 but the fifth value which is 1 "
   ]
  },
  {
   "cell_type": "markdown",
   "id": "4b151d77-308b-466e-bd18-c08a7c36fc92",
   "metadata": {
    "tags": []
   },
   "source": [
    "2) Create a vector of 100 elements. Reverse the vector (first element becomes last)"
   ]
  },
  {
   "cell_type": "markdown",
   "id": "53003881-4af6-43b0-86ce-feae26d4e43b",
   "metadata": {},
   "source": [
    "3. Create a 3x3 matrix with values ranging from 0 to 8"
   ]
  },
  {
   "cell_type": "markdown",
   "id": "3d11aa6c-030f-4166-a7e6-fcc16b834b45",
   "metadata": {},
   "source": [
    "4. Create a 3x3x3 array with random values"
   ]
  },
  {
   "cell_type": "markdown",
   "id": "f7a5ddf2-9df9-408c-a25c-6ea1957cf727",
   "metadata": {},
   "source": [
    "5. Create a 3x3 identity matrix"
   ]
  },
  {
   "cell_type": "markdown",
   "id": "014d6b65-ea89-4591-8ee2-667394103fde",
   "metadata": {},
   "source": [
    "6. Create a 10x10 array with random values and find the minimum and maximum values"
   ]
  },
  {
   "cell_type": "markdown",
   "id": "43f8e564-20ed-4495-8ed3-c9582a26ecd0",
   "metadata": {},
   "source": [
    "7. Create a 2d array with 1 on the border and 0 inside"
   ]
  },
  {
   "cell_type": "markdown",
   "id": "ad59c9c5-4c69-44de-bc04-14fafe62b79c",
   "metadata": {},
   "source": [
    "8. Create a 5x5 matrix with values 1,2,3,4 just below the diagonal "
   ]
  },
  {
   "cell_type": "markdown",
   "id": "02e61507-02e0-43c5-98d6-8183b18c9d4b",
   "metadata": {},
   "source": [
    "9. Multiply a 5x3 matrix by a 3x2 matrix (real matrix product)"
   ]
  },
  {
   "cell_type": "markdown",
   "id": "71ba34a2-92fe-4f15-959b-5d1f1b230983",
   "metadata": {},
   "source": [
    "10. Create a 1D array of consecutive numbers from 0 to 9.\n",
    "Try to access a range of elements using slicing notation.  for example [1:2]"
   ]
  },
  {
   "cell_type": "markdown",
   "id": "ebf4f016-ad10-4c00-9556-32aa6b125a50",
   "metadata": {},
   "source": [
    "11. Create a 2D array of 5 rows and 3 columns of random integers between 1 and 10.\n",
    "Access a range of elements using slicing notation. For example, [2:3, 1:3] w"
   ]
  },
  {
   "cell_type": "markdown",
   "id": "27e1ee6c-132a-47a1-a444-464c17873443",
   "metadata": {},
   "source": [
    "12) Create a vector with np.linspace and calculate a function on that range. Try to plot the function with plt.plot"
   ]
  },
  {
   "cell_type": "markdown",
   "id": "75dbb0ff-1451-4cb8-b085-6be29fc89567",
   "metadata": {
    "tags": []
   },
   "source": [
    "13. Predict the results of the following code.  \n",
    "x = np.array([[1, 4], [5, 6]])  \n",
    "y = np.array([[4, 1], [2, 2]])  \n",
    "#print np.vdot(x, y)  \n",
    "#print np.vdot(y, x)  \n",
    "#print np.dot(x.flatten(), y.flatten())  \n",
    "#print np.inner(x.flatten(), y.flatten())  \n",
    "#print (x*y).sum()  "
   ]
  },
  {
   "cell_type": "code",
   "execution_count": null,
   "id": "801c082e-87e0-4e46-aa19-f1e94c46c685",
   "metadata": {},
   "outputs": [],
   "source": []
  },
  {
   "cell_type": "code",
   "execution_count": null,
   "id": "8d4149d4-fd7d-4257-8106-e2d160de1822",
   "metadata": {},
   "outputs": [],
   "source": []
  },
  {
   "cell_type": "markdown",
   "id": "625e61bf-6bc1-47d3-9e9c-c9b89bf3d880",
   "metadata": {
    "tags": []
   },
   "source": [
    "# PANDAS"
   ]
  },
  {
   "cell_type": "markdown",
   "id": "bad29619-f6e6-4746-867c-d9ed50f2da00",
   "metadata": {},
   "source": [
    "## Exercises\n",
    "Import the pandas library.\n",
    "Load the \"Titanic\" dataset using the commands  \n",
    "url = 'https://raw.githubusercontent.com/pal-dev-labs/Python-for-Economic-Applications/main/Data/titanic.csv'  \n",
    "df = pd.read_csv(url)\n",
    "\n",
    "- Print the information on the table\n",
    "- Extract the column of survived and print it\n",
    "- count the total number of survived\n",
    "- Extract the column of fares. extract the row from 10 to 100 and print it on the screen. Sort the column and extract the first 30 more expensive tickets. Calculate the total amount of the tickets\n",
    "- Using filters print the passengers above and below 18. \n",
    "- Using filters print the male and female passengers\n",
    "- In the column of fares create a filter that cut the fares below the average fare. use the filter to print all the name of the passenger that have a ticket above the average fare.\n",
    "- Check for missing values in the dataset.\n",
    "- Impute missing values in numerical columns (e.g., Age) using a suitable method (e.g., mean, median).\n",
    "- Check for duplicates in the dataset.\n",
    "- Drop duplicate rows if necessary."
   ]
  }
 ],
 "metadata": {
  "kernelspec": {
   "display_name": "Python 3 (ipykernel)",
   "language": "python",
   "name": "python3"
  },
  "language_info": {
   "codemirror_mode": {
    "name": "ipython",
    "version": 3
   },
   "file_extension": ".py",
   "mimetype": "text/x-python",
   "name": "python",
   "nbconvert_exporter": "python",
   "pygments_lexer": "ipython3",
   "version": "3.11.5"
  }
 },
 "nbformat": 4,
 "nbformat_minor": 5
}
