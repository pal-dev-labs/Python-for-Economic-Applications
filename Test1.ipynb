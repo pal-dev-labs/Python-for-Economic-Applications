{
 "cells": [
  {
   "cell_type": "markdown",
   "id": "6d8901a8-8bc0-4ff7-b725-d2a415dffd37",
   "metadata": {},
   "source": [
    "## INSTRUCTIONS\n",
    "- You have 50 minutes to complete the below exercise\n",
    "- Run the cells in order to verify the output\n",
    "- Download locally the notebook (click on File-Download) and send it to giando.palumbo2@gmail.com "
   ]
  },
  {
   "cell_type": "markdown",
   "id": "d9b6423e-d791-4585-bd9f-9bc4b1b8876a",
   "metadata": {
    "tags": []
   },
   "source": [
    "# Exercise 1: \n",
    "Write a program that calculate the area of a square based on the side. \n",
    "Ask user to enter the side of the square.\n"
   ]
  },
  {
   "cell_type": "code",
   "execution_count": null,
   "id": "e5245b8c-d67d-4c86-8508-95a2e69dc74e",
   "metadata": {
    "tags": []
   },
   "outputs": [],
   "source": [
    "a = float(input(\"Insert the side\"))\n",
    "area = #insert code here\n",
    "print('Area of the square is ',area)"
   ]
  },
  {
   "cell_type": "code",
   "execution_count": null,
   "id": "f73f2cea-b33d-497d-9bed-f2fb329fd096",
   "metadata": {},
   "outputs": [],
   "source": []
  },
  {
   "cell_type": "markdown",
   "id": "55accf9d-6ef6-487c-a1bf-1eb4f5aa23bf",
   "metadata": {},
   "source": [
    "# Exercise 2: \n",
    "Write a function that take three numbers as input and return the average.\n",
    "\n"
   ]
  },
  {
   "cell_type": "code",
   "execution_count": null,
   "id": "7a0d8252-9560-4b3f-ba67-118dc61d6c3f",
   "metadata": {
    "tags": []
   },
   "outputs": [],
   "source": [
    "def average (x,y,z):\n",
    "    #insert code here\n",
    "    pass\n",
    "\n",
    "# test funtion here"
   ]
  },
  {
   "cell_type": "code",
   "execution_count": null,
   "id": "2814501e-ffe5-4b50-acea-cc29215692ec",
   "metadata": {},
   "outputs": [],
   "source": []
  },
  {
   "cell_type": "markdown",
   "id": "09a546b6-cb00-49b4-8e19-24b68418d6ea",
   "metadata": {},
   "source": [
    "# Exercise 3:\n",
    "Write a function that takes a list of numbers as input and returns the average of the numbers.\n",
    "suggestion:  \n",
    "len(list) give the length of the list   \n",
    "sum(list) give the sum of the element of the list\n",
    "\n"
   ]
  },
  {
   "cell_type": "code",
   "execution_count": null,
   "id": "0a8962d1-5d44-4cc7-a361-76d9c3760399",
   "metadata": {
    "tags": []
   },
   "outputs": [],
   "source": [
    "def listaverage (thelist):\n",
    "    #insert code here\n",
    "    pass\n",
    "\n",
    "# test funtion here"
   ]
  },
  {
   "cell_type": "code",
   "execution_count": null,
   "id": "70a9f10f-a0d4-4480-be78-cc1fb026e05a",
   "metadata": {},
   "outputs": [],
   "source": []
  },
  {
   "cell_type": "code",
   "execution_count": null,
   "id": "561afd62-6164-404c-a7e4-8d3e063791e4",
   "metadata": {},
   "outputs": [],
   "source": []
  },
  {
   "cell_type": "markdown",
   "id": "eae2e456-8d48-4af8-b95a-7993f9d8abd6",
   "metadata": {},
   "source": [
    "# Exercise 4:  \n",
    "Write an anonymous function that calculate the area of a triangle.\n",
    "Calculate the area for h=10, b=20\n",
    "\n"
   ]
  },
  {
   "cell_type": "code",
   "execution_count": null,
   "id": "e2f9c9e3-796b-414a-9037-1b8ddf1aea16",
   "metadata": {},
   "outputs": [],
   "source": [
    "areaTriangle = lambda ...... #insert code here\n",
    "\n",
    "# calculate here the area for h=10, b= 20\n",
    "\n",
    "# print here the value of the area"
   ]
  },
  {
   "cell_type": "code",
   "execution_count": null,
   "id": "91e26ce0-bb7c-43e3-bc82-d9d0827e255b",
   "metadata": {},
   "outputs": [],
   "source": []
  },
  {
   "cell_type": "code",
   "execution_count": null,
   "id": "45a49114-994f-4bca-ab0d-982c307d9f52",
   "metadata": {},
   "outputs": [],
   "source": []
  },
  {
   "cell_type": "markdown",
   "id": "236c09e8-ee15-4bce-87eb-c8835d8e14ef",
   "metadata": {
    "tags": []
   },
   "source": [
    "# Exercise 5: \n",
    "Write an instruction that add 3 to all element of a list using the map() function.\n",
    "\n"
   ]
  },
  {
   "cell_type": "code",
   "execution_count": null,
   "id": "f934a521-eec0-4dab-90c5-0a4fc10714a5",
   "metadata": {
    "tags": []
   },
   "outputs": [],
   "source": [
    "updatedList = list(#insert code here)\n",
    "print(updatedList)"
   ]
  },
  {
   "cell_type": "code",
   "execution_count": null,
   "id": "1eda9c57-b26b-4f24-99e1-2783a2846231",
   "metadata": {},
   "outputs": [],
   "source": []
  },
  {
   "cell_type": "code",
   "execution_count": null,
   "id": "1cb7c6d3-488e-4e73-8d04-3e1c43068b9f",
   "metadata": {},
   "outputs": [],
   "source": []
  },
  {
   "cell_type": "markdown",
   "id": "fcf29ace-0842-4512-a8d2-c5e87fab6dcb",
   "metadata": {},
   "source": [
    "# Exercise 6: \n",
    "\n",
    "Write a program that print if a number is less than 5   \n",
    "Output:  \n",
    "Insert a number: 7  \n",
    "the number is between 5 and 8"
   ]
  },
  {
   "cell_type": "code",
   "execution_count": null,
   "id": "6493e316-c9c6-422c-a0e0-b7cfbcf04fa1",
   "metadata": {},
   "outputs": [],
   "source": [
    "number = float(input(\"Insert a number\"))\n",
    "if #insert code here:\n",
    "    #insert code here"
   ]
  },
  {
   "cell_type": "code",
   "execution_count": null,
   "id": "49fbbc62-8d43-4843-9c9c-8e97e22dd267",
   "metadata": {},
   "outputs": [],
   "source": []
  },
  {
   "cell_type": "code",
   "execution_count": null,
   "id": "c545ec84-7036-482f-99b0-6c901c2f6508",
   "metadata": {},
   "outputs": [],
   "source": []
  },
  {
   "cell_type": "markdown",
   "id": "3d7777a4-3c06-4c06-a555-1499d92a54b9",
   "metadata": {},
   "source": [
    "# Exercise 7: \n",
    "\n",
    "Write a program that print if a number is less than 5, between 5 and 8, or bigger than 8.  \n",
    "Output:  \n",
    "Enter a number: 7  \n",
    "the number is between 5 and 8"
   ]
  },
  {
   "cell_type": "code",
   "execution_count": null,
   "id": "600d5aa5-bdba-404e-9c3d-1fe53538a5fb",
   "metadata": {},
   "outputs": [],
   "source": [
    "number = float(input(\"Insert a number\"))\n",
    "if <insert code here>:\n",
    "    <insert code here>\n",
    "elif <insert code here> and <insert code here>:\n",
    "    <insert code here>\n",
    "else: <insert code here>"
   ]
  },
  {
   "cell_type": "code",
   "execution_count": null,
   "id": "b7f96b05-76a6-4114-b4d4-e99f52cc5b9a",
   "metadata": {},
   "outputs": [],
   "source": []
  },
  {
   "cell_type": "code",
   "execution_count": null,
   "id": "4a65d021-8f69-4a11-ace0-3832a02dc9d7",
   "metadata": {},
   "outputs": [],
   "source": []
  },
  {
   "cell_type": "markdown",
   "id": "00a5fda7-ae46-44e0-8d74-0874e3d6c886",
   "metadata": {},
   "source": [
    "# Exercise 8: \n",
    "Given a list, using a for loop structure, write a program that print all the numbers bigger than 10 in the list.\n",
    "\n"
   ]
  },
  {
   "cell_type": "code",
   "execution_count": null,
   "id": "1a8dbedc-df98-446d-a26d-4dfa9e593bc5",
   "metadata": {},
   "outputs": [],
   "source": [
    "list8 = [6,4,3,6,7,9,8,3,2,3,45,67,8,5,4,3,5,67,87,8,4,4,3,5,676,7,65,5,4,3,3,5,2,3,4,6,4,3,46,7,7,8,6,67,4,4,34,5,6,76,7,5,4]\n",
    "\n",
    "for i in <insert code>:\n",
    "    if <insert code>:\n",
    "        <insert code>\n",
    "        "
   ]
  },
  {
   "cell_type": "code",
   "execution_count": null,
   "id": "d69134b4-1cb5-4fba-ad12-981d941a2c7f",
   "metadata": {},
   "outputs": [],
   "source": []
  },
  {
   "cell_type": "code",
   "execution_count": null,
   "id": "e5b549e2-a0ae-4f7b-b024-3030e97e4589",
   "metadata": {},
   "outputs": [],
   "source": []
  },
  {
   "cell_type": "markdown",
   "id": "026231d1-49f0-479c-96a6-59d5e7db0f28",
   "metadata": {},
   "source": [
    "# Exercise 9:  \n",
    "Write a program that prints the multiplication table of the first 9 number.\n",
    "\n"
   ]
  },
  {
   "cell_type": "code",
   "execution_count": null,
   "id": "77256280-6af4-4b4e-8000-7bd3ffeb247a",
   "metadata": {},
   "outputs": [],
   "source": []
  },
  {
   "cell_type": "code",
   "execution_count": null,
   "id": "eddbac18-33be-455b-9636-ab9761b043e2",
   "metadata": {},
   "outputs": [],
   "source": []
  },
  {
   "cell_type": "markdown",
   "id": "8e937220-b56c-415f-849d-af2f6e6784f6",
   "metadata": {},
   "source": [
    "# Exercise 10:  \n",
    "Write a program that checks if a number is a prime number.\n",
    "\n"
   ]
  },
  {
   "cell_type": "code",
   "execution_count": null,
   "id": "63afb5fb-7dfa-49d9-bd9b-4504ce8ecd6f",
   "metadata": {},
   "outputs": [],
   "source": []
  },
  {
   "cell_type": "code",
   "execution_count": null,
   "id": "234cafea-7ffe-4730-825a-56895c101efd",
   "metadata": {},
   "outputs": [],
   "source": []
  },
  {
   "cell_type": "markdown",
   "id": "d115f0ba-68b7-4f2f-a50f-335c010b0179",
   "metadata": {},
   "source": [
    "# Exercise 11\n",
    "Write a program that calculate the Factorial of a given number\n"
   ]
  },
  {
   "cell_type": "code",
   "execution_count": null,
   "id": "cc8d491d-20df-420e-9262-c0a4ed8dac03",
   "metadata": {},
   "outputs": [],
   "source": []
  },
  {
   "cell_type": "code",
   "execution_count": null,
   "id": "2b48203b-fa7a-4190-8ec9-7156b1028e46",
   "metadata": {},
   "outputs": [],
   "source": []
  }
 ],
 "metadata": {
  "kernelspec": {
   "display_name": "Python 3 (ipykernel)",
   "language": "python",
   "name": "python3"
  },
  "language_info": {
   "codemirror_mode": {
    "name": "ipython",
    "version": 3
   },
   "file_extension": ".py",
   "mimetype": "text/x-python",
   "name": "python",
   "nbconvert_exporter": "python",
   "pygments_lexer": "ipython3",
   "version": "3.11.5"
  }
 },
 "nbformat": 4,
 "nbformat_minor": 5
}
