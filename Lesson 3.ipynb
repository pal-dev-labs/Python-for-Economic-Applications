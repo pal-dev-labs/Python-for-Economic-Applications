{
 "cells": [
  {
   "cell_type": "code",
   "execution_count": null,
   "id": "a881a695-13e0-44b8-a2ca-4462379bfe4f",
   "metadata": {},
   "outputs": [],
   "source": []
  },
  {
   "cell_type": "markdown",
   "id": "66f20107-b4c1-4129-92da-aaa1258c3c0b",
   "metadata": {
    "tags": []
   },
   "source": [
    "# Data Structures: LIST\n",
    "Lists are very similar to arrays. They can contain any type of variable, and they can contain as many variables as you wish. Lists can also be iterated over in a very simple manner.\n",
    "\n",
    "Here is an example of how to build a list"
   ]
  },
  {
   "cell_type": "code",
   "execution_count": 3,
   "id": "e04b4098-c737-4e31-8267-cd681ca21d15",
   "metadata": {
    "tags": []
   },
   "outputs": [],
   "source": [
    "squares = [1, 4, 9, 16, 25]"
   ]
  },
  {
   "cell_type": "code",
   "execution_count": 4,
   "id": "a3ac100f-27bb-4922-9705-4df42d58b7a2",
   "metadata": {
    "tags": []
   },
   "outputs": [
    {
     "name": "stdout",
     "output_type": "stream",
     "text": [
      "[1, 4, 9, 16, 25]\n"
     ]
    }
   ],
   "source": [
    "print(squares)"
   ]
  },
  {
   "cell_type": "code",
   "execution_count": 6,
   "id": "0fa359bf-83b6-400e-ba50-da5278b7605c",
   "metadata": {
    "tags": []
   },
   "outputs": [
    {
     "name": "stdout",
     "output_type": "stream",
     "text": [
      "1\n"
     ]
    }
   ],
   "source": [
    "# Like strings (and all other built-in sequence type), lists can be\n",
    "# indexed and sliced:\n",
    "print( squares[0])  # indexing returns the item"
   ]
  },
  {
   "cell_type": "code",
   "execution_count": 7,
   "id": "d5946988-caca-440b-84ca-b122b3e057da",
   "metadata": {
    "tags": []
   },
   "outputs": [
    {
     "name": "stdout",
     "output_type": "stream",
     "text": [
      "25\n",
      "[9, 16, 25]\n"
     ]
    }
   ],
   "source": [
    "# Like strings (and all other built-in sequence type), lists can be\n",
    "# indexed and sliced:\n",
    "print( squares[-1]) \n",
    "print( squares[-3:])   # slicing returns a new list"
   ]
  },
  {
   "cell_type": "code",
   "execution_count": 8,
   "id": "93e0a438-c3c1-4d58-92fb-1efab96be877",
   "metadata": {
    "tags": []
   },
   "outputs": [
    {
     "name": "stdout",
     "output_type": "stream",
     "text": [
      "[1, 4, 9, 16, 25]\n"
     ]
    }
   ],
   "source": [
    "# All slice operations return a new list containing the requested elements.\n",
    "# This means that the following slice returns a new (shallow) copy of\n",
    "# the list:\n",
    "print( squares[:])"
   ]
  },
  {
   "cell_type": "code",
   "execution_count": null,
   "id": "ce4306c2-a517-4311-bb08-3848aeda6c53",
   "metadata": {},
   "outputs": [],
   "source": []
  },
  {
   "cell_type": "code",
   "execution_count": 9,
   "id": "a4583705-1589-47ad-b85c-58eebe263320",
   "metadata": {
    "tags": []
   },
   "outputs": [
    {
     "name": "stdout",
     "output_type": "stream",
     "text": [
      "[1, 4, 9, 16, 25, 36, 49, 64, 81, 100]\n"
     ]
    }
   ],
   "source": [
    "# Lists also support operations like concatenation:\n",
    "print( squares + [36, 49, 64, 81, 100])\n"
   ]
  },
  {
   "cell_type": "code",
   "execution_count": 12,
   "id": "091a9a21-1b09-4c1d-a347-bca09226677f",
   "metadata": {
    "tags": []
   },
   "outputs": [
    {
     "name": "stdout",
     "output_type": "stream",
     "text": [
      "[1, 8, 27, 64, 125]\n"
     ]
    }
   ],
   "source": [
    "# Unlike strings, which are immutable, lists are a mutable type, i.e. it\n",
    "# is possible to change their content:\n",
    "cubes = [1, 8, 27, 65, 125]  # something's wrong here, the cube of 4 is 64!\n",
    "cubes[3] = 64  # replace the wrong value\n",
    "print( cubes )\n"
   ]
  },
  {
   "cell_type": "code",
   "execution_count": 18,
   "id": "55d921a4-d9de-4743-9729-6e4ed1c64f6f",
   "metadata": {
    "tags": []
   },
   "outputs": [
    {
     "name": "stdout",
     "output_type": "stream",
     "text": [
      "[343, 216, 125, 64, 27, 8, 1, 216, 216, 343]\n"
     ]
    }
   ],
   "source": [
    "# You can also add new items at the end of the list, by using\n",
    "# the append() method\n",
    "cubes.append(216)  # add the cube of 6\n",
    "cubes.append(7 ** 3)  # and the cube of 7\n",
    "print( cubes )"
   ]
  },
  {
   "cell_type": "code",
   "execution_count": null,
   "id": "29c61a7f-f2d3-4d07-9960-66a902f7a8a4",
   "metadata": {},
   "outputs": [],
   "source": []
  },
  {
   "cell_type": "code",
   "execution_count": 19,
   "id": "b1767276-5b6a-444a-9909-129622d50025",
   "metadata": {
    "tags": []
   },
   "outputs": [
    {
     "name": "stdout",
     "output_type": "stream",
     "text": [
      "['a', 'b', 'c', 'd', 'e', 'f', 'g']\n"
     ]
    }
   ],
   "source": [
    "# Assignment to slices is also possible, and this can even change the size\n",
    "# of the list or clear it entirely:\n",
    "letters = ['a', 'b', 'c', 'd', 'e', 'f', 'g']\n",
    "print( letters )\n",
    "\n"
   ]
  },
  {
   "cell_type": "code",
   "execution_count": 21,
   "id": "ed8a7776-a095-46f0-bb00-d980fe732313",
   "metadata": {
    "tags": []
   },
   "outputs": [
    {
     "name": "stdout",
     "output_type": "stream",
     "text": [
      "['a', 'b', 'C', 'D', 'E', 'f', 'g']\n"
     ]
    }
   ],
   "source": [
    "letters[2:5] = ['C', 'D', 'E'] # replace some values\n",
    "print( letters )\n"
   ]
  },
  {
   "cell_type": "code",
   "execution_count": 22,
   "id": "5c3c4e5e-6224-410c-af73-95ea13ccfafa",
   "metadata": {
    "tags": []
   },
   "outputs": [
    {
     "name": "stdout",
     "output_type": "stream",
     "text": [
      "['a', 'b', 'f', 'g']\n"
     ]
    }
   ],
   "source": [
    "letters[2:5] = []  # now remove them\n",
    "print( letters )\n"
   ]
  },
  {
   "cell_type": "code",
   "execution_count": 23,
   "id": "15ce2d5b-e502-4a0c-bb65-ca740ae7eab8",
   "metadata": {
    "tags": []
   },
   "outputs": [
    {
     "name": "stdout",
     "output_type": "stream",
     "text": [
      "[]\n"
     ]
    }
   ],
   "source": [
    "# clear the list by replacing all the elements with an empty list\n",
    "letters[:] = []\n",
    "print( letters )\n"
   ]
  },
  {
   "cell_type": "code",
   "execution_count": 24,
   "id": "b9f21ad6-1361-4385-9997-2f85d36e184c",
   "metadata": {
    "tags": []
   },
   "outputs": [
    {
     "name": "stdout",
     "output_type": "stream",
     "text": [
      "4\n"
     ]
    }
   ],
   "source": [
    "# The built-in function len() also applies to lists\n",
    "letters = ['a', 'b', 'c', 'd']\n",
    "print( len(letters) )\n"
   ]
  },
  {
   "cell_type": "code",
   "execution_count": 25,
   "id": "1c1b808b-ccd9-4751-8794-5a4708f64a5b",
   "metadata": {
    "tags": []
   },
   "outputs": [
    {
     "name": "stdout",
     "output_type": "stream",
     "text": [
      "[['a', 'b', 'c'], [1, 2, 3]]\n",
      "['a', 'b', 'c']\n",
      "b\n"
     ]
    }
   ],
   "source": [
    "# It is possible to nest lists (create lists containing other lists),\n",
    "# for example:\n",
    "list_of_chars = ['a', 'b', 'c']\n",
    "list_of_numbers = [1, 2, 3]\n",
    "mixed_list = [list_of_chars, list_of_numbers]\n",
    "print( mixed_list )\n",
    "print( mixed_list[0] )\n",
    "print( mixed_list[0][1] )"
   ]
  },
  {
   "cell_type": "code",
   "execution_count": null,
   "id": "41ea87ac-d88a-4079-ba8e-ea6ab9251a99",
   "metadata": {},
   "outputs": [],
   "source": []
  },
  {
   "cell_type": "markdown",
   "id": "eabf3d85-daa6-47da-94c4-f60b3e8449d9",
   "metadata": {},
   "source": [
    "# LIST methods"
   ]
  },
  {
   "cell_type": "code",
   "execution_count": 29,
   "id": "c80789c6-11a0-4278-a9d8-5dbf8cd57e82",
   "metadata": {
    "tags": []
   },
   "outputs": [
    {
     "name": "stdout",
     "output_type": "stream",
     "text": [
      "['orange', 'apple', 'pear', 'banana', 'kiwi', 'apple', 'banana', 'grape']\n"
     ]
    }
   ],
   "source": [
    "fruits = ['orange', 'apple', 'pear', 'banana', 'kiwi', 'apple', 'banana']\n",
    "\n",
    "# list.append(x)\n",
    "# Add an item to the end of the list.\n",
    "# Equivalent to a[len(a):] = [x].\n",
    "fruits.append('grape')\n",
    "print( fruits)"
   ]
  },
  {
   "cell_type": "code",
   "execution_count": 30,
   "id": "5679adbb-c945-4d44-8c8c-ee0c8eec4c26",
   "metadata": {
    "tags": []
   },
   "outputs": [
    {
     "name": "stdout",
     "output_type": "stream",
     "text": [
      "['orange', 'apple', 'pear', 'banana', 'kiwi', 'apple', 'banana']\n"
     ]
    }
   ],
   "source": [
    "# list.remove(x)\n",
    "# Remove the first item from the list whose value is equal to x.\n",
    "# It raises a ValueError if there is no such item.\n",
    "fruits.remove('grape')\n",
    "print( fruits )"
   ]
  },
  {
   "cell_type": "code",
   "execution_count": 32,
   "id": "71790ba9-1faa-4ea7-bbf3-a5aedd27e6c9",
   "metadata": {
    "tags": []
   },
   "outputs": [
    {
     "name": "stdout",
     "output_type": "stream",
     "text": [
      "['grape', 'grape', 'orange', 'apple', 'pear', 'banana', 'kiwi', 'apple', 'banana']\n"
     ]
    }
   ],
   "source": [
    "# list.insert(i, x)\n",
    "# Insert an item at a given position. The first argument is the index of the element\n",
    "# before which to insert, so a.insert(0, x) inserts at the front of the list,\n",
    "# and a.insert(len(a), x) is equivalent to a.append(x).\n",
    "fruits.insert(0, 'grape')\n",
    "print( fruits )"
   ]
  },
  {
   "cell_type": "code",
   "execution_count": 33,
   "id": "8039aed2-6d2c-4703-9f31-779583b9cce2",
   "metadata": {
    "tags": []
   },
   "outputs": [
    {
     "name": "stdout",
     "output_type": "stream",
     "text": [
      "0\n",
      "2\n",
      "5\n",
      "5\n"
     ]
    }
   ],
   "source": [
    "# list.index(x[, start[, end]])\n",
    "# Return zero-based index in the list of the first item whose value is equal to x.\n",
    "# Raises a ValueError if there is no such item.\n",
    "# The optional arguments start and end are interpreted as in the slice notation and are used\n",
    "# to limit the search to a particular subsequence of the list. The returned index is computed\n",
    "# relative to the beginning of the full sequence rather than the start argument.\n",
    "print( fruits.index('grape') )\n",
    "print( fruits.index('orange') )\n",
    "print( fruits.index('banana') )\n",
    "print( fruits.index('banana', 5) )  # Find next banana starting a position 5"
   ]
  },
  {
   "cell_type": "code",
   "execution_count": 34,
   "id": "a0b49ddf-23d9-4bc0-a3ab-85a48cd02afd",
   "metadata": {
    "tags": []
   },
   "outputs": [
    {
     "name": "stdout",
     "output_type": "stream",
     "text": [
      "0\n",
      "2\n"
     ]
    }
   ],
   "source": [
    "# list.count(x)\n",
    "# Return the number of times x appears in the list.\n",
    "print( fruits.count('tangerine'))\n",
    "print( fruits.count('banana') )\n"
   ]
  },
  {
   "cell_type": "code",
   "execution_count": 35,
   "id": "a7df0f33-08fd-41e3-9067-0e72c20d6f31",
   "metadata": {
    "tags": []
   },
   "outputs": [
    {
     "name": "stdout",
     "output_type": "stream",
     "text": [
      "['grape', 'grape', 'orange', 'apple', 'pear', 'banana', 'kiwi', 'apple', 'banana']\n"
     ]
    }
   ],
   "source": [
    "\n",
    "# list.copy()\n",
    "# Return a shallow copy of the list. Equivalent to a[:].\n",
    "fruits_copy = fruits.copy()\n",
    "print( fruits_copy )\n"
   ]
  },
  {
   "cell_type": "code",
   "execution_count": 37,
   "id": "95a28cf9-f724-457d-9fcf-8afa6ca656df",
   "metadata": {
    "tags": []
   },
   "outputs": [
    {
     "name": "stdout",
     "output_type": "stream",
     "text": [
      "['banana', 'apple', 'kiwi', 'banana', 'pear', 'apple', 'orange', 'grape', 'grape']\n"
     ]
    }
   ],
   "source": [
    "# list.reverse()\n",
    "# Reverse the elements of the list in place.\n",
    "fruits_copy.reverse()\n",
    "print( fruits_copy )\n",
    "\n"
   ]
  },
  {
   "cell_type": "code",
   "execution_count": 38,
   "id": "fe749ca4-6048-4306-b21a-b63aa702a61d",
   "metadata": {
    "tags": []
   },
   "outputs": [
    {
     "name": "stdout",
     "output_type": "stream",
     "text": [
      "['apple', 'apple', 'banana', 'banana', 'grape', 'grape', 'kiwi', 'orange', 'pear']\n"
     ]
    }
   ],
   "source": [
    "# list.sort(key=None, reverse=False)\n",
    "# Sort the items of the list in place (the arguments can be used for sort customization,\n",
    "# see sorted() for their explanation).\n",
    "fruits_copy.sort()\n",
    "print( fruits_copy )\n"
   ]
  },
  {
   "cell_type": "code",
   "execution_count": 39,
   "id": "3ae87c29-049d-4f0a-b175-7020ea41e37b",
   "metadata": {
    "tags": []
   },
   "outputs": [
    {
     "name": "stdout",
     "output_type": "stream",
     "text": [
      "['grape', 'grape', 'orange', 'apple', 'pear', 'banana', 'kiwi', 'apple', 'banana']\n",
      "banana\n",
      "['grape', 'grape', 'orange', 'apple', 'pear', 'banana', 'kiwi', 'apple']\n"
     ]
    }
   ],
   "source": [
    "# list.pop([i])\n",
    "# Remove the item at the given position in the list, and return it. If no index is specified,\n",
    "# a.pop() removes and returns the last item in the list. (The square brackets around the i in\n",
    "# the method signature denote that the parameter is optional, not that you should type square\n",
    "# brackets at that position.)\n",
    "print( fruits )\n",
    "print( fruits.pop() )\n",
    "print( fruits )\n"
   ]
  },
  {
   "cell_type": "code",
   "execution_count": 41,
   "id": "dc948a52-581c-4609-a5f1-e9130505971d",
   "metadata": {
    "tags": []
   },
   "outputs": [
    {
     "name": "stdout",
     "output_type": "stream",
     "text": [
      "[]\n"
     ]
    }
   ],
   "source": [
    "\n",
    "# list.clear()\n",
    "# Remove all items from the list. Equivalent to del a[:].\n",
    "fruits.clear()\n",
    "print( fruits)"
   ]
  },
  {
   "cell_type": "markdown",
   "id": "bd6caceb-f91a-4596-9606-0080196d4917",
   "metadata": {},
   "source": [
    "# List Comprehensions.  \n",
    "List comprehensions provide a concise way to create lists.  \n",
    "Common applications are to make new lists where each element is the result of some operations applied to each member of another sequence or iterable, or to create a subsequence of those elements that satisfy a certain condition.  \n",
    "A list comprehension consists of brackets containing an expression followed by a for clause, then zero or more for or if clauses.  \n",
    "The result will be a new list resulting from evaluating the expression in the context of the for and if clauses which follow it."
   ]
  },
  {
   "cell_type": "code",
   "execution_count": 42,
   "id": "0e99f91f-e52b-4297-9e62-2ccf244a5952",
   "metadata": {
    "tags": []
   },
   "outputs": [
    {
     "name": "stdout",
     "output_type": "stream",
     "text": [
      "[0, 1, 4, 9, 16, 25, 36, 49, 64, 81]\n"
     ]
    }
   ],
   "source": [
    "# For example, assume we want to create a list of squares, like:\n",
    "squares = []\n",
    "for number in range(10):\n",
    "    squares.append(number ** 2)\n",
    "\n",
    "print( squares )"
   ]
  },
  {
   "cell_type": "code",
   "execution_count": 44,
   "id": "d086a8bd-b5cf-4be8-b5ef-eb342729ad0a",
   "metadata": {
    "tags": []
   },
   "outputs": [
    {
     "name": "stdout",
     "output_type": "stream",
     "text": [
      "[0, 1, 4, 9, 16, 25, 36, 49, 64, 81]\n"
     ]
    }
   ],
   "source": [
    "\n",
    "# Note that this creates (or overwrites) a variable named \"number\" that still exists after\n",
    "# the loop completes. We can calculate the list of squares without any side effects using:\n",
    "squares = list(map(lambda x: x ** 2, range(10)))\n",
    "print( squares )"
   ]
  },
  {
   "cell_type": "code",
   "execution_count": 46,
   "id": "c734369c-cf63-459c-8ced-dbb646402af8",
   "metadata": {
    "tags": []
   },
   "outputs": [
    {
     "name": "stdout",
     "output_type": "stream",
     "text": [
      "[0, 1, 4, 9, 16, 25, 36, 49, 64, 81]\n"
     ]
    }
   ],
   "source": [
    "\n",
    "# or, equivalently (which is more concise and readable):\n",
    "squares = [x ** 2 for x in range(10)]\n",
    "print( squares )"
   ]
  },
  {
   "cell_type": "code",
   "execution_count": 48,
   "id": "e69a5df4-8f6e-4993-aab4-1e4f4f522d4f",
   "metadata": {
    "tags": []
   },
   "outputs": [
    {
     "name": "stdout",
     "output_type": "stream",
     "text": [
      "[(1, 3), (1, 4), (2, 3), (2, 1), (2, 4), (3, 1), (3, 4)]\n"
     ]
    }
   ],
   "source": [
    "\n",
    "# For example, this listcomp combines the elements of two lists if they are not equal.\n",
    "combinations = [(x, y) for x in [1, 2, 3] for y in [3, 1, 4] if x != y]\n",
    "print( combinations )"
   ]
  },
  {
   "cell_type": "code",
   "execution_count": 50,
   "id": "ade41f68-0ad8-4c93-88e6-ecd8cebdfb7a",
   "metadata": {
    "tags": []
   },
   "outputs": [
    {
     "name": "stdout",
     "output_type": "stream",
     "text": [
      "[(1, 3), (1, 4), (2, 3), (2, 1), (2, 4), (3, 1), (3, 4)]\n"
     ]
    }
   ],
   "source": [
    "# and it’s equivalent to:\n",
    "combinations = []\n",
    "for first_number in [1, 2, 3]:\n",
    "    for second_number in [3, 1, 4]:\n",
    "        if first_number != second_number:\n",
    "            combinations.append((first_number, second_number))\n",
    "\n",
    "print( combinations )"
   ]
  },
  {
   "cell_type": "code",
   "execution_count": 51,
   "id": "b0d06369-3b70-4fac-9c10-dfb108103ffd",
   "metadata": {
    "tags": []
   },
   "outputs": [
    {
     "name": "stdout",
     "output_type": "stream",
     "text": [
      "[-8, -4, 0, 4, 8]\n"
     ]
    }
   ],
   "source": [
    "# Note how the order of the for and if statements is the same in both these snippets.\n",
    "\n",
    "# If the expression is a tuple (e.g. the (x, y) in the previous example),\n",
    "# it must be parenthesized.\n",
    "\n",
    "# Let's see some more examples:\n",
    "\n",
    "vector = [-4, -2, 0, 2, 4]\n",
    "\n",
    "# Create a new list with the values doubled.\n",
    "doubled_vector = [x * 2 for x in vector]\n",
    "print( doubled_vector )"
   ]
  },
  {
   "cell_type": "code",
   "execution_count": 52,
   "id": "5b2a4ad4-62c9-4f7a-87e6-b1c27736a141",
   "metadata": {
    "tags": []
   },
   "outputs": [
    {
     "name": "stdout",
     "output_type": "stream",
     "text": [
      "[0, 2, 4]\n"
     ]
    }
   ],
   "source": [
    "\n",
    "# Filter the list to exclude negative numbers.\n",
    "positive_vector = [x for x in vector if x >= 0]\n",
    "print( positive_vector )"
   ]
  },
  {
   "cell_type": "code",
   "execution_count": 54,
   "id": "fe5c40e1-46be-4cdd-aa73-5877f5272c26",
   "metadata": {
    "tags": []
   },
   "outputs": [
    {
     "name": "stdout",
     "output_type": "stream",
     "text": [
      "[4, 2, 0, 2, 4]\n"
     ]
    }
   ],
   "source": [
    "\n",
    "# Apply a function to all the elements.\n",
    "abs_vector = [abs(x) for x in vector]\n",
    "print( abs_vector )"
   ]
  },
  {
   "cell_type": "code",
   "execution_count": 55,
   "id": "202245ad-38cd-4d8d-86bf-ca407c587b12",
   "metadata": {
    "tags": []
   },
   "outputs": [
    {
     "name": "stdout",
     "output_type": "stream",
     "text": [
      "['banana', 'loganberry', 'passion fruit']\n"
     ]
    }
   ],
   "source": [
    "# Call a method on each element.\n",
    "fresh_fruit = ['  banana', '  loganberry ', 'passion fruit  ']\n",
    "clean_fresh_fruit = [weapon.strip() for weapon in fresh_fruit]\n",
    "print( clean_fresh_fruit )"
   ]
  },
  {
   "cell_type": "code",
   "execution_count": 56,
   "id": "799751a1-01fb-4d7e-bef5-5db620b64374",
   "metadata": {
    "tags": []
   },
   "outputs": [
    {
     "name": "stdout",
     "output_type": "stream",
     "text": [
      "[(0, 0), (1, 1), (2, 4), (3, 9), (4, 16), (5, 25)]\n"
     ]
    }
   ],
   "source": [
    "\n",
    "# Create a list of 2-tuples like (number, square).\n",
    "square_tuples = [(x, x ** 2) for x in range(6)]\n",
    "print( square_tuples )"
   ]
  },
  {
   "cell_type": "code",
   "execution_count": null,
   "id": "8c7556da-5e90-443f-9a81-1b1f5a881b3a",
   "metadata": {},
   "outputs": [],
   "source": [
    "\n"
   ]
  },
  {
   "cell_type": "markdown",
   "id": "9afcafcc-5f0c-4bb4-b122-01494975e4cd",
   "metadata": {},
   "source": [
    "# Data Structures: Dictionaries  \n",
    "A dictionary is a collection which is unordered, changeable and indexed. \n",
    "In Python dictionaries are written with curly brackets, and they have keys and values.  \n",
    "\n",
    "Dictionaries are sometimes found in other languages as “associative memories” or “associative arrays”.  \n",
    "Unlike sequences, which are indexed by a range of numbers, dictionaries are indexed by keys, which can be any immutable type; strings and numbers can always be keys. \n",
    "\n",
    "It is best to think of a dictionary as a set of key:value pairs, with the requirement that the\n",
    "keys are unique (within one dictionary).   \n",
    "A pair of braces creates an empty dictionary: {}.\n",
    "Placing a comma-separated list of key:value pairs within the braces adds initial key:value pairs to the dictionary; this is also the way dictionaries are written on output."
   ]
  },
  {
   "cell_type": "code",
   "execution_count": 58,
   "id": "dc03400d-9931-4352-b6e6-95396a0a40fa",
   "metadata": {
    "tags": []
   },
   "outputs": [],
   "source": [
    "fruits_dictionary = {\n",
    "    'cherry': 'red',\n",
    "    'apple': 'green',\n",
    "    'banana': 'yellow',\n",
    "}"
   ]
  },
  {
   "cell_type": "code",
   "execution_count": 60,
   "id": "539f12e1-c927-4435-b2f9-4789abd554cf",
   "metadata": {
    "tags": []
   },
   "outputs": [
    {
     "name": "stdout",
     "output_type": "stream",
     "text": [
      "True\n"
     ]
    }
   ],
   "source": [
    "print(isinstance(fruits_dictionary, dict))\n"
   ]
  },
  {
   "cell_type": "code",
   "execution_count": 61,
   "id": "f2babde7-a44e-4ed4-bb11-6d1c30114de2",
   "metadata": {
    "tags": []
   },
   "outputs": [
    {
     "name": "stdout",
     "output_type": "stream",
     "text": [
      "green\n",
      "yellow\n",
      "red\n"
     ]
    }
   ],
   "source": [
    "\n",
    "# You may access set elements by keys.\n",
    "print(fruits_dictionary['apple'])\n",
    "print( fruits_dictionary['banana'] )\n",
    "print( fruits_dictionary['cherry'] )\n"
   ]
  },
  {
   "cell_type": "code",
   "execution_count": 62,
   "id": "51e88832-161d-4b90-a418-15defc4dcdd1",
   "metadata": {
    "tags": []
   },
   "outputs": [
    {
     "name": "stdout",
     "output_type": "stream",
     "text": [
      "True\n",
      "True\n"
     ]
    }
   ],
   "source": [
    "# To check whether a single key is in the dictionary, use the in keyword.\n",
    "print( 'apple' in fruits_dictionary)\n",
    "print( 'pineapple' not in fruits_dictionary)"
   ]
  },
  {
   "cell_type": "code",
   "execution_count": 63,
   "id": "ac374fd0-a786-4811-aa1d-dc77d67cc3d9",
   "metadata": {
    "tags": []
   },
   "outputs": [],
   "source": [
    "# Change the apple color to \"red\".\n",
    "fruits_dictionary['apple'] = 'red'\n"
   ]
  },
  {
   "cell_type": "code",
   "execution_count": 64,
   "id": "d776ecdd-3681-4cf3-a7dd-c2783e0acb70",
   "metadata": {
    "tags": []
   },
   "outputs": [
    {
     "name": "stdout",
     "output_type": "stream",
     "text": [
      "yellow\n"
     ]
    }
   ],
   "source": [
    "\n",
    "# Add new key/value pair to the dictionary\n",
    "fruits_dictionary['pineapple'] = 'yellow'\n",
    "print( fruits_dictionary['pineapple'] )"
   ]
  },
  {
   "cell_type": "code",
   "execution_count": 65,
   "id": "42835858-ab2b-4220-8401-89b5c3af42ea",
   "metadata": {
    "tags": []
   },
   "outputs": [
    {
     "name": "stdout",
     "output_type": "stream",
     "text": [
      "['cherry', 'apple', 'banana', 'pineapple']\n",
      "['apple', 'banana', 'cherry', 'pineapple']\n"
     ]
    }
   ],
   "source": [
    "\n",
    "# Performing list(d) on a dictionary returns a list of all the keys used in the dictionary,\n",
    "# in insertion order (if you want it sorted, just use sorted(d) instead).\n",
    "print( list(fruits_dictionary) )\n",
    "print( sorted(fruits_dictionary))"
   ]
  },
  {
   "cell_type": "code",
   "execution_count": 66,
   "id": "2aacdcbd-7d90-4dd6-80db-7c74a9504b21",
   "metadata": {
    "tags": []
   },
   "outputs": [
    {
     "name": "stdout",
     "output_type": "stream",
     "text": [
      "['cherry', 'apple', 'banana']\n"
     ]
    }
   ],
   "source": [
    "\n",
    "# It is also possible to delete a key:value pair with del.\n",
    "del fruits_dictionary['pineapple']\n",
    "print( list(fruits_dictionary) )"
   ]
  },
  {
   "cell_type": "code",
   "execution_count": null,
   "id": "05414c74-f2a2-4d87-8685-5d194c6db7ab",
   "metadata": {},
   "outputs": [],
   "source": []
  },
  {
   "cell_type": "code",
   "execution_count": 67,
   "id": "12c6e0c9-48c3-485a-a300-d06f694a4d72",
   "metadata": {
    "tags": []
   },
   "outputs": [
    {
     "name": "stdout",
     "output_type": "stream",
     "text": [
      "4139\n",
      "4127\n",
      "4098\n"
     ]
    }
   ],
   "source": [
    "# The dict() constructor builds dictionaries directly from sequences of key-value pairs.\n",
    "dictionary_via_constructor = dict([('sape', 4139), ('guido', 4127), ('jack', 4098)])\n",
    "\n",
    "print( dictionary_via_constructor['sape'] )\n",
    "print( dictionary_via_constructor['guido'] )\n",
    "print( dictionary_via_constructor['jack'] )\n"
   ]
  },
  {
   "cell_type": "code",
   "execution_count": 68,
   "id": "994c2d65-766a-435c-97ed-c5b465cbeb59",
   "metadata": {
    "tags": []
   },
   "outputs": [
    {
     "name": "stdout",
     "output_type": "stream",
     "text": [
      "4\n",
      "16\n",
      "36\n"
     ]
    }
   ],
   "source": [
    "# In addition, dict comprehensions can be used to create dictionaries from arbitrary key\n",
    "# and value expressions:\n",
    "dictionary_via_expression = {x: x**2 for x in (2, 4, 6)}\n",
    "print( dictionary_via_expression[2] )\n",
    "print( dictionary_via_expression[4] )\n",
    "print( dictionary_via_expression[6] )\n"
   ]
  },
  {
   "cell_type": "code",
   "execution_count": 69,
   "id": "4eb9c1ed-8959-4597-afe6-50a5c43f1928",
   "metadata": {
    "tags": []
   },
   "outputs": [
    {
     "name": "stdout",
     "output_type": "stream",
     "text": [
      "4139\n",
      "4127\n",
      "4098\n"
     ]
    }
   ],
   "source": [
    "# When the keys are simple strings, it is sometimes easier to specify pairs using\n",
    "# keyword arguments.\n",
    "dictionary_for_string_keys = dict(sape=4139, guido=4127, jack=4098)\n",
    "print( dictionary_for_string_keys['sape'] )\n",
    "print( dictionary_for_string_keys['guido'] )\n",
    "print( dictionary_for_string_keys['jack'] )"
   ]
  },
  {
   "cell_type": "code",
   "execution_count": null,
   "id": "158e9efb-5c84-4b39-83f8-e89358aef17c",
   "metadata": {},
   "outputs": [],
   "source": []
  },
  {
   "cell_type": "markdown",
   "id": "66b91892-1cf4-4289-9e18-0416796cd812",
   "metadata": {},
   "source": [
    "# Control Structures: WHILE statement\n",
    "\n",
    "The while loop executes as long as the condition remains true. \n",
    "In Python, like in C, any non-zero integer value is true; zero is false. \n",
    "The condition may also be a string or list value, in fact any sequence; anything with a non-zero length is true, empty sequences are false.  \n",
    "The test used in the example is a simple comparison. The standard comparison operators are written the same as in C: < (less than), > (greater than), == (equal to), <= (less than or equal to), >= (greater than or equal to) and != (not equal to).\n"
   ]
  },
  {
   "cell_type": "code",
   "execution_count": 75,
   "id": "eb3bfda3-9d9b-44b8-88b2-f85cdf9c22a2",
   "metadata": {
    "tags": []
   },
   "outputs": [
    {
     "name": "stdout",
     "output_type": "stream",
     "text": [
      "32\n"
     ]
    }
   ],
   "source": [
    "# Let's raise the number to certain power using while loop.\n",
    "number = 2\n",
    "power = 5\n",
    "\n",
    "result = 1\n",
    "\n",
    "while power > 0:\n",
    "    result *= number\n",
    "    power -= 1\n",
    "\n",
    "# 2^5 = 32\n",
    "print( result)"
   ]
  },
  {
   "cell_type": "markdown",
   "id": "508d7100-57c6-4989-a6da-024736661c3f",
   "metadata": {},
   "source": [
    "# CLASSES\n",
    "\n",
    "Python is an object oriented programming language.\n",
    "Almost everything in Python is an object, with its properties and methods.  \n",
    "A Class is like an object constructor, or a \"blueprint\" for creating objects."
   ]
  },
  {
   "cell_type": "code",
   "execution_count": null,
   "id": "5b1f3fa1-c7bb-4d03-83bc-74854ee95225",
   "metadata": {},
   "outputs": [],
   "source": []
  },
  {
   "cell_type": "code",
   "execution_count": 105,
   "id": "05bd0ff8-5c6b-45d4-9176-3cce1808958e",
   "metadata": {
    "tags": []
   },
   "outputs": [],
   "source": [
    "# Class definitions, like function definitions (def statements) must be executed before they\n",
    "# have any effect. (You could conceivably place a class definition in a branch of an if\n",
    "# statement, or inside a function.)\n",
    "\n",
    "class Student:\n",
    "    \n",
    "    # fields \n",
    "    university = 'TorVergata'\n",
    "    name = ''\n",
    "    course = 'Economic Applications'\n",
    "    \n",
    "    # Methods\n",
    "    def getName(self):\n",
    "        \"\"\"Class method.\"\"\"\n",
    "        # The self parameter is a reference to the class itself, and is used to access variables\n",
    "        # that belongs to the class. It does not have to be named self , you can call it\n",
    "        # whatever you like, but it has to be the first parameter of any function in the class.\n",
    "        return 'The name of this student is ' + self.name\n",
    "\n",
    "    def updateName(self, name2):\n",
    "        self.name = name2\n",
    "        return 'Updated to ' + self.name\n",
    "    \n",
    "    def getAllInfo(self):\n",
    "        info = \"Name: \"+self.name+\", course: \"+self.course+\" - University: \"+self.university\n",
    "        return info\n",
    "\n",
    "\n",
    "# When a class definition is entered, a new namespace is created, and used as the local scope —\n",
    "# thus, all assignments to local variables go into this new namespace. In particular, function\n",
    "# definitions bind the name of the new function here.\n",
    "\n",
    "# Class instantiation uses function notation. Just pretend that the class object is a\n",
    "# parameterless function that returns a new instance of the class. For example the following\n",
    "# code will creates a new instance of the class and assigns this object to the local variable.\n",
    "student1 = Student()\n"
   ]
  },
  {
   "cell_type": "code",
   "execution_count": 107,
   "id": "29f41e89-54e5-4d28-bbd7-f62a27b8595c",
   "metadata": {
    "tags": []
   },
   "outputs": [
    {
     "data": {
      "text/plain": [
       "'Updated to Marco Benini'"
      ]
     },
     "execution_count": 107,
     "metadata": {},
     "output_type": "execute_result"
    }
   ],
   "source": [
    "student1.updateName('Marco Benini')\n"
   ]
  },
  {
   "cell_type": "code",
   "execution_count": 109,
   "id": "3020273f-d471-435f-b37d-dbadbe8d0ed4",
   "metadata": {
    "tags": []
   },
   "outputs": [
    {
     "data": {
      "text/plain": [
       "'Name: Marco Benini, course: Economic Applications - University: TorVergata'"
      ]
     },
     "execution_count": 109,
     "metadata": {},
     "output_type": "execute_result"
    }
   ],
   "source": [
    "student1.getAllInfo()"
   ]
  },
  {
   "cell_type": "code",
   "execution_count": null,
   "id": "b81da4f1-0778-47c8-af74-36377d4be63e",
   "metadata": {},
   "outputs": [],
   "source": []
  },
  {
   "cell_type": "code",
   "execution_count": 2,
   "id": "80ddf156-72dd-48ed-a5af-c590e91ea7e8",
   "metadata": {
    "tags": []
   },
   "outputs": [],
   "source": [
    "# create the model\n",
    "class LinearRegressionModel:\n",
    "    \n",
    "    parameters = []\n",
    "    std_err = 0.0\n",
    "    R_square = 0.0\n",
    "    state = \"not trained\"\n",
    "    \n",
    "    def Verifica di fisica sulla Fluidostatica. Argomenti: tutto il relativo capitolo del libro di testo. La verifica prevederà problemi e una domanda di teoria.(self):\n",
    "        return self.std_err\n",
    "    \n",
    "    def train (self, X_train, y_train):\n",
    "        # execute some computation \n",
    "        print(\"training executed\")\n",
    "        self.parameters = [1,2,0.4,4]\n",
    "        self.state =\"trained\"\n",
    "        self.X = X_train\n",
    "        self.y = y_train\n",
    "        \n",
    "        # we update the field\n",
    "        self.R_square=0.8222\n",
    "        self.std_err = 0.4582\n",
    "        \n",
    "    def predict(self, newvalue):\n",
    "        self.prediction = 3.0*newvalue\n",
    "        print(\"Calculated\")\n",
    "        "
   ]
  },
  {
   "cell_type": "code",
   "execution_count": null,
   "id": "558c1f89-1572-4eba-bccd-0a412942310c",
   "metadata": {},
   "outputs": [],
   "source": []
  },
  {
   "cell_type": "code",
   "execution_count": null,
   "id": "d2247586-733c-493c-adb5-7ecbc025eaeb",
   "metadata": {},
   "outputs": [],
   "source": []
  },
  {
   "cell_type": "code",
   "execution_count": 10,
   "id": "2cb10e07-c396-412f-87de-b596af2677f9",
   "metadata": {
    "tags": []
   },
   "outputs": [],
   "source": [
    "firstmodel = LinearRegressionModel()"
   ]
  },
  {
   "cell_type": "code",
   "execution_count": 12,
   "id": "fcdca57d-efad-4771-b68e-db8db980f770",
   "metadata": {
    "tags": []
   },
   "outputs": [
    {
     "data": {
      "text/plain": [
       "'not trained'"
      ]
     },
     "execution_count": 12,
     "metadata": {},
     "output_type": "execute_result"
    }
   ],
   "source": [
    "firstmodel.state"
   ]
  },
  {
   "cell_type": "code",
   "execution_count": 14,
   "id": "a39a9a16-cba5-48aa-9109-9c8410b4888b",
   "metadata": {
    "tags": []
   },
   "outputs": [
    {
     "data": {
      "text/plain": [
       "0.0"
      ]
     },
     "execution_count": 14,
     "metadata": {},
     "output_type": "execute_result"
    }
   ],
   "source": [
    "firstmodel.R_square"
   ]
  },
  {
   "cell_type": "code",
   "execution_count": 15,
   "id": "928ac225-c30c-49a7-8c59-f504844407f9",
   "metadata": {
    "tags": []
   },
   "outputs": [
    {
     "data": {
      "text/plain": [
       "[]"
      ]
     },
     "execution_count": 15,
     "metadata": {},
     "output_type": "execute_result"
    }
   ],
   "source": [
    "firstmodel.parameters"
   ]
  },
  {
   "cell_type": "code",
   "execution_count": 16,
   "id": "e7aac96f-551c-483c-b7f2-972864243b28",
   "metadata": {
    "tags": []
   },
   "outputs": [
    {
     "name": "stdout",
     "output_type": "stream",
     "text": [
      "training executed\n"
     ]
    }
   ],
   "source": [
    "firstmodel.train(1,2)"
   ]
  },
  {
   "cell_type": "code",
   "execution_count": 18,
   "id": "9e49acc7-e301-471d-9975-d67e11659710",
   "metadata": {
    "tags": []
   },
   "outputs": [
    {
     "data": {
      "text/plain": [
       "[1, 2, 0.4, 4]"
      ]
     },
     "execution_count": 18,
     "metadata": {},
     "output_type": "execute_result"
    }
   ],
   "source": [
    "# let's look at some fields. take care that the round brackets  are not needed. we are looking for fields no methods\n",
    "firstmodel.parameters"
   ]
  },
  {
   "cell_type": "code",
   "execution_count": null,
   "id": "929fb0f1-dba0-438f-b288-ee70a0c0f0f1",
   "metadata": {},
   "outputs": [],
   "source": []
  },
  {
   "cell_type": "code",
   "execution_count": 9,
   "id": "f14adc9a-2ddd-46a9-9b5c-cde46545b067",
   "metadata": {
    "tags": []
   },
   "outputs": [
    {
     "data": {
      "text/plain": [
       "'trained'"
      ]
     },
     "execution_count": 9,
     "metadata": {},
     "output_type": "execute_result"
    }
   ],
   "source": [
    "firstmodel.state"
   ]
  },
  {
   "cell_type": "code",
   "execution_count": 19,
   "id": "a51a2c2c-0799-42dc-8175-2b29b6a45cf0",
   "metadata": {
    "tags": []
   },
   "outputs": [
    {
     "data": {
      "text/plain": [
       "0.4582"
      ]
     },
     "execution_count": 19,
     "metadata": {},
     "output_type": "execute_result"
    }
   ],
   "source": [
    "# now we call a method so we need to put round parenthesis\n",
    "firstmodel.get_std_err()"
   ]
  },
  {
   "cell_type": "code",
   "execution_count": 25,
   "id": "09802df1-502b-4034-ad61-32192e5137c3",
   "metadata": {},
   "outputs": [],
   "source": [
    "# now we have a vector of features X_train and a vector of observed variables\n",
    "X_train = [1,2,3]\n",
    "y_train = [0.2]\n"
   ]
  },
  {
   "cell_type": "code",
   "execution_count": 20,
   "id": "980cf9f6-3fd5-430b-abca-4db3435c6869",
   "metadata": {
    "tags": []
   },
   "outputs": [],
   "source": [
    "secondmodel = LinearRegressionModel()"
   ]
  },
  {
   "cell_type": "code",
   "execution_count": 21,
   "id": "ecdb97b3-af7c-4acb-9ea1-24ca49c6047f",
   "metadata": {
    "tags": []
   },
   "outputs": [
    {
     "data": {
      "text/plain": [
       "[]"
      ]
     },
     "execution_count": 21,
     "metadata": {},
     "output_type": "execute_result"
    }
   ],
   "source": [
    "secondmodel.parameters"
   ]
  },
  {
   "cell_type": "code",
   "execution_count": null,
   "id": "b3245ac6-1275-4953-96cb-f77217b076b1",
   "metadata": {},
   "outputs": [],
   "source": []
  },
  {
   "cell_type": "markdown",
   "id": "d09e0c00-1228-433c-a219-39e34e72bdff",
   "metadata": {},
   "source": [
    "# Module\n",
    "\n",
    "As your program gets longer, you may want to split it into several files for easier maintenance.\n",
    "You may also want to use a handy function that you’ve written in several programs without copying\n",
    "its definition into each program.\n",
    "\n",
    "To support this, Python has a way to put definitions in a file and use them in a script or in an\n",
    "interactive instance of the interpreter. Such a file is called a module; definitions from a module\n",
    "can be imported into other modules or into the main module (the collection of variables that you\n",
    "have access to in a script executed at the top level and in calculator mode).\n",
    "A module is a file containing Python definitions and statements. The file name is the module name\n",
    "with the suffix .py appended. Within a module, the module’s name (as a string) is available as the\n",
    "value of the global variable __name__.\n",
    "\n",
    "When the interpreter executes the import statement, it searches for module in a list of\n",
    "directories assembled from the following sources:\n",
    "- The directory from which the input script was run or the current directory if the interpreter is\n",
    "being run interactively\n",
    "- The list of directories contained in the PYTHONPATH environment variable, if it is set. (The\n",
    "format for PYTHONPATH is OS-dependent but should mimic the PATH environment variable.)\n",
    "- An installation-dependent list of directories configured at the time Python is installed\n",
    "The resulting search path is accessible in the Python variable sys.path, which is obtained from a\n",
    "module named sys:\n",
    "\n",
    "import sys\n",
    "\n",
    "sys.path"
   ]
  },
  {
   "cell_type": "code",
   "execution_count": 22,
   "id": "7df370b1-a2a7-4dd3-83c5-60c3d2b90966",
   "metadata": {
    "tags": []
   },
   "outputs": [
    {
     "name": "stdout",
     "output_type": "stream",
     "text": [
      "3.11.5\n",
      "[0. 0. 0. 0.]\n"
     ]
    }
   ],
   "source": [
    "\n",
    "# This does not enter the names of the functions defined in fibonacci_module directly in the\n",
    "# current symbol table; it only enters the module name fibonacci_module there.\n",
    "import numpy as np\n",
    "\n",
    "# There is a variant of the import statement that imports names from a module directly into the\n",
    "# importing module’s symbol table. For example:\n",
    "\n",
    "# pylint: disable=reimported\n",
    "from platform import python_version\n",
    "\n",
    "# There is even a variant to import all names that a module defines. This imports all names except\n",
    "# those beginning with an underscore (_). In most cases Python programmers do not use this facility\n",
    "# since it introduces an unknown set of names into the interpreter, possibly hiding some things you\n",
    "# have already defined.\n",
    "# >>> from fibonacci_module import *\n",
    "\n",
    "# When a module named spam is imported, the interpreter first searches for a built-in module with\n",
    "# that name. If not found, it then searches for a file named spam.py in a list of directories\n",
    "# given by the variable sys.path. sys.path is initialized from these locations:\n",
    "\n",
    "\"\"\"Modules\"\"\"\n",
    "\n",
    "print(python_version())\n",
    "print(np.zeros(4))\n"
   ]
  }
 ],
 "metadata": {
  "kernelspec": {
   "display_name": "Python 3 (ipykernel)",
   "language": "python",
   "name": "python3"
  },
  "language_info": {
   "codemirror_mode": {
    "name": "ipython",
    "version": 3
   },
   "file_extension": ".py",
   "mimetype": "text/x-python",
   "name": "python",
   "nbconvert_exporter": "python",
   "pygments_lexer": "ipython3",
   "version": "3.11.5"
  }
 },
 "nbformat": 4,
 "nbformat_minor": 5
}
